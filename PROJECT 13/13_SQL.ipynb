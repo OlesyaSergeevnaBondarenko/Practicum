{
 "cells": [
  {
   "cell_type": "markdown",
   "metadata": {},
   "source": [
    "Коронавирус застал мир врасплох, изменив привычный порядок вещей. В свободное время жители городов больше не выходят на улицу, не посещают кафе и торговые центры. Зато стало больше времени для книг. Это заметили стартаперы — и бросились создавать приложения для тех, кто любит читать.\n",
    "\n",
    "Ваша компания решила быть на волне и купила крупный сервис для чтения книг по подписке. Ваша первая задача как аналитика — проанализировать базу данных.\n",
    "\n",
    "В ней — информация о книгах, издательствах, авторах, а также пользовательские обзоры книг. Эти данные помогут сформулировать ценностное предложение для нового продукта.\n",
    "\n",
    "Нам даны следующие задания:\n",
    "\n",
    "1.Посчитайте, сколько книг вышло после 1 января 2000 года;\n",
    "\n",
    "2.Для каждой книги посчитайте количество обзоров и среднюю оценку;\n",
    "\n",
    "3.Определите издательство, которое выпустило наибольшее число книг толще 50 страниц — так вы исключите из анализа брошюры;\n",
    "\n",
    "4.Определите автора с самой высокой средней оценкой книг — учитывайте только книги с 50 и более оценками;\n",
    "\n",
    "5.Посчитайте среднее количество обзоров от пользователей, которые поставили больше 48 оценок.\n",
    "\n",
    "Для выполнения заданий мы\n",
    "\n",
    "- опишим цели исследования;\n",
    "\n",
    "- исследуем таблицы — выведите первые строки;\n",
    "\n",
    "- сделаем по одному SQL-запросу для решения каждого задания;\n",
    "\n",
    "- выведем результаты каждого запроса в тетрадке;\n",
    "\n",
    "- опишем выводы по каждой из решённых задач.\n",
    "\n",
    "\n",
    "Основной целью является успешное выполнение этого задания и получить финальный документ, подтверждающий прохождение обучения (йййййёёёёёё-хуууууу).\n",
    "\n",
    "Для этого нам необходимо успешно инпортировать библиотеки и исследовать предоставленные нам таблицы.\n"
   ]
  },
  {
   "cell_type": "markdown",
   "metadata": {},
   "source": [
    "<div class=\"alert alert-block alert-success\">✔️\n",
    "    \n",
    "\n",
    "__Комментарий от тимлида №1__\n",
    "\n",
    "Здорово, что не забываешь про оформление проекта\n",
    "</div>"
   ]
  },
  {
   "cell_type": "code",
   "execution_count": 1,
   "metadata": {},
   "outputs": [],
   "source": [
    "# импортируем библиотеки\n",
    "import pandas as pd\n",
    "from sqlalchemy import text, create_engine\n",
    "# устанавливаем параметры\n",
    "db_config = {'user': 'praktikum_student', # имя пользователя\n",
    "'pwd': 'Sdf4$2;d-d30pp', # пароль\n",
    "'host': 'rc1b-wcoijxj3yxfsf3fs.mdb.yandexcloud.net',\n",
    "'port': 6432, # порт подключения\n",
    "'db': 'data-analyst-final-project-db'} # название базы данных\n",
    "connection_string = 'postgresql://{user}:{pwd}@{host}:{port}/{db}'.format(**db_config)\n",
    "# сохраняем коннектор\n",
    "engine = create_engine(connection_string, connect_args={'sslmode':'require'})\n"
   ]
  },
  {
   "cell_type": "code",
   "execution_count": 2,
   "metadata": {},
   "outputs": [
    {
     "data": {
      "text/html": [
       "<div>\n",
       "<style scoped>\n",
       "    .dataframe tbody tr th:only-of-type {\n",
       "        vertical-align: middle;\n",
       "    }\n",
       "\n",
       "    .dataframe tbody tr th {\n",
       "        vertical-align: top;\n",
       "    }\n",
       "\n",
       "    .dataframe thead th {\n",
       "        text-align: right;\n",
       "    }\n",
       "</style>\n",
       "<table border=\"1\" class=\"dataframe\">\n",
       "  <thead>\n",
       "    <tr style=\"text-align: right;\">\n",
       "      <th></th>\n",
       "      <th>book_id</th>\n",
       "      <th>author_id</th>\n",
       "      <th>title</th>\n",
       "      <th>num_pages</th>\n",
       "      <th>publication_date</th>\n",
       "      <th>publisher_id</th>\n",
       "    </tr>\n",
       "  </thead>\n",
       "  <tbody>\n",
       "    <tr>\n",
       "      <th>0</th>\n",
       "      <td>1</td>\n",
       "      <td>546</td>\n",
       "      <td>'Salem's Lot</td>\n",
       "      <td>594</td>\n",
       "      <td>2005-11-01</td>\n",
       "      <td>93</td>\n",
       "    </tr>\n",
       "    <tr>\n",
       "      <th>1</th>\n",
       "      <td>2</td>\n",
       "      <td>465</td>\n",
       "      <td>1 000 Places to See Before You Die</td>\n",
       "      <td>992</td>\n",
       "      <td>2003-05-22</td>\n",
       "      <td>336</td>\n",
       "    </tr>\n",
       "    <tr>\n",
       "      <th>2</th>\n",
       "      <td>3</td>\n",
       "      <td>407</td>\n",
       "      <td>13 Little Blue Envelopes (Little Blue Envelope...</td>\n",
       "      <td>322</td>\n",
       "      <td>2010-12-21</td>\n",
       "      <td>135</td>\n",
       "    </tr>\n",
       "    <tr>\n",
       "      <th>3</th>\n",
       "      <td>4</td>\n",
       "      <td>82</td>\n",
       "      <td>1491: New Revelations of the Americas Before C...</td>\n",
       "      <td>541</td>\n",
       "      <td>2006-10-10</td>\n",
       "      <td>309</td>\n",
       "    </tr>\n",
       "    <tr>\n",
       "      <th>4</th>\n",
       "      <td>5</td>\n",
       "      <td>125</td>\n",
       "      <td>1776</td>\n",
       "      <td>386</td>\n",
       "      <td>2006-07-04</td>\n",
       "      <td>268</td>\n",
       "    </tr>\n",
       "  </tbody>\n",
       "</table>\n",
       "</div>"
      ],
      "text/plain": [
       "   book_id  author_id                                              title  \\\n",
       "0        1        546                                       'Salem's Lot   \n",
       "1        2        465                 1 000 Places to See Before You Die   \n",
       "2        3        407  13 Little Blue Envelopes (Little Blue Envelope...   \n",
       "3        4         82  1491: New Revelations of the Americas Before C...   \n",
       "4        5        125                                               1776   \n",
       "\n",
       "   num_pages publication_date  publisher_id  \n",
       "0        594       2005-11-01            93  \n",
       "1        992       2003-05-22           336  \n",
       "2        322       2010-12-21           135  \n",
       "3        541       2006-10-10           309  \n",
       "4        386       2006-07-04           268  "
      ]
     },
     "execution_count": 2,
     "metadata": {},
     "output_type": "execute_result"
    }
   ],
   "source": [
    "# изучим первые 5 строк таблицы books\n",
    "query = '''SELECT * FROM books LIMIT 5'''\n",
    "con=engine.connect()\n",
    "pd.io.sql.read_sql(sql=text(query), con = con)"
   ]
  },
  {
   "cell_type": "markdown",
   "metadata": {},
   "source": [
    "Таблица books\n",
    "\n",
    "Содержит данные о книгах:\n",
    "\n",
    "book_id — идентификатор книги;\n",
    "\n",
    "author_id — идентификатор автора;\n",
    "\n",
    "title — название книги;\n",
    "\n",
    "num_pages — количество страниц;\n",
    "\n",
    "publication_date — дата публикации книги;\n",
    "\n",
    "publisher_id — идентификатор издателя."
   ]
  },
  {
   "cell_type": "code",
   "execution_count": 3,
   "metadata": {},
   "outputs": [
    {
     "data": {
      "text/html": [
       "<div>\n",
       "<style scoped>\n",
       "    .dataframe tbody tr th:only-of-type {\n",
       "        vertical-align: middle;\n",
       "    }\n",
       "\n",
       "    .dataframe tbody tr th {\n",
       "        vertical-align: top;\n",
       "    }\n",
       "\n",
       "    .dataframe thead th {\n",
       "        text-align: right;\n",
       "    }\n",
       "</style>\n",
       "<table border=\"1\" class=\"dataframe\">\n",
       "  <thead>\n",
       "    <tr style=\"text-align: right;\">\n",
       "      <th></th>\n",
       "      <th>author_id</th>\n",
       "      <th>author</th>\n",
       "    </tr>\n",
       "  </thead>\n",
       "  <tbody>\n",
       "    <tr>\n",
       "      <th>0</th>\n",
       "      <td>1</td>\n",
       "      <td>A.S. Byatt</td>\n",
       "    </tr>\n",
       "    <tr>\n",
       "      <th>1</th>\n",
       "      <td>2</td>\n",
       "      <td>Aesop/Laura Harris/Laura Gibbs</td>\n",
       "    </tr>\n",
       "    <tr>\n",
       "      <th>2</th>\n",
       "      <td>3</td>\n",
       "      <td>Agatha Christie</td>\n",
       "    </tr>\n",
       "    <tr>\n",
       "      <th>3</th>\n",
       "      <td>4</td>\n",
       "      <td>Alan Brennert</td>\n",
       "    </tr>\n",
       "    <tr>\n",
       "      <th>4</th>\n",
       "      <td>5</td>\n",
       "      <td>Alan Moore/David   Lloyd</td>\n",
       "    </tr>\n",
       "  </tbody>\n",
       "</table>\n",
       "</div>"
      ],
      "text/plain": [
       "   author_id                          author\n",
       "0          1                      A.S. Byatt\n",
       "1          2  Aesop/Laura Harris/Laura Gibbs\n",
       "2          3                 Agatha Christie\n",
       "3          4                   Alan Brennert\n",
       "4          5        Alan Moore/David   Lloyd"
      ]
     },
     "execution_count": 3,
     "metadata": {},
     "output_type": "execute_result"
    }
   ],
   "source": [
    "# изучим первые 5 строк таблицы authors\n",
    "query = '''SELECT * FROM authors LIMIT 5'''\n",
    "con=engine.connect()\n",
    "pd.io.sql.read_sql(sql=text(query), con = con)"
   ]
  },
  {
   "cell_type": "markdown",
   "metadata": {},
   "source": [
    "Таблица authors\n",
    "\n",
    "Содержит данные об авторах:\n",
    "\n",
    "author_id — идентификатор автора;\n",
    "\n",
    "author — имя автора."
   ]
  },
  {
   "cell_type": "code",
   "execution_count": 4,
   "metadata": {},
   "outputs": [
    {
     "data": {
      "text/html": [
       "<div>\n",
       "<style scoped>\n",
       "    .dataframe tbody tr th:only-of-type {\n",
       "        vertical-align: middle;\n",
       "    }\n",
       "\n",
       "    .dataframe tbody tr th {\n",
       "        vertical-align: top;\n",
       "    }\n",
       "\n",
       "    .dataframe thead th {\n",
       "        text-align: right;\n",
       "    }\n",
       "</style>\n",
       "<table border=\"1\" class=\"dataframe\">\n",
       "  <thead>\n",
       "    <tr style=\"text-align: right;\">\n",
       "      <th></th>\n",
       "      <th>publisher_id</th>\n",
       "      <th>publisher</th>\n",
       "    </tr>\n",
       "  </thead>\n",
       "  <tbody>\n",
       "    <tr>\n",
       "      <th>0</th>\n",
       "      <td>1</td>\n",
       "      <td>Ace</td>\n",
       "    </tr>\n",
       "    <tr>\n",
       "      <th>1</th>\n",
       "      <td>2</td>\n",
       "      <td>Ace Book</td>\n",
       "    </tr>\n",
       "    <tr>\n",
       "      <th>2</th>\n",
       "      <td>3</td>\n",
       "      <td>Ace Books</td>\n",
       "    </tr>\n",
       "    <tr>\n",
       "      <th>3</th>\n",
       "      <td>4</td>\n",
       "      <td>Ace Hardcover</td>\n",
       "    </tr>\n",
       "    <tr>\n",
       "      <th>4</th>\n",
       "      <td>5</td>\n",
       "      <td>Addison Wesley Publishing Company</td>\n",
       "    </tr>\n",
       "  </tbody>\n",
       "</table>\n",
       "</div>"
      ],
      "text/plain": [
       "   publisher_id                          publisher\n",
       "0             1                                Ace\n",
       "1             2                           Ace Book\n",
       "2             3                          Ace Books\n",
       "3             4                      Ace Hardcover\n",
       "4             5  Addison Wesley Publishing Company"
      ]
     },
     "execution_count": 4,
     "metadata": {},
     "output_type": "execute_result"
    }
   ],
   "source": [
    "# изучим первые 5 строк таблицы publishers\n",
    "query = '''SELECT * FROM publishers LIMIT 5'''\n",
    "con=engine.connect()\n",
    "pd.io.sql.read_sql(sql=text(query), con = con)"
   ]
  },
  {
   "cell_type": "markdown",
   "metadata": {},
   "source": [
    "Таблица publishers\n",
    "\n",
    "Содержит данные об издательствах:\n",
    "\n",
    "publisher_id — идентификатор издательства;\n",
    "\n",
    "publisher — название издательства;"
   ]
  },
  {
   "cell_type": "code",
   "execution_count": 5,
   "metadata": {},
   "outputs": [
    {
     "data": {
      "text/html": [
       "<div>\n",
       "<style scoped>\n",
       "    .dataframe tbody tr th:only-of-type {\n",
       "        vertical-align: middle;\n",
       "    }\n",
       "\n",
       "    .dataframe tbody tr th {\n",
       "        vertical-align: top;\n",
       "    }\n",
       "\n",
       "    .dataframe thead th {\n",
       "        text-align: right;\n",
       "    }\n",
       "</style>\n",
       "<table border=\"1\" class=\"dataframe\">\n",
       "  <thead>\n",
       "    <tr style=\"text-align: right;\">\n",
       "      <th></th>\n",
       "      <th>rating_id</th>\n",
       "      <th>book_id</th>\n",
       "      <th>username</th>\n",
       "      <th>rating</th>\n",
       "    </tr>\n",
       "  </thead>\n",
       "  <tbody>\n",
       "    <tr>\n",
       "      <th>0</th>\n",
       "      <td>1</td>\n",
       "      <td>1</td>\n",
       "      <td>ryanfranco</td>\n",
       "      <td>4</td>\n",
       "    </tr>\n",
       "    <tr>\n",
       "      <th>1</th>\n",
       "      <td>2</td>\n",
       "      <td>1</td>\n",
       "      <td>grantpatricia</td>\n",
       "      <td>2</td>\n",
       "    </tr>\n",
       "    <tr>\n",
       "      <th>2</th>\n",
       "      <td>3</td>\n",
       "      <td>1</td>\n",
       "      <td>brandtandrea</td>\n",
       "      <td>5</td>\n",
       "    </tr>\n",
       "    <tr>\n",
       "      <th>3</th>\n",
       "      <td>4</td>\n",
       "      <td>2</td>\n",
       "      <td>lorichen</td>\n",
       "      <td>3</td>\n",
       "    </tr>\n",
       "    <tr>\n",
       "      <th>4</th>\n",
       "      <td>5</td>\n",
       "      <td>2</td>\n",
       "      <td>mariokeller</td>\n",
       "      <td>2</td>\n",
       "    </tr>\n",
       "  </tbody>\n",
       "</table>\n",
       "</div>"
      ],
      "text/plain": [
       "   rating_id  book_id       username  rating\n",
       "0          1        1     ryanfranco       4\n",
       "1          2        1  grantpatricia       2\n",
       "2          3        1   brandtandrea       5\n",
       "3          4        2       lorichen       3\n",
       "4          5        2    mariokeller       2"
      ]
     },
     "execution_count": 5,
     "metadata": {},
     "output_type": "execute_result"
    }
   ],
   "source": [
    "# изучим первые 5 строк таблицы ratings\n",
    "query = '''SELECT * FROM ratings LIMIT 5'''\n",
    "con=engine.connect()\n",
    "pd.io.sql.read_sql(sql=text(query), con = con)"
   ]
  },
  {
   "cell_type": "markdown",
   "metadata": {},
   "source": [
    "Таблица ratings\n",
    "\n",
    "Содержит данные о пользовательских оценках книг:\n",
    "\n",
    "rating_id — идентификатор оценки;\n",
    "\n",
    "book_id — идентификатор книги;\n",
    "\n",
    "username — имя пользователя, оставившего оценку;\n",
    "\n",
    "rating — оценка книги."
   ]
  },
  {
   "cell_type": "code",
   "execution_count": 6,
   "metadata": {},
   "outputs": [
    {
     "data": {
      "text/html": [
       "<div>\n",
       "<style scoped>\n",
       "    .dataframe tbody tr th:only-of-type {\n",
       "        vertical-align: middle;\n",
       "    }\n",
       "\n",
       "    .dataframe tbody tr th {\n",
       "        vertical-align: top;\n",
       "    }\n",
       "\n",
       "    .dataframe thead th {\n",
       "        text-align: right;\n",
       "    }\n",
       "</style>\n",
       "<table border=\"1\" class=\"dataframe\">\n",
       "  <thead>\n",
       "    <tr style=\"text-align: right;\">\n",
       "      <th></th>\n",
       "      <th>review_id</th>\n",
       "      <th>book_id</th>\n",
       "      <th>username</th>\n",
       "      <th>text</th>\n",
       "    </tr>\n",
       "  </thead>\n",
       "  <tbody>\n",
       "    <tr>\n",
       "      <th>0</th>\n",
       "      <td>1</td>\n",
       "      <td>1</td>\n",
       "      <td>brandtandrea</td>\n",
       "      <td>Mention society tell send professor analysis. ...</td>\n",
       "    </tr>\n",
       "    <tr>\n",
       "      <th>1</th>\n",
       "      <td>2</td>\n",
       "      <td>1</td>\n",
       "      <td>ryanfranco</td>\n",
       "      <td>Foot glass pretty audience hit themselves. Amo...</td>\n",
       "    </tr>\n",
       "    <tr>\n",
       "      <th>2</th>\n",
       "      <td>3</td>\n",
       "      <td>2</td>\n",
       "      <td>lorichen</td>\n",
       "      <td>Listen treat keep worry. Miss husband tax but ...</td>\n",
       "    </tr>\n",
       "    <tr>\n",
       "      <th>3</th>\n",
       "      <td>4</td>\n",
       "      <td>3</td>\n",
       "      <td>johnsonamanda</td>\n",
       "      <td>Finally month interesting blue could nature cu...</td>\n",
       "    </tr>\n",
       "    <tr>\n",
       "      <th>4</th>\n",
       "      <td>5</td>\n",
       "      <td>3</td>\n",
       "      <td>scotttamara</td>\n",
       "      <td>Nation purpose heavy give wait song will. List...</td>\n",
       "    </tr>\n",
       "  </tbody>\n",
       "</table>\n",
       "</div>"
      ],
      "text/plain": [
       "   review_id  book_id       username  \\\n",
       "0          1        1   brandtandrea   \n",
       "1          2        1     ryanfranco   \n",
       "2          3        2       lorichen   \n",
       "3          4        3  johnsonamanda   \n",
       "4          5        3    scotttamara   \n",
       "\n",
       "                                                text  \n",
       "0  Mention society tell send professor analysis. ...  \n",
       "1  Foot glass pretty audience hit themselves. Amo...  \n",
       "2  Listen treat keep worry. Miss husband tax but ...  \n",
       "3  Finally month interesting blue could nature cu...  \n",
       "4  Nation purpose heavy give wait song will. List...  "
      ]
     },
     "execution_count": 6,
     "metadata": {},
     "output_type": "execute_result"
    }
   ],
   "source": [
    "# изучим первые 5 строк таблицы reviews\n",
    "query = '''SELECT * FROM reviews LIMIT 5'''\n",
    "con=engine.connect()\n",
    "pd.io.sql.read_sql(sql=text(query), con = con)"
   ]
  },
  {
   "cell_type": "markdown",
   "metadata": {},
   "source": [
    "Таблица reviews\n",
    "\n",
    "Содержит данные о пользовательских обзорах:\n",
    "\n",
    "review_id — идентификатор обзора;\n",
    "\n",
    "book_id — идентификатор книги;\n",
    "\n",
    "username — имя автора обзора;\n",
    "\n",
    "text — текст обзора."
   ]
  },
  {
   "cell_type": "markdown",
   "metadata": {},
   "source": [
    "<div class=\"alert alert-block alert-success\">✔️\n",
    "    \n",
    "\n",
    "__Комментарий от тимлида №1__\n",
    "\n",
    "Отлично первый взгляд на данные есть. Ты корректно выгрузила данные и посмотрела их содержимое\n",
    "</div>"
   ]
  },
  {
   "cell_type": "markdown",
   "metadata": {},
   "source": []
  },
  {
   "cell_type": "code",
   "execution_count": 7,
   "metadata": {},
   "outputs": [
    {
     "data": {
      "text/html": [
       "<div>\n",
       "<style scoped>\n",
       "    .dataframe tbody tr th:only-of-type {\n",
       "        vertical-align: middle;\n",
       "    }\n",
       "\n",
       "    .dataframe tbody tr th {\n",
       "        vertical-align: top;\n",
       "    }\n",
       "\n",
       "    .dataframe thead th {\n",
       "        text-align: right;\n",
       "    }\n",
       "</style>\n",
       "<table border=\"1\" class=\"dataframe\">\n",
       "  <thead>\n",
       "    <tr style=\"text-align: right;\">\n",
       "      <th></th>\n",
       "      <th>count</th>\n",
       "    </tr>\n",
       "  </thead>\n",
       "  <tbody>\n",
       "    <tr>\n",
       "      <th>0</th>\n",
       "      <td>819</td>\n",
       "    </tr>\n",
       "  </tbody>\n",
       "</table>\n",
       "</div>"
      ],
      "text/plain": [
       "   count\n",
       "0    819"
      ]
     },
     "execution_count": 7,
     "metadata": {},
     "output_type": "execute_result"
    }
   ],
   "source": [
    "# Задание 1: посчитайте, сколько книг вышло после 1 января 2000 года\n",
    "query = '''SELECT COUNT(book_id) FROM books WHERE publication_date > '2000-01-01' '''\n",
    "con=engine.connect()\n",
    "pd.io.sql.read_sql(sql=text(query), con = con)"
   ]
  },
  {
   "cell_type": "markdown",
   "metadata": {},
   "source": [
    "После 1 января 2000 года было выпущено 819 книг."
   ]
  },
  {
   "cell_type": "markdown",
   "metadata": {},
   "source": [
    "<div class=\"alert alert-block alert-success\">✔️\n",
    "    \n",
    "\n",
    "__Комментарий от тимлида №1__\n",
    "\n",
    "Расчёт верный\n",
    "</div>"
   ]
  },
  {
   "cell_type": "markdown",
   "metadata": {},
   "source": []
  },
  {
   "cell_type": "code",
   "execution_count": 9,
   "metadata": {},
   "outputs": [
    {
     "data": {
      "text/html": [
       "<div>\n",
       "<style scoped>\n",
       "    .dataframe tbody tr th:only-of-type {\n",
       "        vertical-align: middle;\n",
       "    }\n",
       "\n",
       "    .dataframe tbody tr th {\n",
       "        vertical-align: top;\n",
       "    }\n",
       "\n",
       "    .dataframe thead th {\n",
       "        text-align: right;\n",
       "    }\n",
       "</style>\n",
       "<table border=\"1\" class=\"dataframe\">\n",
       "  <thead>\n",
       "    <tr style=\"text-align: right;\">\n",
       "      <th></th>\n",
       "      <th>title</th>\n",
       "      <th>count_reviews</th>\n",
       "      <th>avg_rating</th>\n",
       "    </tr>\n",
       "  </thead>\n",
       "  <tbody>\n",
       "    <tr>\n",
       "      <th>0</th>\n",
       "      <td>The Body in the Library (Miss Marple  #3)</td>\n",
       "      <td>2.0</td>\n",
       "      <td>4.500000</td>\n",
       "    </tr>\n",
       "    <tr>\n",
       "      <th>1</th>\n",
       "      <td>Galápagos</td>\n",
       "      <td>2.0</td>\n",
       "      <td>4.500000</td>\n",
       "    </tr>\n",
       "    <tr>\n",
       "      <th>2</th>\n",
       "      <td>A Tree Grows in Brooklyn</td>\n",
       "      <td>5.0</td>\n",
       "      <td>4.250000</td>\n",
       "    </tr>\n",
       "    <tr>\n",
       "      <th>3</th>\n",
       "      <td>Undaunted Courage: The Pioneering First Missio...</td>\n",
       "      <td>2.0</td>\n",
       "      <td>4.000000</td>\n",
       "    </tr>\n",
       "    <tr>\n",
       "      <th>4</th>\n",
       "      <td>American Gods (American Gods  #1)</td>\n",
       "      <td>5.0</td>\n",
       "      <td>4.000000</td>\n",
       "    </tr>\n",
       "    <tr>\n",
       "      <th>...</th>\n",
       "      <td>...</td>\n",
       "      <td>...</td>\n",
       "      <td>...</td>\n",
       "    </tr>\n",
       "    <tr>\n",
       "      <th>995</th>\n",
       "      <td>Possession</td>\n",
       "      <td>3.0</td>\n",
       "      <td>4.000000</td>\n",
       "    </tr>\n",
       "    <tr>\n",
       "      <th>996</th>\n",
       "      <td>A Woman of Substance (Emma Harte Saga #1)</td>\n",
       "      <td>2.0</td>\n",
       "      <td>5.000000</td>\n",
       "    </tr>\n",
       "    <tr>\n",
       "      <th>997</th>\n",
       "      <td>Christine</td>\n",
       "      <td>3.0</td>\n",
       "      <td>3.428571</td>\n",
       "    </tr>\n",
       "    <tr>\n",
       "      <th>998</th>\n",
       "      <td>The Magicians' Guild (Black Magician Trilogy  #1)</td>\n",
       "      <td>2.0</td>\n",
       "      <td>3.500000</td>\n",
       "    </tr>\n",
       "    <tr>\n",
       "      <th>999</th>\n",
       "      <td>The Plot Against America</td>\n",
       "      <td>2.0</td>\n",
       "      <td>3.000000</td>\n",
       "    </tr>\n",
       "  </tbody>\n",
       "</table>\n",
       "<p>1000 rows × 3 columns</p>\n",
       "</div>"
      ],
      "text/plain": [
       "                                                 title  count_reviews  \\\n",
       "0            The Body in the Library (Miss Marple  #3)            2.0   \n",
       "1                                            Galápagos            2.0   \n",
       "2                             A Tree Grows in Brooklyn            5.0   \n",
       "3    Undaunted Courage: The Pioneering First Missio...            2.0   \n",
       "4                    American Gods (American Gods  #1)            5.0   \n",
       "..                                                 ...            ...   \n",
       "995                                         Possession            3.0   \n",
       "996          A Woman of Substance (Emma Harte Saga #1)            2.0   \n",
       "997                                          Christine            3.0   \n",
       "998  The Magicians' Guild (Black Magician Trilogy  #1)            2.0   \n",
       "999                           The Plot Against America            2.0   \n",
       "\n",
       "     avg_rating  \n",
       "0      4.500000  \n",
       "1      4.500000  \n",
       "2      4.250000  \n",
       "3      4.000000  \n",
       "4      4.000000  \n",
       "..          ...  \n",
       "995    4.000000  \n",
       "996    5.000000  \n",
       "997    3.428571  \n",
       "998    3.500000  \n",
       "999    3.000000  \n",
       "\n",
       "[1000 rows x 3 columns]"
      ]
     },
     "execution_count": 9,
     "metadata": {},
     "output_type": "execute_result"
    }
   ],
   "source": [
    "# Задание 2: для каждой книги посчитайте количество обзоров и среднюю оценку\n",
    "query = '''SELECT title, SUM(count_reviews) AS count_reviews, AVG(avg_rating) AS avg_rating\n",
    "                   FROM books \n",
    "                   LEFT JOIN (SELECT book_id, COUNT(review_id) AS count_reviews\n",
    "                        FROM reviews                        \n",
    "                        GROUP BY book_id) AS count_reviews\n",
    "                   ON books.book_id = count_reviews.book_id\n",
    "                   LEFT JOIN (SELECT book_id, AVG(rating) AS avg_rating\n",
    "                        FROM ratings \n",
    "                        GROUP BY book_id) AS avg_rating\n",
    "                   ON books.book_id = avg_rating.book_id\n",
    "                   GROUP BY books.book_id                         \n",
    "                                                         \n",
    "'''\n",
    "con=engine.connect()\n",
    "pd.io.sql.read_sql(sql=text(query), con = con)"
   ]
  },
  {
   "cell_type": "markdown",
   "metadata": {},
   "source": [
    "<div class=\"alert alert-block alert-success\">✔️\n",
    "    \n",
    "\n",
    "__Комментарий от тимлида №2__\n",
    "\n",
    "Да, теперь всё корректно\n",
    "</div>"
   ]
  },
  {
   "cell_type": "markdown",
   "metadata": {},
   "source": []
  },
  {
   "cell_type": "markdown",
   "metadata": {},
   "source": [
    "Для каждой книги посчитано количество обзоров и средняя оценка."
   ]
  },
  {
   "cell_type": "code",
   "execution_count": 10,
   "metadata": {},
   "outputs": [
    {
     "data": {
      "text/html": [
       "<div>\n",
       "<style scoped>\n",
       "    .dataframe tbody tr th:only-of-type {\n",
       "        vertical-align: middle;\n",
       "    }\n",
       "\n",
       "    .dataframe tbody tr th {\n",
       "        vertical-align: top;\n",
       "    }\n",
       "\n",
       "    .dataframe thead th {\n",
       "        text-align: right;\n",
       "    }\n",
       "</style>\n",
       "<table border=\"1\" class=\"dataframe\">\n",
       "  <thead>\n",
       "    <tr style=\"text-align: right;\">\n",
       "      <th></th>\n",
       "      <th>publisher</th>\n",
       "    </tr>\n",
       "  </thead>\n",
       "  <tbody>\n",
       "    <tr>\n",
       "      <th>0</th>\n",
       "      <td>Penguin Books</td>\n",
       "    </tr>\n",
       "    <tr>\n",
       "      <th>1</th>\n",
       "      <td>Vintage</td>\n",
       "    </tr>\n",
       "    <tr>\n",
       "      <th>2</th>\n",
       "      <td>Grand Central Publishing</td>\n",
       "    </tr>\n",
       "    <tr>\n",
       "      <th>3</th>\n",
       "      <td>Penguin Classics</td>\n",
       "    </tr>\n",
       "    <tr>\n",
       "      <th>4</th>\n",
       "      <td>Ballantine Books</td>\n",
       "    </tr>\n",
       "    <tr>\n",
       "      <th>...</th>\n",
       "      <td>...</td>\n",
       "    </tr>\n",
       "    <tr>\n",
       "      <th>329</th>\n",
       "      <td>Turtleback</td>\n",
       "    </tr>\n",
       "    <tr>\n",
       "      <th>330</th>\n",
       "      <td>Atheneum Books for Young Readers: Richard Jack...</td>\n",
       "    </tr>\n",
       "    <tr>\n",
       "      <th>331</th>\n",
       "      <td>Penguin Signet</td>\n",
       "    </tr>\n",
       "    <tr>\n",
       "      <th>332</th>\n",
       "      <td>Victor Gollancz</td>\n",
       "    </tr>\n",
       "    <tr>\n",
       "      <th>333</th>\n",
       "      <td>Harvard Business Review Press</td>\n",
       "    </tr>\n",
       "  </tbody>\n",
       "</table>\n",
       "<p>334 rows × 1 columns</p>\n",
       "</div>"
      ],
      "text/plain": [
       "                                             publisher\n",
       "0                                        Penguin Books\n",
       "1                                              Vintage\n",
       "2                             Grand Central Publishing\n",
       "3                                     Penguin Classics\n",
       "4                                     Ballantine Books\n",
       "..                                                 ...\n",
       "329                                         Turtleback\n",
       "330  Atheneum Books for Young Readers: Richard Jack...\n",
       "331                                     Penguin Signet\n",
       "332                                    Victor Gollancz\n",
       "333                      Harvard Business Review Press\n",
       "\n",
       "[334 rows x 1 columns]"
      ]
     },
     "execution_count": 10,
     "metadata": {},
     "output_type": "execute_result"
    }
   ],
   "source": [
    "# Задание 3: определим издательство, которое выпустило наибольшее число книг толще 50 страниц — так мы исключим из анализа брошюры\n",
    "query = '''SELECT publisher\n",
    "                          FROM books LEFT JOIN publishers ON books.publisher_id = publishers.publisher_id\n",
    "                          WHERE num_pages > 50\n",
    "                          GROUP BY publisher\n",
    "                          ORDER BY COUNT(book_id) DESC                                                 \n",
    "                                                         \n",
    "'''\n",
    "con=engine.connect()\n",
    "pd.io.sql.read_sql(sql=text(query), con = con)"
   ]
  },
  {
   "cell_type": "markdown",
   "metadata": {},
   "source": [
    "Издательство, которое выпустило наибольшее число книг толще 50 страниц, - Penguin Books "
   ]
  },
  {
   "cell_type": "markdown",
   "metadata": {},
   "source": [
    "<div class=\"alert alert-block alert-success\">✔️\n",
    "    \n",
    "\n",
    "__Комментарий от тимлида №1__\n",
    "\n",
    "Согласен с результатом. Действительно данное издательство является лидером по выпущенным книгам\n",
    "</div>"
   ]
  },
  {
   "cell_type": "markdown",
   "metadata": {},
   "source": []
  },
  {
   "cell_type": "code",
   "execution_count": 12,
   "metadata": {},
   "outputs": [
    {
     "data": {
      "text/html": [
       "<div>\n",
       "<style scoped>\n",
       "    .dataframe tbody tr th:only-of-type {\n",
       "        vertical-align: middle;\n",
       "    }\n",
       "\n",
       "    .dataframe tbody tr th {\n",
       "        vertical-align: top;\n",
       "    }\n",
       "\n",
       "    .dataframe thead th {\n",
       "        text-align: right;\n",
       "    }\n",
       "</style>\n",
       "<table border=\"1\" class=\"dataframe\">\n",
       "  <thead>\n",
       "    <tr style=\"text-align: right;\">\n",
       "      <th></th>\n",
       "      <th>author</th>\n",
       "      <th>avg</th>\n",
       "    </tr>\n",
       "  </thead>\n",
       "  <tbody>\n",
       "    <tr>\n",
       "      <th>0</th>\n",
       "      <td>J.K. Rowling/Mary GrandPré</td>\n",
       "      <td>4.287097</td>\n",
       "    </tr>\n",
       "    <tr>\n",
       "      <th>1</th>\n",
       "      <td>Markus Zusak/Cao Xuân Việt Khương</td>\n",
       "      <td>4.264151</td>\n",
       "    </tr>\n",
       "    <tr>\n",
       "      <th>2</th>\n",
       "      <td>J.R.R. Tolkien</td>\n",
       "      <td>4.246914</td>\n",
       "    </tr>\n",
       "    <tr>\n",
       "      <th>3</th>\n",
       "      <td>Louisa May Alcott</td>\n",
       "      <td>4.192308</td>\n",
       "    </tr>\n",
       "    <tr>\n",
       "      <th>4</th>\n",
       "      <td>Rick Riordan</td>\n",
       "      <td>4.080645</td>\n",
       "    </tr>\n",
       "    <tr>\n",
       "      <th>5</th>\n",
       "      <td>William Golding</td>\n",
       "      <td>3.901408</td>\n",
       "    </tr>\n",
       "    <tr>\n",
       "      <th>6</th>\n",
       "      <td>J.D. Salinger</td>\n",
       "      <td>3.825581</td>\n",
       "    </tr>\n",
       "    <tr>\n",
       "      <th>7</th>\n",
       "      <td>Paulo Coelho/Alan R. Clarke/Özdemir İnce</td>\n",
       "      <td>3.789474</td>\n",
       "    </tr>\n",
       "    <tr>\n",
       "      <th>8</th>\n",
       "      <td>William Shakespeare/Paul Werstine/Barbara A. M...</td>\n",
       "      <td>3.787879</td>\n",
       "    </tr>\n",
       "    <tr>\n",
       "      <th>9</th>\n",
       "      <td>Lois Lowry</td>\n",
       "      <td>3.750000</td>\n",
       "    </tr>\n",
       "    <tr>\n",
       "      <th>10</th>\n",
       "      <td>Dan Brown</td>\n",
       "      <td>3.741259</td>\n",
       "    </tr>\n",
       "    <tr>\n",
       "      <th>11</th>\n",
       "      <td>George Orwell/Boris Grabnar/Peter Škerl</td>\n",
       "      <td>3.729730</td>\n",
       "    </tr>\n",
       "    <tr>\n",
       "      <th>12</th>\n",
       "      <td>Stephenie Meyer</td>\n",
       "      <td>3.662500</td>\n",
       "    </tr>\n",
       "    <tr>\n",
       "      <th>13</th>\n",
       "      <td>John Steinbeck</td>\n",
       "      <td>3.622951</td>\n",
       "    </tr>\n",
       "  </tbody>\n",
       "</table>\n",
       "</div>"
      ],
      "text/plain": [
       "                                               author       avg\n",
       "0                          J.K. Rowling/Mary GrandPré  4.287097\n",
       "1                   Markus Zusak/Cao Xuân Việt Khương  4.264151\n",
       "2                                      J.R.R. Tolkien  4.246914\n",
       "3                                   Louisa May Alcott  4.192308\n",
       "4                                        Rick Riordan  4.080645\n",
       "5                                     William Golding  3.901408\n",
       "6                                       J.D. Salinger  3.825581\n",
       "7            Paulo Coelho/Alan R. Clarke/Özdemir İnce  3.789474\n",
       "8   William Shakespeare/Paul Werstine/Barbara A. M...  3.787879\n",
       "9                                          Lois Lowry  3.750000\n",
       "10                                          Dan Brown  3.741259\n",
       "11            George Orwell/Boris Grabnar/Peter Škerl  3.729730\n",
       "12                                    Stephenie Meyer  3.662500\n",
       "13                                     John Steinbeck  3.622951"
      ]
     },
     "execution_count": 12,
     "metadata": {},
     "output_type": "execute_result"
    }
   ],
   "source": [
    "# Задание 4: определим автора с самой высокой средней оценкой книг — учитывать будем только книги с 50 и более оценками\n",
    "query = '''\n",
    "SELECT a.author, AVG(rating)\n",
    "FROM authors AS a\n",
    "JOIN books AS b ON a.author_id = b.author_id\n",
    "JOIN ratings AS r ON b.book_id = r.book_id\n",
    "WHERE b.book_id IN (\n",
    "    SELECT book_id\n",
    "    FROM ratings \n",
    "    GROUP BY book_id\n",
    "    HAVING COUNT(rating_id) >= 50\n",
    "    ORDER BY COUNT(rating_id) DESC)\n",
    "GROUP BY author\n",
    "ORDER BY avg DESC                                          \n",
    "'''\n",
    "con=engine.connect()\n",
    "pd.io.sql.read_sql(sql=text(query), con = con)"
   ]
  },
  {
   "cell_type": "markdown",
   "metadata": {},
   "source": [
    "Автором с самой высокой средней оценкой книг, учитывая только книги с 50 и более оценками, является J.K. Rowling/Mary GrandPré."
   ]
  },
  {
   "cell_type": "code",
   "execution_count": 13,
   "metadata": {},
   "outputs": [
    {
     "data": {
      "text/html": [
       "<div>\n",
       "<style scoped>\n",
       "    .dataframe tbody tr th:only-of-type {\n",
       "        vertical-align: middle;\n",
       "    }\n",
       "\n",
       "    .dataframe tbody tr th {\n",
       "        vertical-align: top;\n",
       "    }\n",
       "\n",
       "    .dataframe thead th {\n",
       "        text-align: right;\n",
       "    }\n",
       "</style>\n",
       "<table border=\"1\" class=\"dataframe\">\n",
       "  <thead>\n",
       "    <tr style=\"text-align: right;\">\n",
       "      <th></th>\n",
       "      <th>avg</th>\n",
       "    </tr>\n",
       "  </thead>\n",
       "  <tbody>\n",
       "    <tr>\n",
       "      <th>0</th>\n",
       "      <td>24.0</td>\n",
       "    </tr>\n",
       "  </tbody>\n",
       "</table>\n",
       "</div>"
      ],
      "text/plain": [
       "    avg\n",
       "0  24.0"
      ]
     },
     "execution_count": 13,
     "metadata": {},
     "output_type": "execute_result"
    }
   ],
   "source": [
    "# Задание 5: посчитаем среднее количество обзоров от пользователей, которые поставили больше 48 оценок\n",
    "query = '''SELECT AVG(count)\n",
    "      FROM (SELECT COUNT(review_id)\n",
    "            FROM reviews AS re\n",
    "            LEFT JOIN (SELECT username, \n",
    "                              COUNT(rating_id)\n",
    "                       FROM ratings\n",
    "                       GROUP BY username) AS ra ON ra.username = re.username\n",
    "            WHERE count > 48\n",
    "            GROUP BY re.username) AS count                            \n",
    "'''\n",
    "con=engine.connect()\n",
    "pd.io.sql.read_sql(sql=text(query), con = con)"
   ]
  },
  {
   "cell_type": "markdown",
   "metadata": {},
   "source": [
    "<div class=\"alert alert-block alert-success\">✔️\n",
    "    \n",
    "\n",
    "__Комментарий от тимлида №1__\n",
    "\n",
    "Ты корректно отобрала пользователей и рассчитала их показатели."
   ]
  },
  {
   "cell_type": "markdown",
   "metadata": {},
   "source": [
    "Cреднее количество обзоров от пользователей, которые поставили больше 48 оценок, = 24 обзора.\n",
    "\n",
    "# ИТАК \n",
    "\n",
    "для счастливого достижениям пославленной нами цели, мы нашли ответы на все задания:\n",
    "\n",
    "- задание 1 - 819 книг было выпущено после 01.01;\n",
    "\n",
    "- задание 2 - для каждой книги посчитано количество обзоров и средняя оценка;\n",
    "\n",
    "- задание 3 - издательство, которое выпустило наибольшее число книг толще 50 страниц, - Penguin Books;\n",
    "\n",
    "- задание 4 - автором с самой высокой средней оценкой книг, учитывая только книги с 50 и более оценками, является J.K. Rowling/Mary GrandPré;\n",
    "\n",
    "- задание 5 - в среднем 24 обзора оставляли пользователи, которые ставили больше 48 оценок."
   ]
  },
  {
   "cell_type": "markdown",
   "metadata": {},
   "source": [
    "<div class=\"alert alert-block alert-success\">✔️\n",
    "    \n",
    "\n",
    "__Комментарий от тимлида №2__\n",
    "\n",
    "Получилась хорошая работа, развернутый итоговый вывод придает ей вид законченного проекта. Поздравляю с окончанием курса! У тебя получилось справиться со всеми задачами. \n",
    "</div>"
   ]
  }
 ],
 "metadata": {
  "ExecuteTimeLog": [
   {
    "duration": 16982,
    "start_time": "2023-07-22T17:40:16.648Z"
   },
   {
    "duration": 15124,
    "start_time": "2023-07-22T17:49:48.623Z"
   },
   {
    "duration": 80,
    "start_time": "2023-07-22T17:50:03.750Z"
   },
   {
    "duration": 75,
    "start_time": "2023-07-22T17:51:10.231Z"
   },
   {
    "duration": 18,
    "start_time": "2023-07-22T17:51:51.654Z"
   },
   {
    "duration": 12899,
    "start_time": "2023-07-22T17:53:19.442Z"
   },
   {
    "duration": 80,
    "start_time": "2023-07-22T17:53:32.344Z"
   },
   {
    "duration": 63,
    "start_time": "2023-07-22T17:53:32.426Z"
   },
   {
    "duration": 12,
    "start_time": "2023-07-22T17:53:32.492Z"
   },
   {
    "duration": 15,
    "start_time": "2023-07-22T17:53:32.506Z"
   },
   {
    "duration": 18,
    "start_time": "2023-07-22T17:53:32.523Z"
   },
   {
    "duration": 158,
    "start_time": "2023-07-22T18:04:00.993Z"
   },
   {
    "duration": 20,
    "start_time": "2023-07-22T18:04:22.593Z"
   },
   {
    "duration": 117,
    "start_time": "2023-07-22T18:04:58.146Z"
   },
   {
    "duration": 51,
    "start_time": "2023-07-22T18:06:15.200Z"
   },
   {
    "duration": 54,
    "start_time": "2023-07-22T18:10:31.602Z"
   },
   {
    "duration": 29,
    "start_time": "2023-07-22T18:19:15.599Z"
   },
   {
    "duration": 33,
    "start_time": "2023-07-22T18:22:54.323Z"
   },
   {
    "duration": 24,
    "start_time": "2023-07-22T18:23:04.809Z"
   },
   {
    "duration": 26,
    "start_time": "2023-07-22T18:23:24.699Z"
   },
   {
    "duration": 25,
    "start_time": "2023-07-22T18:23:36.241Z"
   },
   {
    "duration": 24,
    "start_time": "2023-07-22T18:24:12.052Z"
   },
   {
    "duration": 23,
    "start_time": "2023-07-22T18:25:05.341Z"
   },
   {
    "duration": 24,
    "start_time": "2023-07-22T18:25:27.540Z"
   },
   {
    "duration": 24,
    "start_time": "2023-07-22T18:25:58.503Z"
   },
   {
    "duration": 34,
    "start_time": "2023-07-22T18:27:45.055Z"
   },
   {
    "duration": 15,
    "start_time": "2023-07-22T18:30:27.619Z"
   },
   {
    "duration": 29,
    "start_time": "2023-07-22T18:30:50.324Z"
   },
   {
    "duration": 15,
    "start_time": "2023-07-22T18:31:11.433Z"
   },
   {
    "duration": 15,
    "start_time": "2023-07-22T18:33:46.745Z"
   },
   {
    "duration": 22,
    "start_time": "2023-07-22T18:36:37.898Z"
   },
   {
    "duration": 18,
    "start_time": "2023-07-22T18:39:28.610Z"
   },
   {
    "duration": 21,
    "start_time": "2023-07-22T18:41:07.407Z"
   },
   {
    "duration": 16,
    "start_time": "2023-07-22T18:41:19.603Z"
   },
   {
    "duration": 69,
    "start_time": "2023-07-22T18:43:49.537Z"
   },
   {
    "duration": 13,
    "start_time": "2023-07-22T18:45:23.702Z"
   },
   {
    "duration": 32,
    "start_time": "2023-07-22T18:50:42.096Z"
   },
   {
    "duration": 14,
    "start_time": "2023-07-22T18:51:03.049Z"
   },
   {
    "duration": 99,
    "start_time": "2023-07-22T18:51:39.414Z"
   },
   {
    "duration": 22,
    "start_time": "2023-07-22T18:51:58.100Z"
   },
   {
    "duration": 67,
    "start_time": "2023-07-22T18:52:37.189Z"
   },
   {
    "duration": 59,
    "start_time": "2023-07-22T18:53:10.092Z"
   },
   {
    "duration": 19,
    "start_time": "2023-07-22T18:53:29.904Z"
   },
   {
    "duration": 20,
    "start_time": "2023-07-22T18:54:18.614Z"
   },
   {
    "duration": 14,
    "start_time": "2023-07-22T18:54:52.204Z"
   },
   {
    "duration": 14,
    "start_time": "2023-07-22T18:55:06.550Z"
   },
   {
    "duration": 21,
    "start_time": "2023-07-22T18:55:14.501Z"
   },
   {
    "duration": 13,
    "start_time": "2023-07-22T18:55:46.110Z"
   },
   {
    "duration": 16,
    "start_time": "2023-07-22T18:56:51.435Z"
   },
   {
    "duration": 13,
    "start_time": "2023-07-22T18:57:01.305Z"
   },
   {
    "duration": 26,
    "start_time": "2023-07-22T18:57:07.867Z"
   },
   {
    "duration": 13500,
    "start_time": "2023-07-22T18:58:15.320Z"
   },
   {
    "duration": 84,
    "start_time": "2023-07-22T18:58:28.822Z"
   },
   {
    "duration": 63,
    "start_time": "2023-07-22T18:58:28.907Z"
   },
   {
    "duration": 21,
    "start_time": "2023-07-22T18:58:28.972Z"
   },
   {
    "duration": 11,
    "start_time": "2023-07-22T18:58:28.995Z"
   },
   {
    "duration": 11,
    "start_time": "2023-07-22T18:58:29.007Z"
   },
   {
    "duration": 10,
    "start_time": "2023-07-22T18:58:29.019Z"
   },
   {
    "duration": 24,
    "start_time": "2023-07-22T18:58:29.031Z"
   },
   {
    "duration": 32,
    "start_time": "2023-07-22T18:58:29.057Z"
   },
   {
    "duration": 16,
    "start_time": "2023-07-22T18:58:29.091Z"
   },
   {
    "duration": 13,
    "start_time": "2023-07-22T18:58:29.108Z"
   },
   {
    "duration": 13,
    "start_time": "2023-07-22T18:58:29.122Z"
   },
   {
    "duration": 51,
    "start_time": "2023-07-23T08:27:39.910Z"
   },
   {
    "duration": 13313,
    "start_time": "2023-07-23T08:28:09.514Z"
   },
   {
    "duration": 81,
    "start_time": "2023-07-23T08:28:22.829Z"
   },
   {
    "duration": 71,
    "start_time": "2023-07-23T08:28:22.912Z"
   },
   {
    "duration": 11,
    "start_time": "2023-07-23T08:28:22.985Z"
   },
   {
    "duration": 22,
    "start_time": "2023-07-23T08:28:22.999Z"
   },
   {
    "duration": 15,
    "start_time": "2023-07-23T08:28:23.023Z"
   },
   {
    "duration": 18,
    "start_time": "2023-07-23T08:28:23.041Z"
   },
   {
    "duration": 41,
    "start_time": "2023-07-23T08:28:23.061Z"
   },
   {
    "duration": 17,
    "start_time": "2023-07-23T08:28:23.104Z"
   },
   {
    "duration": 21,
    "start_time": "2023-07-23T08:28:23.123Z"
   },
   {
    "duration": 17,
    "start_time": "2023-07-23T08:28:23.146Z"
   },
   {
    "duration": 21,
    "start_time": "2023-07-23T08:28:23.166Z"
   },
   {
    "duration": 14,
    "start_time": "2023-07-23T08:35:20.912Z"
   },
   {
    "duration": 18,
    "start_time": "2023-07-23T08:35:55.277Z"
   },
   {
    "duration": 110,
    "start_time": "2023-07-23T08:36:11.918Z"
   },
   {
    "duration": 14,
    "start_time": "2023-07-23T08:36:40.741Z"
   },
   {
    "duration": 82,
    "start_time": "2023-07-23T08:37:05.617Z"
   },
   {
    "duration": 13,
    "start_time": "2023-07-23T08:37:15.781Z"
   },
   {
    "duration": 75,
    "start_time": "2023-07-23T08:39:05.512Z"
   },
   {
    "duration": 16,
    "start_time": "2023-07-23T08:39:11.680Z"
   },
   {
    "duration": 20223,
    "start_time": "2023-07-23T08:47:54.379Z"
   },
   {
    "duration": 53,
    "start_time": "2023-07-23T08:48:14.604Z"
   },
   {
    "duration": 60,
    "start_time": "2023-07-23T08:48:14.659Z"
   },
   {
    "duration": 13,
    "start_time": "2023-07-23T08:48:14.721Z"
   },
   {
    "duration": 12,
    "start_time": "2023-07-23T08:48:14.736Z"
   },
   {
    "duration": 14,
    "start_time": "2023-07-23T08:48:14.750Z"
   },
   {
    "duration": 25,
    "start_time": "2023-07-23T08:48:14.765Z"
   },
   {
    "duration": 27,
    "start_time": "2023-07-23T08:48:14.792Z"
   },
   {
    "duration": 14,
    "start_time": "2023-07-23T08:48:14.821Z"
   },
   {
    "duration": 18,
    "start_time": "2023-07-23T08:48:14.838Z"
   },
   {
    "duration": 31,
    "start_time": "2023-07-23T08:48:14.859Z"
   },
   {
    "duration": 13403,
    "start_time": "2023-07-23T08:50:16.716Z"
   },
   {
    "duration": 82,
    "start_time": "2023-07-23T08:50:30.122Z"
   },
   {
    "duration": 44,
    "start_time": "2023-07-23T08:50:30.206Z"
   },
   {
    "duration": 22,
    "start_time": "2023-07-23T08:50:30.252Z"
   },
   {
    "duration": 32,
    "start_time": "2023-07-23T08:50:30.276Z"
   },
   {
    "duration": 45,
    "start_time": "2023-07-23T08:50:30.309Z"
   },
   {
    "duration": 32,
    "start_time": "2023-07-23T08:50:30.356Z"
   },
   {
    "duration": 30,
    "start_time": "2023-07-23T08:50:30.390Z"
   },
   {
    "duration": 64,
    "start_time": "2023-07-23T08:50:30.422Z"
   },
   {
    "duration": 32,
    "start_time": "2023-07-23T08:50:30.488Z"
   },
   {
    "duration": 81,
    "start_time": "2023-07-23T08:50:30.521Z"
   },
   {
    "duration": 13583,
    "start_time": "2023-07-23T08:50:45.064Z"
   },
   {
    "duration": 84,
    "start_time": "2023-07-23T08:50:58.649Z"
   },
   {
    "duration": 57,
    "start_time": "2023-07-23T08:50:58.735Z"
   },
   {
    "duration": 11,
    "start_time": "2023-07-23T08:50:58.794Z"
   },
   {
    "duration": 12,
    "start_time": "2023-07-23T08:50:58.807Z"
   },
   {
    "duration": 12,
    "start_time": "2023-07-23T08:50:58.820Z"
   },
   {
    "duration": 10,
    "start_time": "2023-07-23T08:50:58.833Z"
   },
   {
    "duration": 31,
    "start_time": "2023-07-23T08:50:58.845Z"
   },
   {
    "duration": 15,
    "start_time": "2023-07-23T08:50:58.878Z"
   },
   {
    "duration": 15,
    "start_time": "2023-07-23T08:50:58.895Z"
   },
   {
    "duration": 13,
    "start_time": "2023-07-23T08:50:58.912Z"
   },
   {
    "duration": 31058,
    "start_time": "2023-07-23T15:26:15.903Z"
   },
   {
    "duration": 86,
    "start_time": "2023-07-23T15:26:46.963Z"
   },
   {
    "duration": 84,
    "start_time": "2023-07-23T15:26:47.051Z"
   },
   {
    "duration": 9,
    "start_time": "2023-07-23T15:26:47.137Z"
   },
   {
    "duration": 27,
    "start_time": "2023-07-23T15:26:47.147Z"
   },
   {
    "duration": 13,
    "start_time": "2023-07-23T15:26:47.175Z"
   },
   {
    "duration": 8,
    "start_time": "2023-07-23T15:26:47.190Z"
   },
   {
    "duration": 55,
    "start_time": "2023-07-23T15:26:47.199Z"
   },
   {
    "duration": 13,
    "start_time": "2023-07-23T15:26:47.256Z"
   },
   {
    "duration": 14,
    "start_time": "2023-07-23T15:26:47.270Z"
   },
   {
    "duration": 11,
    "start_time": "2023-07-23T15:26:47.286Z"
   },
   {
    "duration": 58,
    "start_time": "2023-07-23T18:10:44.029Z"
   },
   {
    "duration": 11226,
    "start_time": "2023-07-23T18:10:50.992Z"
   },
   {
    "duration": 258,
    "start_time": "2023-07-23T18:11:02.220Z"
   },
   {
    "duration": 117,
    "start_time": "2023-07-23T18:11:02.480Z"
   },
   {
    "duration": 51,
    "start_time": "2023-07-23T18:11:02.599Z"
   },
   {
    "duration": 53,
    "start_time": "2023-07-23T18:11:02.653Z"
   },
   {
    "duration": 53,
    "start_time": "2023-07-23T18:11:02.708Z"
   },
   {
    "duration": 52,
    "start_time": "2023-07-23T18:11:02.763Z"
   },
   {
    "duration": 2,
    "start_time": "2023-07-23T18:11:02.817Z"
   },
   {
    "duration": 158,
    "start_time": "2023-07-23T18:11:02.821Z"
   },
   {
    "duration": 0,
    "start_time": "2023-07-23T18:11:02.981Z"
   },
   {
    "duration": 1,
    "start_time": "2023-07-23T18:11:02.982Z"
   },
   {
    "duration": 0,
    "start_time": "2023-07-23T18:11:02.984Z"
   },
   {
    "duration": 62,
    "start_time": "2023-07-23T18:11:22.734Z"
   },
   {
    "duration": 201,
    "start_time": "2023-07-23T18:11:59.309Z"
   },
   {
    "duration": 13252,
    "start_time": "2023-07-23T18:13:02.312Z"
   },
   {
    "duration": 252,
    "start_time": "2023-07-23T18:13:15.566Z"
   },
   {
    "duration": 126,
    "start_time": "2023-07-23T18:13:15.819Z"
   },
   {
    "duration": 51,
    "start_time": "2023-07-23T18:13:15.947Z"
   },
   {
    "duration": 52,
    "start_time": "2023-07-23T18:13:16.000Z"
   },
   {
    "duration": 52,
    "start_time": "2023-07-23T18:13:16.054Z"
   },
   {
    "duration": 52,
    "start_time": "2023-07-23T18:13:16.108Z"
   },
   {
    "duration": 83,
    "start_time": "2023-07-23T18:13:16.163Z"
   },
   {
    "duration": 83,
    "start_time": "2023-07-23T18:13:16.248Z"
   },
   {
    "duration": 56,
    "start_time": "2023-07-23T18:13:16.333Z"
   },
   {
    "duration": 57,
    "start_time": "2023-07-23T18:13:16.390Z"
   },
   {
    "duration": 55,
    "start_time": "2023-07-23T18:13:16.449Z"
   },
   {
    "duration": 56,
    "start_time": "2023-07-23T18:18:33.999Z"
   },
   {
    "duration": 139,
    "start_time": "2023-07-23T18:20:11.764Z"
   },
   {
    "duration": 62,
    "start_time": "2023-07-23T18:20:26.191Z"
   },
   {
    "duration": 158,
    "start_time": "2023-07-23T18:20:32.300Z"
   },
   {
    "duration": 170,
    "start_time": "2023-07-23T18:20:49.805Z"
   },
   {
    "duration": 62,
    "start_time": "2023-07-23T18:21:14.900Z"
   },
   {
    "duration": 59,
    "start_time": "2023-07-23T18:22:49.991Z"
   },
   {
    "duration": 135,
    "start_time": "2023-07-23T18:23:20.149Z"
   },
   {
    "duration": 149,
    "start_time": "2023-07-23T18:23:39.896Z"
   },
   {
    "duration": 155,
    "start_time": "2023-07-23T18:23:49.919Z"
   },
   {
    "duration": 150,
    "start_time": "2023-07-23T18:23:58.895Z"
   },
   {
    "duration": 55,
    "start_time": "2023-07-23T18:24:06.461Z"
   },
   {
    "duration": 10449,
    "start_time": "2023-07-23T18:25:47.299Z"
   },
   {
    "duration": 245,
    "start_time": "2023-07-23T18:25:57.750Z"
   },
   {
    "duration": 126,
    "start_time": "2023-07-23T18:25:57.997Z"
   },
   {
    "duration": 54,
    "start_time": "2023-07-23T18:25:58.125Z"
   },
   {
    "duration": 53,
    "start_time": "2023-07-23T18:25:58.181Z"
   },
   {
    "duration": 63,
    "start_time": "2023-07-23T18:25:58.235Z"
   },
   {
    "duration": 55,
    "start_time": "2023-07-23T18:25:58.300Z"
   },
   {
    "duration": 96,
    "start_time": "2023-07-23T18:25:58.358Z"
   },
   {
    "duration": 87,
    "start_time": "2023-07-23T18:25:58.456Z"
   },
   {
    "duration": 56,
    "start_time": "2023-07-23T18:25:58.545Z"
   },
   {
    "duration": 61,
    "start_time": "2023-07-23T18:25:58.602Z"
   },
   {
    "duration": 57,
    "start_time": "2023-07-23T18:25:58.664Z"
   },
   {
    "duration": 58,
    "start_time": "2023-07-23T18:25:58.722Z"
   },
   {
    "duration": 11029,
    "start_time": "2023-07-23T18:26:15.237Z"
   },
   {
    "duration": 247,
    "start_time": "2023-07-23T18:26:26.268Z"
   },
   {
    "duration": 154,
    "start_time": "2023-07-23T18:26:26.516Z"
   },
   {
    "duration": 53,
    "start_time": "2023-07-23T18:26:26.673Z"
   },
   {
    "duration": 59,
    "start_time": "2023-07-23T18:26:26.728Z"
   },
   {
    "duration": 54,
    "start_time": "2023-07-23T18:26:26.788Z"
   },
   {
    "duration": 51,
    "start_time": "2023-07-23T18:26:26.844Z"
   },
   {
    "duration": 87,
    "start_time": "2023-07-23T18:26:26.897Z"
   },
   {
    "duration": 83,
    "start_time": "2023-07-23T18:26:26.987Z"
   },
   {
    "duration": 56,
    "start_time": "2023-07-23T18:26:27.074Z"
   },
   {
    "duration": 57,
    "start_time": "2023-07-23T18:26:27.131Z"
   },
   {
    "duration": 56,
    "start_time": "2023-07-23T18:26:27.189Z"
   },
   {
    "duration": 53,
    "start_time": "2023-07-23T18:26:27.246Z"
   },
   {
    "duration": 11718,
    "start_time": "2023-07-23T18:28:16.548Z"
   },
   {
    "duration": 254,
    "start_time": "2023-07-23T18:28:28.269Z"
   },
   {
    "duration": 146,
    "start_time": "2023-07-23T18:28:28.526Z"
   },
   {
    "duration": 52,
    "start_time": "2023-07-23T18:28:28.675Z"
   },
   {
    "duration": 51,
    "start_time": "2023-07-23T18:28:28.729Z"
   },
   {
    "duration": 52,
    "start_time": "2023-07-23T18:28:28.783Z"
   },
   {
    "duration": 51,
    "start_time": "2023-07-23T18:28:28.837Z"
   },
   {
    "duration": 3,
    "start_time": "2023-07-23T18:28:28.890Z"
   },
   {
    "duration": 90,
    "start_time": "2023-07-23T18:28:28.894Z"
   },
   {
    "duration": 54,
    "start_time": "2023-07-23T18:28:28.986Z"
   },
   {
    "duration": 3,
    "start_time": "2023-07-23T18:28:29.042Z"
   },
   {
    "duration": 75,
    "start_time": "2023-07-23T18:28:29.046Z"
   },
   {
    "duration": 56,
    "start_time": "2023-07-23T18:28:29.124Z"
   }
  ],
  "kernelspec": {
   "display_name": "Python 3 (ipykernel)",
   "language": "python",
   "name": "python3"
  },
  "language_info": {
   "codemirror_mode": {
    "name": "ipython",
    "version": 3
   },
   "file_extension": ".py",
   "mimetype": "text/x-python",
   "name": "python",
   "nbconvert_exporter": "python",
   "pygments_lexer": "ipython3",
   "version": "3.9.5"
  },
  "toc": {
   "base_numbering": 1,
   "nav_menu": {},
   "number_sections": true,
   "sideBar": true,
   "skip_h1_title": true,
   "title_cell": "Table of Contents",
   "title_sidebar": "Contents",
   "toc_cell": false,
   "toc_position": {},
   "toc_section_display": true,
   "toc_window_display": true
  }
 },
 "nbformat": 4,
 "nbformat_minor": 2
}
