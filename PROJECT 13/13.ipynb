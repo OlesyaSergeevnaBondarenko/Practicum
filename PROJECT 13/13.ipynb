{
 "cells": [
  {
   "cell_type": "markdown",
   "metadata": {},
   "source": [
    "## МАТЕРИАЛЫ\n",
    "\n",
    "[ПРЕЗЕНТАЦИЯ](https://disk.yandex.ru/i/tAGuJd0AoCE20A)\n",
    "\n",
    "[ДАШБОРД](https://public.tableau.com/app/profile/olesya.bondarenko8784/viz/DashboardBANK/Dashboard1?publish=yes)"
   ]
  },
  {
   "cell_type": "markdown",
   "metadata": {},
   "source": [
    "# БАНК - АНАЛИЗ ОТТОКА КЛИЕНТОВ\n",
    "\n",
    "Поставлена задача отделом маркетинга: максимально эффективно выделить сегменты отточных клиентов, что бы они были однородными, высокооточными и покрывали максимум проблемных зон банка. Таким образом, маркетинговое воздействие на эти сегменты должно приветсти к уменьшению.\n",
    "\n",
    "Такая необходимость возникла после драматического повышения оттока, возникла проблема, угрожающая дальнейшей работе банка.\n",
    "\n",
    "По условиям поставленной задачи были выделены следующие шаги исследования:\n",
    "\n",
    "1. Загрузить данные по клиентам банка и подготовить к исследованию\n",
    "\n",
    "- проверить наименование столбцов и привести к приемлимому, в случае необходимости;\n",
    "\n",
    "- просмотреть данные с помощью гистограмм и понять возможные ошибки в данных;\n",
    "\n",
    "- проверить данные на пропуски и определить их значимость;\n",
    "\n",
    "- проверить данные на дубликаты\n",
    "\n",
    "2. Проведем исследовательский анализ данных\n",
    "\n",
    "- изучим каждый столбец с данными и определим общий портрет клиента банка;\n",
    "\n",
    "- изучим данные по столбцу \"churn\" по средним и медиальным значениям;\n",
    "\n",
    "- определим функцию для построения гистограмм по данным оттока по всем остальным параметрам по нормализованным данным;\n",
    "\n",
    "- определим сигменты, объединяя признаки отточности\n",
    "\n",
    "- изучим корреляцию данных для ушедших из банка клиентов\n",
    "\n",
    "- сформулируем и проверим следующие гипотезы:\n",
    "\n",
    "Первая:\n",
    "\n",
    "Нулевая гипотеза H0 - \"Нет оснований считать,что доходы между теми клиентами, которые ушли и теми, которые остались, разные\"\n",
    "\n",
    "Альтернативная гипотеза Н1 - \"Доходы между теми клиентами, которые ушли и теми, которые остались, разные\"\n",
    "\n",
    "Вторая:\n",
    "\n",
    "Нулевая гипотеза H0 - \"Нет оснований считать,что скоринг между теми клиентами, которые ушли и теми, которые остались, разный\"\n",
    "\n",
    "Альтернативная гипотеза Н1 - \"Скоринг между теми клиентами, которые ушли и теми, которые остались, разный\"\n",
    "\n",
    "3. По полученным данным, предоставим выводы о том, какие признаки стратегическим образом влияют на отток и какие значения этих признаков связаны с оттоком. Предположим варианты выхода из сложившейся кризисной ситуации.\n",
    "\n",
    "\n",
    "# ШАГ 1 ПОДГОТОВКА ДАННЫХ К ИССЛЕДОВАНИЮ"
   ]
  },
  {
   "cell_type": "code",
   "execution_count": 1,
   "metadata": {},
   "outputs": [
    {
     "name": "stdout",
     "output_type": "stream",
     "text": [
      "Requirement already satisfied: phik in /opt/conda/lib/python3.9/site-packages (0.12.3)\n",
      "Requirement already satisfied: joblib>=0.14.1 in /opt/conda/lib/python3.9/site-packages (from phik) (1.1.0)\n",
      "Requirement already satisfied: pandas>=0.25.1 in /opt/conda/lib/python3.9/site-packages (from phik) (1.2.4)\n",
      "Requirement already satisfied: scipy>=1.5.2 in /opt/conda/lib/python3.9/site-packages (from phik) (1.9.1)\n",
      "Requirement already satisfied: matplotlib>=2.2.3 in /opt/conda/lib/python3.9/site-packages (from phik) (3.3.4)\n",
      "Requirement already satisfied: numpy>=1.18.0 in /opt/conda/lib/python3.9/site-packages (from phik) (1.21.1)\n",
      "Requirement already satisfied: cycler>=0.10 in /opt/conda/lib/python3.9/site-packages (from matplotlib>=2.2.3->phik) (0.11.0)\n",
      "Requirement already satisfied: pillow>=6.2.0 in /opt/conda/lib/python3.9/site-packages (from matplotlib>=2.2.3->phik) (8.4.0)\n",
      "Requirement already satisfied: kiwisolver>=1.0.1 in /opt/conda/lib/python3.9/site-packages (from matplotlib>=2.2.3->phik) (1.4.4)\n",
      "Requirement already satisfied: python-dateutil>=2.1 in /opt/conda/lib/python3.9/site-packages (from matplotlib>=2.2.3->phik) (2.8.1)\n",
      "Requirement already satisfied: pyparsing!=2.0.4,!=2.1.2,!=2.1.6,>=2.0.3 in /opt/conda/lib/python3.9/site-packages (from matplotlib>=2.2.3->phik) (2.4.7)\n",
      "Requirement already satisfied: pytz>=2017.3 in /opt/conda/lib/python3.9/site-packages (from pandas>=0.25.1->phik) (2021.1)\n",
      "Requirement already satisfied: six>=1.5 in /opt/conda/lib/python3.9/site-packages (from python-dateutil>=2.1->matplotlib>=2.2.3->phik) (1.16.0)\n"
     ]
    }
   ],
   "source": [
    "import pandas as pd\n",
    "import numpy as np\n",
    "import matplotlib as mpl\n",
    "import matplotlib.pyplot as plt\n",
    "import seaborn as sns\n",
    "import plotly.express as px\n",
    "import warnings; warnings.filterwarnings(action = 'ignore')\n",
    "\n",
    "from scipy import stats as st\n",
    "from plotly import graph_objects as go\n",
    "from IPython.display import set_matplotlib_formats\n",
    "from pandas.plotting import register_matplotlib_converters\n",
    "\n",
    "\n",
    "!pip install phik\n",
    "\n",
    "import phik\n",
    "from phik.report import plot_correlation_matrix\n",
    "from phik import report\n",
    "from phik import resources\n"
   ]
  },
  {
   "cell_type": "code",
   "execution_count": 2,
   "metadata": {},
   "outputs": [],
   "source": [
    "# чтение файла с данными \n",
    "\n",
    "bank = pd.read_csv('https://code.s3.yandex.net/datasets/bank_scrooge.csv')\n"
   ]
  },
  {
   "cell_type": "markdown",
   "metadata": {},
   "source": [
    "Датасет содержит данные о клиентах банка «Метанпром». Банк располагается в Ярославле и областных городах: Ростов Великий и Рыбинск."
   ]
  },
  {
   "cell_type": "code",
   "execution_count": 3,
   "metadata": {},
   "outputs": [
    {
     "name": "stdout",
     "output_type": "stream",
     "text": [
      "<class 'pandas.core.frame.DataFrame'>\n",
      "RangeIndex: 10000 entries, 0 to 9999\n",
      "Data columns (total 12 columns):\n",
      " #   Column         Non-Null Count  Dtype  \n",
      "---  ------         --------------  -----  \n",
      " 0   USERID         10000 non-null  int64  \n",
      " 1   score          10000 non-null  float64\n",
      " 2   city           10000 non-null  object \n",
      " 3   gender         10000 non-null  object \n",
      " 4   age            9974 non-null   float64\n",
      " 5   equity         10000 non-null  int64  \n",
      " 6   balance        7705 non-null   float64\n",
      " 7   products       10000 non-null  int64  \n",
      " 8   credit_card    10000 non-null  int64  \n",
      " 9   last_activity  10000 non-null  int64  \n",
      " 10  EST_SALARY     10000 non-null  float64\n",
      " 11  churn          10000 non-null  int64  \n",
      "dtypes: float64(4), int64(6), object(2)\n",
      "memory usage: 937.6+ KB\n",
      "\n"
     ]
    },
    {
     "data": {
      "text/plain": [
       "array([[<AxesSubplot:title={'center':'USERID'}>,\n",
       "        <AxesSubplot:title={'center':'score'}>,\n",
       "        <AxesSubplot:title={'center':'age'}>],\n",
       "       [<AxesSubplot:title={'center':'equity'}>,\n",
       "        <AxesSubplot:title={'center':'balance'}>,\n",
       "        <AxesSubplot:title={'center':'products'}>],\n",
       "       [<AxesSubplot:title={'center':'credit_card'}>,\n",
       "        <AxesSubplot:title={'center':'last_activity'}>,\n",
       "        <AxesSubplot:title={'center':'EST_SALARY'}>],\n",
       "       [<AxesSubplot:title={'center':'churn'}>, <AxesSubplot:>,\n",
       "        <AxesSubplot:>]], dtype=object)"
      ]
     },
     "execution_count": 3,
     "metadata": {},
     "output_type": "execute_result"
    },
    {
     "data": {
      "image/png": "[encoded data removed]",
      "text/plain": [
       "<Figure size 1080x1440 with 12 Axes>"
      ]
     },
     "metadata": {
      "needs_background": "light"
     },
     "output_type": "display_data"
    }
   ],
   "source": [
    "# изучим данные \n",
    "\n",
    "bank.info()\n",
    "print('')\n",
    "bank.hist(figsize=(15, 20))"
   ]
  },
  {
   "cell_type": "markdown",
   "metadata": {},
   "source": [
    "<div class=\"alert alert-success\">\n",
    "<b>👍 Успех:</b> Есть описание задачи, план реализации проекта, импортированы нужные библиотеки, датасет загружен и просмотрен\n",
    "</div>"
   ]
  },
  {
   "cell_type": "markdown",
   "metadata": {},
   "source": [
    "Нам представлен файл с 10000 строками, 12 столбцами:\n",
    "\n",
    "userid — идентификатор пользователя,\n",
    "\n",
    "score — баллы кредитного скоринга,\n",
    "\n",
    "City — город,\n",
    "\n",
    "Gender — пол,\n",
    "\n",
    "Age — возраст,\n",
    "\n",
    "equity — количество баллов собственности,\n",
    "\n",
    "Balance — баланс на счёте,\n",
    "\n",
    "Products — количество продуктов, которыми пользуется клиент,\n",
    "\n",
    "CreditCard — есть ли кредитная карта,\n",
    "\n",
    "Loyalty / last_activity — активный клиент,\n",
    "\n",
    "estimated_salary — заработная плата клиента,\n",
    "\n",
    "Churn — ушёл или нет.\n",
    "\n",
    "Сразу видим неверный формат в наименованиях столцов. Приведем все наименования к нижнему регистру и переименуем столбец USERID."
   ]
  },
  {
   "cell_type": "code",
   "execution_count": 4,
   "metadata": {},
   "outputs": [
    {
     "data": {
      "text/plain": [
       "Index(['user_id', 'score', 'city', 'gender', 'age', 'equity', 'balance',\n",
       "       'products', 'credit_card', 'last_activity', 'est_salary', 'churn'],\n",
       "      dtype='object')"
      ]
     },
     "execution_count": 4,
     "metadata": {},
     "output_type": "execute_result"
    }
   ],
   "source": [
    "# приведем названия столбцов к нижнему регистру, изменим названия на приемлемые:\n",
    "bank.columns = bank.columns.str.lower()\n",
    "bank = bank.rename(columns={'userid' : 'user_id'})\n",
    "bank.columns"
   ]
  },
  {
   "cell_type": "markdown",
   "metadata": {},
   "source": [
    "По гистограммам мы уже можем отметить:\n",
    "\n",
    "- низкий уровень скорринга присвоен небольшому количеству клиентов. Это мы посмотрим в дальнейшем исследовании предметно и в цифрах. Это означает, что основной портрет клиента банка - финансово ответственный и \"интересный\" для банка потребитель;\n",
    "\n",
    "- основная возрастная группа потребителей банковских продуктов - это 30-45 лет. Отмечаются клиенты и за 80 лет, что наводит на мысль посмотреть на аномальные значения по данной группе;\n",
    "\n",
    "- количество баллов собственности низкий у максимально большой группы клиентов, но по общей базе клиентов преобладают оценки 2-5. Максимальная оценка 8-9 баллов не достигается. Это может нам характеризовать клиентов, как средне-статистически состоятельных, но не подходящих под признаки \"богатых\";\n",
    "\n",
    "- баланс нам ничего не скажет особенного\n",
    "\n",
    "- количество используемых продуктов банка клиентами в основной массе составлял 2 продукта, далее большинсов использовало только 1 продукт банк, а вот 3-4-5 было у редкостью. Этот парамент нам может помочь в исследовании оттока клиентов;\n",
    "\n",
    "- большая часть клиентов использовала кредитную карту;\n",
    "\n",
    "- активность клиентов, как потребителей продукции банка, была тоже выше, но не решающе в сравнении с клиентами, опередедленными в группу \"неактивный\";\n",
    "\n",
    "- заработная плата удивила своим высоким показателем, при утановленном прожиточном минимуме в регионе в размере 13890р. Изучим в дальнейшем на выбросы.\n"
   ]
  },
  {
   "cell_type": "markdown",
   "metadata": {},
   "source": [
    "<div class=\"alert alert-success\">\n",
    "<b>👍 Успех:</b> Все верно!\n",
    "</div>"
   ]
  },
  {
   "cell_type": "code",
   "execution_count": 5,
   "metadata": {},
   "outputs": [
    {
     "data": {
      "text/html": [
       "<div>\n",
       "<style scoped>\n",
       "    .dataframe tbody tr th:only-of-type {\n",
       "        vertical-align: middle;\n",
       "    }\n",
       "\n",
       "    .dataframe tbody tr th {\n",
       "        vertical-align: top;\n",
       "    }\n",
       "\n",
       "    .dataframe thead th {\n",
       "        text-align: right;\n",
       "    }\n",
       "</style>\n",
       "<table border=\"1\" class=\"dataframe\">\n",
       "  <thead>\n",
       "    <tr style=\"text-align: right;\">\n",
       "      <th></th>\n",
       "      <th>user_id</th>\n",
       "      <th>score</th>\n",
       "      <th>city</th>\n",
       "      <th>gender</th>\n",
       "      <th>age</th>\n",
       "      <th>equity</th>\n",
       "      <th>balance</th>\n",
       "      <th>products</th>\n",
       "      <th>credit_card</th>\n",
       "      <th>last_activity</th>\n",
       "      <th>est_salary</th>\n",
       "      <th>churn</th>\n",
       "    </tr>\n",
       "  </thead>\n",
       "  <tbody>\n",
       "    <tr>\n",
       "      <th>0</th>\n",
       "      <td>183012</td>\n",
       "      <td>850.0</td>\n",
       "      <td>Рыбинск</td>\n",
       "      <td>Ж</td>\n",
       "      <td>25.0</td>\n",
       "      <td>1</td>\n",
       "      <td>59214.82</td>\n",
       "      <td>2</td>\n",
       "      <td>0</td>\n",
       "      <td>1</td>\n",
       "      <td>75719.14</td>\n",
       "      <td>1</td>\n",
       "    </tr>\n",
       "    <tr>\n",
       "      <th>1</th>\n",
       "      <td>146556</td>\n",
       "      <td>861.0</td>\n",
       "      <td>Рыбинск</td>\n",
       "      <td>Ж</td>\n",
       "      <td>37.0</td>\n",
       "      <td>5</td>\n",
       "      <td>850594.33</td>\n",
       "      <td>3</td>\n",
       "      <td>1</td>\n",
       "      <td>0</td>\n",
       "      <td>86621.77</td>\n",
       "      <td>0</td>\n",
       "    </tr>\n",
       "    <tr>\n",
       "      <th>2</th>\n",
       "      <td>120722</td>\n",
       "      <td>892.0</td>\n",
       "      <td>Рыбинск</td>\n",
       "      <td>Ж</td>\n",
       "      <td>30.0</td>\n",
       "      <td>0</td>\n",
       "      <td>NaN</td>\n",
       "      <td>1</td>\n",
       "      <td>1</td>\n",
       "      <td>1</td>\n",
       "      <td>107683.34</td>\n",
       "      <td>0</td>\n",
       "    </tr>\n",
       "    <tr>\n",
       "      <th>3</th>\n",
       "      <td>225363</td>\n",
       "      <td>866.0</td>\n",
       "      <td>Ярославль</td>\n",
       "      <td>Ж</td>\n",
       "      <td>51.0</td>\n",
       "      <td>5</td>\n",
       "      <td>1524746.26</td>\n",
       "      <td>2</td>\n",
       "      <td>0</td>\n",
       "      <td>1</td>\n",
       "      <td>174423.53</td>\n",
       "      <td>1</td>\n",
       "    </tr>\n",
       "    <tr>\n",
       "      <th>4</th>\n",
       "      <td>157978</td>\n",
       "      <td>730.0</td>\n",
       "      <td>Ярославль</td>\n",
       "      <td>М</td>\n",
       "      <td>34.0</td>\n",
       "      <td>5</td>\n",
       "      <td>174.00</td>\n",
       "      <td>1</td>\n",
       "      <td>1</td>\n",
       "      <td>0</td>\n",
       "      <td>67353.16</td>\n",
       "      <td>1</td>\n",
       "    </tr>\n",
       "    <tr>\n",
       "      <th>5</th>\n",
       "      <td>202305</td>\n",
       "      <td>856.0</td>\n",
       "      <td>Рыбинск</td>\n",
       "      <td>М</td>\n",
       "      <td>56.0</td>\n",
       "      <td>4</td>\n",
       "      <td>863687.24</td>\n",
       "      <td>3</td>\n",
       "      <td>1</td>\n",
       "      <td>0</td>\n",
       "      <td>156619.80</td>\n",
       "      <td>0</td>\n",
       "    </tr>\n",
       "    <tr>\n",
       "      <th>6</th>\n",
       "      <td>177259</td>\n",
       "      <td>807.0</td>\n",
       "      <td>Ярославль</td>\n",
       "      <td>Ж</td>\n",
       "      <td>39.0</td>\n",
       "      <td>3</td>\n",
       "      <td>405042.44</td>\n",
       "      <td>3</td>\n",
       "      <td>0</td>\n",
       "      <td>1</td>\n",
       "      <td>103838.32</td>\n",
       "      <td>0</td>\n",
       "    </tr>\n",
       "    <tr>\n",
       "      <th>7</th>\n",
       "      <td>218868</td>\n",
       "      <td>825.0</td>\n",
       "      <td>Ярославль</td>\n",
       "      <td>Ж</td>\n",
       "      <td>38.0</td>\n",
       "      <td>4</td>\n",
       "      <td>458145.40</td>\n",
       "      <td>2</td>\n",
       "      <td>1</td>\n",
       "      <td>1</td>\n",
       "      <td>68085.48</td>\n",
       "      <td>0</td>\n",
       "    </tr>\n",
       "    <tr>\n",
       "      <th>8</th>\n",
       "      <td>211686</td>\n",
       "      <td>923.0</td>\n",
       "      <td>Ярославль</td>\n",
       "      <td>М</td>\n",
       "      <td>54.0</td>\n",
       "      <td>5</td>\n",
       "      <td>1206337.87</td>\n",
       "      <td>2</td>\n",
       "      <td>1</td>\n",
       "      <td>0</td>\n",
       "      <td>155371.79</td>\n",
       "      <td>0</td>\n",
       "    </tr>\n",
       "    <tr>\n",
       "      <th>9</th>\n",
       "      <td>133130</td>\n",
       "      <td>906.0</td>\n",
       "      <td>Ярославль</td>\n",
       "      <td>Ж</td>\n",
       "      <td>67.0</td>\n",
       "      <td>0</td>\n",
       "      <td>NaN</td>\n",
       "      <td>1</td>\n",
       "      <td>0</td>\n",
       "      <td>1</td>\n",
       "      <td>238055.53</td>\n",
       "      <td>0</td>\n",
       "    </tr>\n",
       "  </tbody>\n",
       "</table>\n",
       "</div>"
      ],
      "text/plain": [
       "   user_id  score       city gender   age  equity     balance  products  \\\n",
       "0   183012  850.0    Рыбинск      Ж  25.0       1    59214.82         2   \n",
       "1   146556  861.0    Рыбинск      Ж  37.0       5   850594.33         3   \n",
       "2   120722  892.0    Рыбинск      Ж  30.0       0         NaN         1   \n",
       "3   225363  866.0  Ярославль      Ж  51.0       5  1524746.26         2   \n",
       "4   157978  730.0  Ярославль      М  34.0       5      174.00         1   \n",
       "5   202305  856.0    Рыбинск      М  56.0       4   863687.24         3   \n",
       "6   177259  807.0  Ярославль      Ж  39.0       3   405042.44         3   \n",
       "7   218868  825.0  Ярославль      Ж  38.0       4   458145.40         2   \n",
       "8   211686  923.0  Ярославль      М  54.0       5  1206337.87         2   \n",
       "9   133130  906.0  Ярославль      Ж  67.0       0         NaN         1   \n",
       "\n",
       "   credit_card  last_activity  est_salary  churn  \n",
       "0            0              1    75719.14      1  \n",
       "1            1              0    86621.77      0  \n",
       "2            1              1   107683.34      0  \n",
       "3            0              1   174423.53      1  \n",
       "4            1              0    67353.16      1  \n",
       "5            1              0   156619.80      0  \n",
       "6            0              1   103838.32      0  \n",
       "7            1              1    68085.48      0  \n",
       "8            1              0   155371.79      0  \n",
       "9            0              1   238055.53      0  "
      ]
     },
     "metadata": {},
     "output_type": "display_data"
    },
    {
     "name": "stdout",
     "output_type": "stream",
     "text": [
      "____________________________________________________________________________\n",
      "Явных дубликатов:\n",
      "0\n"
     ]
    }
   ],
   "source": [
    "# посмотрим на часть данных и проверим на наличие дубликатов\n",
    "\n",
    "display(bank.head(10))\n",
    "print(\"____________________________________________________________________________\")\n",
    "print('Явных дубликатов:')\n",
    "print(bank.duplicated().sum())\n"
   ]
  },
  {
   "cell_type": "markdown",
   "metadata": {},
   "source": [
    "<div class=\"alert alert-success\">\n",
    "<b>👍 Успех:</b> Все верно!\n",
    "</div>"
   ]
  },
  {
   "cell_type": "code",
   "execution_count": 6,
   "metadata": {},
   "outputs": [
    {
     "data": {
      "text/html": [
       "<style  type=\"text/css\" >\n",
       "#T_85c7d_row0_col0,#T_85c7d_row1_col0,#T_85c7d_row2_col0,#T_85c7d_row3_col0,#T_85c7d_row4_col0,#T_85c7d_row5_col0,#T_85c7d_row7_col0,#T_85c7d_row8_col0,#T_85c7d_row9_col0,#T_85c7d_row10_col0,#T_85c7d_row11_col0{\n",
       "            background-color:  #3b4cc0;\n",
       "            color:  #f1f1f1;\n",
       "        }#T_85c7d_row6_col0{\n",
       "            background-color:  #b40426;\n",
       "            color:  #f1f1f1;\n",
       "        }</style><table id=\"T_85c7d_\" ><thead>    <tr>        <th class=\"blank level0\" ></th>        <th class=\"col_heading level0 col0\" >0</th>    </tr></thead><tbody>\n",
       "                <tr>\n",
       "                        <th id=\"T_85c7d_level0_row0\" class=\"row_heading level0 row0\" >user_id</th>\n",
       "                        <td id=\"T_85c7d_row0_col0\" class=\"data row0 col0\" >0.000000</td>\n",
       "            </tr>\n",
       "            <tr>\n",
       "                        <th id=\"T_85c7d_level0_row1\" class=\"row_heading level0 row1\" >score</th>\n",
       "                        <td id=\"T_85c7d_row1_col0\" class=\"data row1 col0\" >0.000000</td>\n",
       "            </tr>\n",
       "            <tr>\n",
       "                        <th id=\"T_85c7d_level0_row2\" class=\"row_heading level0 row2\" >city</th>\n",
       "                        <td id=\"T_85c7d_row2_col0\" class=\"data row2 col0\" >0.000000</td>\n",
       "            </tr>\n",
       "            <tr>\n",
       "                        <th id=\"T_85c7d_level0_row3\" class=\"row_heading level0 row3\" >gender</th>\n",
       "                        <td id=\"T_85c7d_row3_col0\" class=\"data row3 col0\" >0.000000</td>\n",
       "            </tr>\n",
       "            <tr>\n",
       "                        <th id=\"T_85c7d_level0_row4\" class=\"row_heading level0 row4\" >age</th>\n",
       "                        <td id=\"T_85c7d_row4_col0\" class=\"data row4 col0\" >0.000000</td>\n",
       "            </tr>\n",
       "            <tr>\n",
       "                        <th id=\"T_85c7d_level0_row5\" class=\"row_heading level0 row5\" >equity</th>\n",
       "                        <td id=\"T_85c7d_row5_col0\" class=\"data row5 col0\" >0.000000</td>\n",
       "            </tr>\n",
       "            <tr>\n",
       "                        <th id=\"T_85c7d_level0_row6\" class=\"row_heading level0 row6\" >balance</th>\n",
       "                        <td id=\"T_85c7d_row6_col0\" class=\"data row6 col0\" >23.000000</td>\n",
       "            </tr>\n",
       "            <tr>\n",
       "                        <th id=\"T_85c7d_level0_row7\" class=\"row_heading level0 row7\" >products</th>\n",
       "                        <td id=\"T_85c7d_row7_col0\" class=\"data row7 col0\" >0.000000</td>\n",
       "            </tr>\n",
       "            <tr>\n",
       "                        <th id=\"T_85c7d_level0_row8\" class=\"row_heading level0 row8\" >credit_card</th>\n",
       "                        <td id=\"T_85c7d_row8_col0\" class=\"data row8 col0\" >0.000000</td>\n",
       "            </tr>\n",
       "            <tr>\n",
       "                        <th id=\"T_85c7d_level0_row9\" class=\"row_heading level0 row9\" >last_activity</th>\n",
       "                        <td id=\"T_85c7d_row9_col0\" class=\"data row9 col0\" >0.000000</td>\n",
       "            </tr>\n",
       "            <tr>\n",
       "                        <th id=\"T_85c7d_level0_row10\" class=\"row_heading level0 row10\" >est_salary</th>\n",
       "                        <td id=\"T_85c7d_row10_col0\" class=\"data row10 col0\" >0.000000</td>\n",
       "            </tr>\n",
       "            <tr>\n",
       "                        <th id=\"T_85c7d_level0_row11\" class=\"row_heading level0 row11\" >churn</th>\n",
       "                        <td id=\"T_85c7d_row11_col0\" class=\"data row11 col0\" >0.000000</td>\n",
       "            </tr>\n",
       "    </tbody></table>"
      ],
      "text/plain": [
       "<pandas.io.formats.style.Styler at 0x7f5025329fd0>"
      ]
     },
     "execution_count": 6,
     "metadata": {},
     "output_type": "execute_result"
    }
   ],
   "source": [
    "# посмотрим наличие пропусков\n",
    "pd.DataFrame(round(bank.isna().mean()*100,)).style.background_gradient('coolwarm')"
   ]
  },
  {
   "cell_type": "markdown",
   "metadata": {},
   "source": [
    "По столбцу balance мы имеем пропущенные данные. Заполнять их самостоятельно будет некорректно. Их количество крайне несущественно. Можно просто оставить, как есть. это не помешает нашему дальнейшему исследованию."
   ]
  },
  {
   "cell_type": "code",
   "execution_count": 7,
   "metadata": {},
   "outputs": [
    {
     "name": "stdout",
     "output_type": "stream",
     "text": [
      "Количество уникальных значений: 9927\n"
     ]
    }
   ],
   "source": [
    "# изучим столбец \"user_id\"\n",
    "\n",
    "print('Количество уникальных значений:', bank['user_id'].unique().shape[0])"
   ]
  },
  {
   "cell_type": "markdown",
   "metadata": {},
   "source": [
    "Видим, что не все 10000 уникальны. Посмотрим подробнее."
   ]
  },
  {
   "cell_type": "code",
   "execution_count": 8,
   "metadata": {},
   "outputs": [
    {
     "data": {
      "text/html": [
       "<div>\n",
       "<style scoped>\n",
       "    .dataframe tbody tr th:only-of-type {\n",
       "        vertical-align: middle;\n",
       "    }\n",
       "\n",
       "    .dataframe tbody tr th {\n",
       "        vertical-align: top;\n",
       "    }\n",
       "\n",
       "    .dataframe thead th {\n",
       "        text-align: right;\n",
       "    }\n",
       "</style>\n",
       "<table border=\"1\" class=\"dataframe\">\n",
       "  <thead>\n",
       "    <tr style=\"text-align: right;\">\n",
       "      <th></th>\n",
       "      <th>user_id</th>\n",
       "      <th>score</th>\n",
       "      <th>city</th>\n",
       "      <th>gender</th>\n",
       "      <th>age</th>\n",
       "      <th>equity</th>\n",
       "      <th>balance</th>\n",
       "      <th>products</th>\n",
       "      <th>credit_card</th>\n",
       "      <th>last_activity</th>\n",
       "      <th>est_salary</th>\n",
       "      <th>churn</th>\n",
       "    </tr>\n",
       "  </thead>\n",
       "  <tbody>\n",
       "    <tr>\n",
       "      <th>1893</th>\n",
       "      <td>116540</td>\n",
       "      <td>883.0</td>\n",
       "      <td>Рыбинск</td>\n",
       "      <td>Ж</td>\n",
       "      <td>55.0</td>\n",
       "      <td>1</td>\n",
       "      <td>362756.49</td>\n",
       "      <td>3</td>\n",
       "      <td>0</td>\n",
       "      <td>1</td>\n",
       "      <td>175920.48</td>\n",
       "      <td>1</td>\n",
       "    </tr>\n",
       "    <tr>\n",
       "      <th>7694</th>\n",
       "      <td>116540</td>\n",
       "      <td>887.0</td>\n",
       "      <td>Ярославль</td>\n",
       "      <td>Ж</td>\n",
       "      <td>38.0</td>\n",
       "      <td>0</td>\n",
       "      <td>NaN</td>\n",
       "      <td>1</td>\n",
       "      <td>0</td>\n",
       "      <td>1</td>\n",
       "      <td>119247.61</td>\n",
       "      <td>0</td>\n",
       "    </tr>\n",
       "    <tr>\n",
       "      <th>7542</th>\n",
       "      <td>117943</td>\n",
       "      <td>880.0</td>\n",
       "      <td>Ярославль</td>\n",
       "      <td>Ж</td>\n",
       "      <td>40.0</td>\n",
       "      <td>0</td>\n",
       "      <td>NaN</td>\n",
       "      <td>1</td>\n",
       "      <td>1</td>\n",
       "      <td>0</td>\n",
       "      <td>137718.93</td>\n",
       "      <td>0</td>\n",
       "    </tr>\n",
       "    <tr>\n",
       "      <th>4866</th>\n",
       "      <td>117943</td>\n",
       "      <td>855.0</td>\n",
       "      <td>Рыбинск</td>\n",
       "      <td>Ж</td>\n",
       "      <td>32.0</td>\n",
       "      <td>6</td>\n",
       "      <td>1036832.93</td>\n",
       "      <td>4</td>\n",
       "      <td>1</td>\n",
       "      <td>1</td>\n",
       "      <td>107792.71</td>\n",
       "      <td>1</td>\n",
       "    </tr>\n",
       "    <tr>\n",
       "      <th>5896</th>\n",
       "      <td>120258</td>\n",
       "      <td>905.0</td>\n",
       "      <td>Ярославль</td>\n",
       "      <td>М</td>\n",
       "      <td>30.0</td>\n",
       "      <td>0</td>\n",
       "      <td>NaN</td>\n",
       "      <td>1</td>\n",
       "      <td>1</td>\n",
       "      <td>1</td>\n",
       "      <td>146427.96</td>\n",
       "      <td>0</td>\n",
       "    </tr>\n",
       "    <tr>\n",
       "      <th>...</th>\n",
       "      <td>...</td>\n",
       "      <td>...</td>\n",
       "      <td>...</td>\n",
       "      <td>...</td>\n",
       "      <td>...</td>\n",
       "      <td>...</td>\n",
       "      <td>...</td>\n",
       "      <td>...</td>\n",
       "      <td>...</td>\n",
       "      <td>...</td>\n",
       "      <td>...</td>\n",
       "      <td>...</td>\n",
       "    </tr>\n",
       "    <tr>\n",
       "      <th>2597</th>\n",
       "      <td>226719</td>\n",
       "      <td>990.0</td>\n",
       "      <td>Ярославль</td>\n",
       "      <td>М</td>\n",
       "      <td>37.0</td>\n",
       "      <td>4</td>\n",
       "      <td>14648692.14</td>\n",
       "      <td>2</td>\n",
       "      <td>0</td>\n",
       "      <td>0</td>\n",
       "      <td>934412.61</td>\n",
       "      <td>1</td>\n",
       "    </tr>\n",
       "    <tr>\n",
       "      <th>8205</th>\n",
       "      <td>227795</td>\n",
       "      <td>840.0</td>\n",
       "      <td>Рыбинск</td>\n",
       "      <td>М</td>\n",
       "      <td>34.0</td>\n",
       "      <td>2</td>\n",
       "      <td>350768.03</td>\n",
       "      <td>1</td>\n",
       "      <td>1</td>\n",
       "      <td>0</td>\n",
       "      <td>102036.14</td>\n",
       "      <td>1</td>\n",
       "    </tr>\n",
       "    <tr>\n",
       "      <th>8497</th>\n",
       "      <td>227795</td>\n",
       "      <td>839.0</td>\n",
       "      <td>Ярославль</td>\n",
       "      <td>М</td>\n",
       "      <td>34.0</td>\n",
       "      <td>2</td>\n",
       "      <td>326593.14</td>\n",
       "      <td>2</td>\n",
       "      <td>1</td>\n",
       "      <td>0</td>\n",
       "      <td>103314.92</td>\n",
       "      <td>0</td>\n",
       "    </tr>\n",
       "    <tr>\n",
       "      <th>6457</th>\n",
       "      <td>228075</td>\n",
       "      <td>839.0</td>\n",
       "      <td>Рыбинск</td>\n",
       "      <td>М</td>\n",
       "      <td>39.0</td>\n",
       "      <td>5</td>\n",
       "      <td>507199.85</td>\n",
       "      <td>3</td>\n",
       "      <td>0</td>\n",
       "      <td>1</td>\n",
       "      <td>85195.80</td>\n",
       "      <td>0</td>\n",
       "    </tr>\n",
       "    <tr>\n",
       "      <th>1247</th>\n",
       "      <td>228075</td>\n",
       "      <td>932.0</td>\n",
       "      <td>Ярославль</td>\n",
       "      <td>М</td>\n",
       "      <td>NaN</td>\n",
       "      <td>5</td>\n",
       "      <td>7601719.20</td>\n",
       "      <td>2</td>\n",
       "      <td>1</td>\n",
       "      <td>1</td>\n",
       "      <td>408121.16</td>\n",
       "      <td>0</td>\n",
       "    </tr>\n",
       "  </tbody>\n",
       "</table>\n",
       "<p>146 rows × 12 columns</p>\n",
       "</div>"
      ],
      "text/plain": [
       "      user_id  score       city gender   age  equity      balance  products  \\\n",
       "1893   116540  883.0    Рыбинск      Ж  55.0       1    362756.49         3   \n",
       "7694   116540  887.0  Ярославль      Ж  38.0       0          NaN         1   \n",
       "7542   117943  880.0  Ярославль      Ж  40.0       0          NaN         1   \n",
       "4866   117943  855.0    Рыбинск      Ж  32.0       6   1036832.93         4   \n",
       "5896   120258  905.0  Ярославль      М  30.0       0          NaN         1   \n",
       "...       ...    ...        ...    ...   ...     ...          ...       ...   \n",
       "2597   226719  990.0  Ярославль      М  37.0       4  14648692.14         2   \n",
       "8205   227795  840.0    Рыбинск      М  34.0       2    350768.03         1   \n",
       "8497   227795  839.0  Ярославль      М  34.0       2    326593.14         2   \n",
       "6457   228075  839.0    Рыбинск      М  39.0       5    507199.85         3   \n",
       "1247   228075  932.0  Ярославль      М   NaN       5   7601719.20         2   \n",
       "\n",
       "      credit_card  last_activity  est_salary  churn  \n",
       "1893            0              1   175920.48      1  \n",
       "7694            0              1   119247.61      0  \n",
       "7542            1              0   137718.93      0  \n",
       "4866            1              1   107792.71      1  \n",
       "5896            1              1   146427.96      0  \n",
       "...           ...            ...         ...    ...  \n",
       "2597            0              0   934412.61      1  \n",
       "8205            1              0   102036.14      1  \n",
       "8497            1              0   103314.92      0  \n",
       "6457            0              1    85195.80      0  \n",
       "1247            1              1   408121.16      0  \n",
       "\n",
       "[146 rows x 12 columns]"
      ]
     },
     "execution_count": 8,
     "metadata": {},
     "output_type": "execute_result"
    }
   ],
   "source": [
    "# изучим неявные дубликаты в столбце \"user_id\"\n",
    "bank[bank['user_id'].duplicated(keep=False)].sort_values(by='user_id').head(1000)"
   ]
  },
  {
   "cell_type": "markdown",
   "metadata": {},
   "source": [
    "Видим 73 повтора id, но с совершенно различными остальными данными. Можем предположить, что были \"слиты\" две ранее независимые базы клиентов по Ярославлю и Рыбинску в одну, поэтому и произошло задвоение номера. Оставим данные дубликаты без изменений. Будет крайне неккорекно для нашего исследования их удалять."
   ]
  },
  {
   "cell_type": "markdown",
   "metadata": {},
   "source": [
    "<div class=\"alert alert-success\">\n",
    "<b>👍 Успех:</b> Все верно!\n",
    "</div>"
   ]
  },
  {
   "cell_type": "code",
   "execution_count": 9,
   "metadata": {},
   "outputs": [
    {
     "data": {
      "text/plain": [
       "Ярославль    5888\n",
       "Рыбинск      2695\n",
       "Ростов       1417\n",
       "Name: city, dtype: int64"
      ]
     },
     "execution_count": 9,
     "metadata": {},
     "output_type": "execute_result"
    }
   ],
   "source": [
    "# рассмотрим какие города нам представлены\n",
    "\n",
    "bank['city'].value_counts()"
   ]
  },
  {
   "cell_type": "markdown",
   "metadata": {},
   "source": [
    "Основная часть клиентов из Ярославля (5888 потребителей), Рыбинск - 2695 клиентов, Ростов - 1417."
   ]
  },
  {
   "cell_type": "code",
   "execution_count": 10,
   "metadata": {},
   "outputs": [
    {
     "data": {
      "text/plain": [
       "М    5005\n",
       "Ж    4995\n",
       "Name: gender, dtype: int64"
      ]
     },
     "execution_count": 10,
     "metadata": {},
     "output_type": "execute_result"
    }
   ],
   "source": [
    "# рассмотрим количество клиентов с гендерной точки зрения\n",
    "\n",
    "bank['gender'].value_counts()"
   ]
  },
  {
   "cell_type": "markdown",
   "metadata": {},
   "source": [
    "Как видим, существенного преимущества мужчины или женщины являются клиентами банка, нет. 5005 человек - мужского пола, 4995 - женского."
   ]
  },
  {
   "cell_type": "code",
   "execution_count": 11,
   "metadata": {},
   "outputs": [
    {
     "data": {
      "text/plain": [
       "36.0    414\n",
       "37.0    402\n",
       "33.0    392\n",
       "35.0    388\n",
       "34.0    384\n",
       "       ... \n",
       "83.0      3\n",
       "82.0      2\n",
       "84.0      2\n",
       "86.0      2\n",
       "79.0      2\n",
       "Name: age, Length: 68, dtype: int64"
      ]
     },
     "execution_count": 11,
     "metadata": {},
     "output_type": "execute_result"
    }
   ],
   "source": [
    "# рассмотрим какой возраст представлен\n",
    "\n",
    "bank['age'].value_counts()"
   ]
  },
  {
   "cell_type": "markdown",
   "metadata": {},
   "source": [
    "Как помним по гистограмме, возраст превышем 80+. Посмотрим \"ящик с усами\""
   ]
  },
  {
   "cell_type": "code",
   "execution_count": 14,
   "metadata": {},
   "outputs": [
    {
     "data": {
      "text/plain": [
       "2    5126\n",
       "1    3341\n",
       "3    1039\n",
       "4     474\n",
       "5      19\n",
       "0       1\n",
       "Name: products, dtype: int64"
      ]
     },
     "execution_count": 14,
     "metadata": {},
     "output_type": "execute_result"
    }
   ],
   "source": [
    "# посмотрим какое количество продуктов банка чаще использовались клиентами \n",
    "\n",
    "bank['products'].value_counts()"
   ]
  },
  {
   "cell_type": "markdown",
   "metadata": {},
   "source": [
    "Половина клиентов использовала 2 продукта банка, около менее одной третей - только одним видом, а вот 3 и более составили менее 20% от общего количества клиентов банка."
   ]
  },
  {
   "cell_type": "code",
   "execution_count": 15,
   "metadata": {
    "scrolled": true
   },
   "outputs": [
    {
     "name": "stdout",
     "output_type": "stream",
     "text": [
      "Количество строк после удаления: 9999\n"
     ]
    }
   ],
   "source": [
    "bank = bank[bank[\"products\"] != 0] \n",
    "print('Количество строк после удаления:', len(bank))"
   ]
  },
  {
   "cell_type": "code",
   "execution_count": 16,
   "metadata": {},
   "outputs": [
    {
     "data": {
      "text/plain": [
       "count    9.999000e+03\n",
       "mean     1.478792e+05\n",
       "std      1.393901e+05\n",
       "min      2.546300e+03\n",
       "25%      7.525212e+04\n",
       "50%      1.196615e+05\n",
       "75%      1.745011e+05\n",
       "max      1.395064e+06\n",
       "Name: est_salary, dtype: float64"
      ]
     },
     "execution_count": 16,
     "metadata": {},
     "output_type": "execute_result"
    }
   ],
   "source": [
    "# изучим столбец est_salary (уже с предчувствием)\n",
    "\n",
    "bank['est_salary'].describe()"
   ]
  },
  {
   "cell_type": "markdown",
   "metadata": {},
   "source": [
    "Удивительный максимум в размере выше 1395064 р. Все же допустим, что это реальная зп, отдельно уполномоченного лица. Минимум в 2546р допускаем, возможны получения пособий или работа по пол-ставки. "
   ]
  },
  {
   "cell_type": "code",
   "execution_count": 19,
   "metadata": {},
   "outputs": [
    {
     "data": {
      "text/plain": [
       "1    6804\n",
       "0    3195\n",
       "Name: credit_card, dtype: int64"
      ]
     },
     "execution_count": 19,
     "metadata": {},
     "output_type": "execute_result"
    }
   ],
   "source": [
    "# изучим сколько клиентов пользовались/не пользовались кредитными картам\n",
    "\n",
    "bank['credit_card'].value_counts()"
   ]
  },
  {
   "cell_type": "markdown",
   "metadata": {},
   "source": [
    "Большая половина клиентов имели кредитную карту. Данная услуга была популярна в банке."
   ]
  },
  {
   "cell_type": "code",
   "execution_count": 20,
   "metadata": {},
   "outputs": [
    {
     "data": {
      "text/plain": [
       "1    5235\n",
       "0    4764\n",
       "Name: last_activity, dtype: int64"
      ]
     },
     "execution_count": 20,
     "metadata": {},
     "output_type": "execute_result"
    }
   ],
   "source": [
    "# посмотрим активность клиентов\n",
    "\n",
    "bank['last_activity'].value_counts()"
   ]
  },
  {
   "cell_type": "markdown",
   "metadata": {},
   "source": [
    "Практически 50 на 50 по активности или не активности использования банковских продуктов клиенты банка. Данная оценка не дает нам определенной характеристики для составления портрета клиента банка. Можем с большооооой натяжкой все же определить, что основной клиент был все же активным."
   ]
  },
  {
   "cell_type": "code",
   "execution_count": 21,
   "metadata": {},
   "outputs": [
    {
     "data": {
      "text/plain": [
       "0    8180\n",
       "1    1819\n",
       "Name: churn, dtype: int64"
      ]
     },
     "execution_count": 21,
     "metadata": {},
     "output_type": "execute_result"
    }
   ],
   "source": [
    "# как распределилось количество клиентов по условию ушли(1)/остались(0)\n",
    "\n",
    "bank['churn'].value_counts()"
   ]
  },
  {
   "cell_type": "markdown",
   "metadata": {},
   "source": [
    "Основная часть все же остались клиентами банка. Но 22% является существенным показателем для оттока. Теперь на количественном уровне мы видим маштаб бедствия и причины поставленной нам задачи.\n",
    "\n",
    "\n",
    "Мы получили и изучили на предмет ошибок или аномалий данные по клиентам банка. \n",
    "\n",
    "Привели в соответствие визуальный ряд. Убрали выбросы в данных по возрасту и заработной плате и узнали следующее:\n",
    "\n",
    "- основная часть клиентов - ярославцы (5888 потребителей), из Рыбинска - 2695 клиентов, из Ростова - 1417.\n",
    "\n",
    "- существенного преимущества мужчины или женщины являются клиентами банка, нет. 5005 человек - мужского пола, 4995 - женского.\n",
    "\n",
    "- половина клиентов использовала 2 продукта банка, около менее одной третей - только одним видом, а вот 3 и более составили менее 20% от общего количества клиентов банка.\n",
    "\n",
    "- в ярославской области у клиентов банка отличная и по меркам Московской области, а может и Москвы, заработная плата (апплодисменты).\n",
    "\n",
    "- большая половина клиентов (6464 человека) имели кредитную карту. Данная услуга была популярна в банке.\n",
    "\n",
    "- основной клиент банка все же лоялен и был активным пользователем банковских продокутов.\n",
    "\n",
    "- 22% отказалось от обслуживания в банке и ушли.\n",
    "\n",
    " <div class=\"alert alert-success\">\n",
    " <b>👍 Успех:</b> Все верно!\n",
    " </div>\n",
    "\n",
    "\n",
    "\n",
    "# ШАГ 2 ИССЛЕДОВАТЕЛЬСКИЙ АНАЛИЗ ДАННЫХ\n",
    "\n",
    "\n",
    "Первым моментом для исследования приходит в голову, а не зря ли определен скорринг \"плохо\" или \"очень плохо\". Изучим, сколько клиентов банка имели такие характеристики."
   ]
  },
  {
   "cell_type": "code",
   "execution_count": 22,
   "metadata": {},
   "outputs": [
    {
     "data": {
      "text/html": [
       "<div>\n",
       "<style scoped>\n",
       "    .dataframe tbody tr th:only-of-type {\n",
       "        vertical-align: middle;\n",
       "    }\n",
       "\n",
       "    .dataframe tbody tr th {\n",
       "        vertical-align: top;\n",
       "    }\n",
       "\n",
       "    .dataframe thead th {\n",
       "        text-align: right;\n",
       "    }\n",
       "</style>\n",
       "<table border=\"1\" class=\"dataframe\">\n",
       "  <thead>\n",
       "    <tr style=\"text-align: right;\">\n",
       "      <th></th>\n",
       "      <th>user_id</th>\n",
       "      <th>score</th>\n",
       "      <th>age</th>\n",
       "      <th>equity</th>\n",
       "      <th>balance</th>\n",
       "      <th>products</th>\n",
       "      <th>credit_card</th>\n",
       "      <th>last_activity</th>\n",
       "      <th>est_salary</th>\n",
       "      <th>churn</th>\n",
       "    </tr>\n",
       "  </thead>\n",
       "  <tbody>\n",
       "    <tr>\n",
       "      <th>count</th>\n",
       "      <td>309.000000</td>\n",
       "      <td>309.000000</td>\n",
       "      <td>306.000000</td>\n",
       "      <td>309.000000</td>\n",
       "      <td>10.000000</td>\n",
       "      <td>309.000000</td>\n",
       "      <td>309.000000</td>\n",
       "      <td>309.000000</td>\n",
       "      <td>3.090000e+02</td>\n",
       "      <td>309.000000</td>\n",
       "    </tr>\n",
       "    <tr>\n",
       "      <th>mean</th>\n",
       "      <td>170461.440129</td>\n",
       "      <td>690.297735</td>\n",
       "      <td>42.330065</td>\n",
       "      <td>0.097087</td>\n",
       "      <td>208154.316000</td>\n",
       "      <td>1.207120</td>\n",
       "      <td>0.996764</td>\n",
       "      <td>0.598706</td>\n",
       "      <td>2.018783e+05</td>\n",
       "      <td>0.006472</td>\n",
       "    </tr>\n",
       "    <tr>\n",
       "      <th>std</th>\n",
       "      <td>33335.180459</td>\n",
       "      <td>22.259290</td>\n",
       "      <td>12.129582</td>\n",
       "      <td>0.391000</td>\n",
       "      <td>213187.441127</td>\n",
       "      <td>0.444097</td>\n",
       "      <td>0.056888</td>\n",
       "      <td>0.490955</td>\n",
       "      <td>1.779400e+05</td>\n",
       "      <td>0.080321</td>\n",
       "    </tr>\n",
       "    <tr>\n",
       "      <th>min</th>\n",
       "      <td>114347.000000</td>\n",
       "      <td>642.000000</td>\n",
       "      <td>20.000000</td>\n",
       "      <td>0.000000</td>\n",
       "      <td>20.000000</td>\n",
       "      <td>1.000000</td>\n",
       "      <td>0.000000</td>\n",
       "      <td>0.000000</td>\n",
       "      <td>1.716290e+04</td>\n",
       "      <td>0.000000</td>\n",
       "    </tr>\n",
       "    <tr>\n",
       "      <th>25%</th>\n",
       "      <td>142546.000000</td>\n",
       "      <td>670.000000</td>\n",
       "      <td>33.000000</td>\n",
       "      <td>0.000000</td>\n",
       "      <td>26468.620000</td>\n",
       "      <td>1.000000</td>\n",
       "      <td>1.000000</td>\n",
       "      <td>0.000000</td>\n",
       "      <td>1.132438e+05</td>\n",
       "      <td>0.000000</td>\n",
       "    </tr>\n",
       "    <tr>\n",
       "      <th>50%</th>\n",
       "      <td>173616.000000</td>\n",
       "      <td>697.000000</td>\n",
       "      <td>39.000000</td>\n",
       "      <td>0.000000</td>\n",
       "      <td>184345.980000</td>\n",
       "      <td>1.000000</td>\n",
       "      <td>1.000000</td>\n",
       "      <td>1.000000</td>\n",
       "      <td>1.603696e+05</td>\n",
       "      <td>0.000000</td>\n",
       "    </tr>\n",
       "    <tr>\n",
       "      <th>75%</th>\n",
       "      <td>196174.000000</td>\n",
       "      <td>708.000000</td>\n",
       "      <td>50.000000</td>\n",
       "      <td>0.000000</td>\n",
       "      <td>320897.087500</td>\n",
       "      <td>1.000000</td>\n",
       "      <td>1.000000</td>\n",
       "      <td>1.000000</td>\n",
       "      <td>2.279496e+05</td>\n",
       "      <td>0.000000</td>\n",
       "    </tr>\n",
       "    <tr>\n",
       "      <th>max</th>\n",
       "      <td>229145.000000</td>\n",
       "      <td>719.000000</td>\n",
       "      <td>81.000000</td>\n",
       "      <td>3.000000</td>\n",
       "      <td>666680.810000</td>\n",
       "      <td>3.000000</td>\n",
       "      <td>1.000000</td>\n",
       "      <td>1.000000</td>\n",
       "      <td>1.180070e+06</td>\n",
       "      <td>1.000000</td>\n",
       "    </tr>\n",
       "  </tbody>\n",
       "</table>\n",
       "</div>"
      ],
      "text/plain": [
       "             user_id       score         age      equity        balance  \\\n",
       "count     309.000000  309.000000  306.000000  309.000000      10.000000   \n",
       "mean   170461.440129  690.297735   42.330065    0.097087  208154.316000   \n",
       "std     33335.180459   22.259290   12.129582    0.391000  213187.441127   \n",
       "min    114347.000000  642.000000   20.000000    0.000000      20.000000   \n",
       "25%    142546.000000  670.000000   33.000000    0.000000   26468.620000   \n",
       "50%    173616.000000  697.000000   39.000000    0.000000  184345.980000   \n",
       "75%    196174.000000  708.000000   50.000000    0.000000  320897.087500   \n",
       "max    229145.000000  719.000000   81.000000    3.000000  666680.810000   \n",
       "\n",
       "         products  credit_card  last_activity    est_salary       churn  \n",
       "count  309.000000   309.000000     309.000000  3.090000e+02  309.000000  \n",
       "mean     1.207120     0.996764       0.598706  2.018783e+05    0.006472  \n",
       "std      0.444097     0.056888       0.490955  1.779400e+05    0.080321  \n",
       "min      1.000000     0.000000       0.000000  1.716290e+04    0.000000  \n",
       "25%      1.000000     1.000000       0.000000  1.132438e+05    0.000000  \n",
       "50%      1.000000     1.000000       1.000000  1.603696e+05    0.000000  \n",
       "75%      1.000000     1.000000       1.000000  2.279496e+05    0.000000  \n",
       "max      3.000000     1.000000       1.000000  1.180070e+06    1.000000  "
      ]
     },
     "execution_count": 22,
     "metadata": {},
     "output_type": "execute_result"
    }
   ],
   "source": [
    "# изучим вопрос у кого показатель скоринга был менее 720 баллов\n",
    "\n",
    "(bank[bank['score'] < 720]).describe()"
   ]
  },
  {
   "cell_type": "markdown",
   "metadata": {},
   "source": [
    "Как видим, это только 285 человек из всего количества наших клиентов. Низкий балл не является ключевой причиной оттока клиентов. Это чуть менее 3% от всей потребительской базы. "
   ]
  },
  {
   "cell_type": "code",
   "execution_count": 23,
   "metadata": {},
   "outputs": [
    {
     "name": "stdout",
     "output_type": "stream",
     "text": [
      "СРЕДНИЕ ЗНАЧЕНИЯ\n"
     ]
    },
    {
     "data": {
      "text/html": [
       "<div>\n",
       "<style scoped>\n",
       "    .dataframe tbody tr th:only-of-type {\n",
       "        vertical-align: middle;\n",
       "    }\n",
       "\n",
       "    .dataframe tbody tr th {\n",
       "        vertical-align: top;\n",
       "    }\n",
       "\n",
       "    .dataframe thead th {\n",
       "        text-align: right;\n",
       "    }\n",
       "</style>\n",
       "<table border=\"1\" class=\"dataframe\">\n",
       "  <thead>\n",
       "    <tr style=\"text-align: right;\">\n",
       "      <th></th>\n",
       "      <th>user_id</th>\n",
       "      <th>score</th>\n",
       "      <th>age</th>\n",
       "      <th>equity</th>\n",
       "      <th>balance</th>\n",
       "      <th>products</th>\n",
       "      <th>credit_card</th>\n",
       "      <th>last_activity</th>\n",
       "      <th>est_salary</th>\n",
       "    </tr>\n",
       "    <tr>\n",
       "      <th>churn</th>\n",
       "      <th></th>\n",
       "      <th></th>\n",
       "      <th></th>\n",
       "      <th></th>\n",
       "      <th></th>\n",
       "      <th></th>\n",
       "      <th></th>\n",
       "      <th></th>\n",
       "      <th></th>\n",
       "    </tr>\n",
       "  </thead>\n",
       "  <tbody>\n",
       "    <tr>\n",
       "      <th>0</th>\n",
       "      <td>172004.359046</td>\n",
       "      <td>845.428362</td>\n",
       "      <td>43.020846</td>\n",
       "      <td>2.374817</td>\n",
       "      <td>7.339826e+05</td>\n",
       "      <td>1.757579</td>\n",
       "      <td>0.709169</td>\n",
       "      <td>0.483741</td>\n",
       "      <td>147783.200108</td>\n",
       "    </tr>\n",
       "    <tr>\n",
       "      <th>1</th>\n",
       "      <td>170975.058824</td>\n",
       "      <td>863.346894</td>\n",
       "      <td>41.429593</td>\n",
       "      <td>3.764156</td>\n",
       "      <td>1.133993e+06</td>\n",
       "      <td>2.377130</td>\n",
       "      <td>0.551402</td>\n",
       "      <td>0.702584</td>\n",
       "      <td>148310.728202</td>\n",
       "    </tr>\n",
       "  </tbody>\n",
       "</table>\n",
       "</div>"
      ],
      "text/plain": [
       "             user_id       score        age    equity       balance  products  \\\n",
       "churn                                                                           \n",
       "0      172004.359046  845.428362  43.020846  2.374817  7.339826e+05  1.757579   \n",
       "1      170975.058824  863.346894  41.429593  3.764156  1.133993e+06  2.377130   \n",
       "\n",
       "       credit_card  last_activity     est_salary  \n",
       "churn                                             \n",
       "0         0.709169       0.483741  147783.200108  \n",
       "1         0.551402       0.702584  148310.728202  "
      ]
     },
     "metadata": {},
     "output_type": "display_data"
    },
    {
     "name": "stdout",
     "output_type": "stream",
     "text": [
      "_________________________________________________________________________________________________________________\n",
      "МЕДИАННЫЕ ЗНАЧЕНИЯ\n"
     ]
    },
    {
     "data": {
      "text/html": [
       "<div>\n",
       "<style scoped>\n",
       "    .dataframe tbody tr th:only-of-type {\n",
       "        vertical-align: middle;\n",
       "    }\n",
       "\n",
       "    .dataframe tbody tr th {\n",
       "        vertical-align: top;\n",
       "    }\n",
       "\n",
       "    .dataframe thead th {\n",
       "        text-align: right;\n",
       "    }\n",
       "</style>\n",
       "<table border=\"1\" class=\"dataframe\">\n",
       "  <thead>\n",
       "    <tr style=\"text-align: right;\">\n",
       "      <th></th>\n",
       "      <th>user_id</th>\n",
       "      <th>score</th>\n",
       "      <th>age</th>\n",
       "      <th>equity</th>\n",
       "      <th>balance</th>\n",
       "      <th>products</th>\n",
       "      <th>credit_card</th>\n",
       "      <th>last_activity</th>\n",
       "      <th>est_salary</th>\n",
       "    </tr>\n",
       "    <tr>\n",
       "      <th>churn</th>\n",
       "      <th></th>\n",
       "      <th></th>\n",
       "      <th></th>\n",
       "      <th></th>\n",
       "      <th></th>\n",
       "      <th></th>\n",
       "      <th></th>\n",
       "      <th></th>\n",
       "      <th></th>\n",
       "    </tr>\n",
       "  </thead>\n",
       "  <tbody>\n",
       "    <tr>\n",
       "      <th>0</th>\n",
       "      <td>173218</td>\n",
       "      <td>848.0</td>\n",
       "      <td>40.0</td>\n",
       "      <td>3</td>\n",
       "      <td>475382.445</td>\n",
       "      <td>2</td>\n",
       "      <td>1</td>\n",
       "      <td>0</td>\n",
       "      <td>118257.715</td>\n",
       "    </tr>\n",
       "    <tr>\n",
       "      <th>1</th>\n",
       "      <td>170532</td>\n",
       "      <td>866.0</td>\n",
       "      <td>39.0</td>\n",
       "      <td>4</td>\n",
       "      <td>782410.470</td>\n",
       "      <td>2</td>\n",
       "      <td>1</td>\n",
       "      <td>1</td>\n",
       "      <td>125395.220</td>\n",
       "    </tr>\n",
       "  </tbody>\n",
       "</table>\n",
       "</div>"
      ],
      "text/plain": [
       "       user_id  score   age  equity     balance  products  credit_card  \\\n",
       "churn                                                                    \n",
       "0       173218  848.0  40.0       3  475382.445         2            1   \n",
       "1       170532  866.0  39.0       4  782410.470         2            1   \n",
       "\n",
       "       last_activity  est_salary  \n",
       "churn                             \n",
       "0                  0  118257.715  \n",
       "1                  1  125395.220  "
      ]
     },
     "metadata": {},
     "output_type": "display_data"
    }
   ],
   "source": [
    "# сравним средние и медианные значения для churn\n",
    "\n",
    "print('СРЕДНИЕ ЗНАЧЕНИЯ')\n",
    "display(bank.groupby('churn').agg('mean'))\n",
    "print('_________________________________________________________________________________________________________________')\n",
    "print('МЕДИАННЫЕ ЗНАЧЕНИЯ')\n",
    "display(bank.groupby('churn').agg('median'))"
   ]
  },
  {
   "cell_type": "markdown",
   "metadata": {},
   "source": [
    "По средним значениям, клиенты 41 года склонны к уходу, которые использовали 2 и более продуктов банка и с приличной для региона заработной платой, Медианным данные дают нам портрет \"клиентаоттока\", как 39 летнего, пользующегося так же двумя видами банковских продуктов и с приличной заработной платой и кредитной картой. \n",
    "\n",
    "Построим гисторгаммы для понимания количества клиентов для оттока по предоставленным нам данным в столбцах.\n",
    "\n",
    "Для изучения этого вопроса определим функцию и нормализуем данные для информативности."
   ]
  },
  {
   "cell_type": "code",
   "execution_count": 24,
   "metadata": {},
   "outputs": [],
   "source": [
    "# определим функцию для построения гистограмм по данным оттока по всем остальным параметрам по нормализованным данным\n",
    "\n",
    "def plot(bank, column):\n",
    "    fig, ax = plt.subplots(figsize = (10, 5))\n",
    "    \n",
    "    sns.histplot(bank[bank['churn']==0][column], color = 'g', label = 'остались', stat = 'density', common_norm=False)\n",
    "    sns.histplot(bank[bank['churn']==1][column], label = \"ушли\", stat = 'density', common_norm=False)\n",
    "    plt.xlabel('')\n",
    "    plt.ylabel('количество пользователей')\n",
    "    plt.legend()\n",
    "    plt.show()"
   ]
  },
  {
   "cell_type": "code",
   "execution_count": 25,
   "metadata": {},
   "outputs": [
    {
     "data": {
      "image/png": "[encoded data removed]",
      "text/plain": [
       "<Figure size 720x360 with 1 Axes>"
      ]
     },
     "metadata": {
      "needs_background": "light"
     },
     "output_type": "display_data"
    }
   ],
   "source": [
    "# churn - score\n",
    "\n",
    "plot(bank, \"score\")"
   ]
  },
  {
   "cell_type": "markdown",
   "metadata": {},
   "source": [
    "Как видим, уходили клиенты с высоким скорингом от 800 до 900 и их количество так же дает нам информацию для формирования сигментации по данному параметру. Количество ушедших клиентов превышло 500 человек. "
   ]
  },
  {
   "cell_type": "code",
   "execution_count": 26,
   "metadata": {},
   "outputs": [
    {
     "data": {
      "image/png": "[encoded data removed]",
      "text/plain": [
       "<Figure size 720x360 with 1 Axes>"
      ]
     },
     "metadata": {
      "needs_background": "light"
     },
     "output_type": "display_data"
    }
   ],
   "source": [
    " # chure - city\n",
    "    \n",
    "plot(bank, \"city\")"
   ]
  },
  {
   "cell_type": "markdown",
   "metadata": {},
   "source": [
    "Основной отток произошел в филиале Ярославля. И опять же количество ушедших дает нам иформация о возможности сигментировать и по признаку \"город\"."
   ]
  },
  {
   "cell_type": "code",
   "execution_count": 27,
   "metadata": {},
   "outputs": [
    {
     "data": {
      "image/png": "[encoded data removed]",
      "text/plain": [
       "<Figure size 720x360 with 1 Axes>"
      ]
     },
     "metadata": {
      "needs_background": "light"
     },
     "output_type": "display_data"
    }
   ],
   "source": [
    "# chure - gender\n",
    "\n",
    "plot(bank, \"gender\")"
   ]
  },
  {
   "cell_type": "markdown",
   "metadata": {},
   "source": [
    "Еще один показатель - ушедших мужчин больше."
   ]
  },
  {
   "cell_type": "code",
   "execution_count": 28,
   "metadata": {},
   "outputs": [
    {
     "data": {
      "image/png": "[encoded data removed]",
      "text/plain": [
       "<Figure size 720x360 with 1 Axes>"
      ]
     },
     "metadata": {
      "needs_background": "light"
     },
     "output_type": "display_data"
    }
   ],
   "source": [
    "# chure - age\n",
    "\n",
    "plot(bank, \"age\")"
   ]
  },
  {
   "cell_type": "markdown",
   "metadata": {},
   "source": [
    "По данному параметру у нас не достогается условие по численности группы для сигментации. Все же менее 500 мы видим максимальное достижение оттока. "
   ]
  },
  {
   "cell_type": "code",
   "execution_count": 29,
   "metadata": {},
   "outputs": [
    {
     "data": {
      "image/png": "[encoded data removed]",
      "text/plain": [
       "<Figure size 720x360 with 1 Axes>"
      ]
     },
     "metadata": {
      "needs_background": "light"
     },
     "output_type": "display_data"
    }
   ],
   "source": [
    "# chure - equity\n",
    "\n",
    "plot(bank, \"equity\")"
   ]
  },
  {
   "cell_type": "markdown",
   "metadata": {},
   "source": [
    "Количество баллов собственности добавили нам параметр для характеристики \"клиентаоттока\". Клиенты с показателями по собственности 3 и выше склонны к прекращению обслуживаться в банке (😜 чем нищеброды)."
   ]
  },
  {
   "cell_type": "code",
   "execution_count": 30,
   "metadata": {},
   "outputs": [
    {
     "data": {
      "image/png": "[encoded data removed]",
      "text/plain": [
       "<Figure size 720x360 with 1 Axes>"
      ]
     },
     "metadata": {
      "needs_background": "light"
     },
     "output_type": "display_data"
    }
   ],
   "source": [
    "# chure - balance\n",
    "\n",
    "bank_balance = bank[bank['balance'] < 2000000]\n",
    "\n",
    "plot(bank_balance, \"balance\")"
   ]
  },
  {
   "cell_type": "markdown",
   "metadata": {},
   "source": [
    "Уходили клиенты с высокими остатками на балансе. Категоричны были клиенты с остатками свыше 750000. "
   ]
  },
  {
   "cell_type": "code",
   "execution_count": 31,
   "metadata": {},
   "outputs": [
    {
     "data": {
      "image/png": "[encoded data removed]",
      "text/plain": [
       "<Figure size 720x360 with 1 Axes>"
      ]
     },
     "metadata": {
      "needs_background": "light"
     },
     "output_type": "display_data"
    }
   ],
   "source": [
    "# churn - products\n",
    "\n",
    "plot(bank, \"products\")"
   ]
  },
  {
   "cell_type": "markdown",
   "metadata": {},
   "source": [
    "Все же уходили клиенты, которые соглашались изначально на 3 и более продуктов банка."
   ]
  },
  {
   "cell_type": "code",
   "execution_count": 32,
   "metadata": {},
   "outputs": [
    {
     "data": {
      "image/png": "[encoded data removed]",
      "text/plain": [
       "<Figure size 720x360 with 1 Axes>"
      ]
     },
     "metadata": {
      "needs_background": "light"
     },
     "output_type": "display_data"
    }
   ],
   "source": [
    "# churn - credit_card\n",
    "\n",
    "plot(bank, \"credit_card\")"
   ]
  },
  {
   "cell_type": "markdown",
   "metadata": {},
   "source": [
    "Клиенты без кредитной карты уходили с большим удовольствием, чем с."
   ]
  },
  {
   "cell_type": "code",
   "execution_count": 33,
   "metadata": {},
   "outputs": [
    {
     "data": {
      "image/png": "[encoded data removed]",
      "text/plain": [
       "<Figure size 720x360 with 1 Axes>"
      ]
     },
     "metadata": {
      "needs_background": "light"
     },
     "output_type": "display_data"
    }
   ],
   "source": [
    "# churn - last_activity\n",
    "\n",
    "plot(bank, \"last_activity\")"
   ]
  },
  {
   "cell_type": "markdown",
   "metadata": {},
   "source": [
    "Чего то не выдерживали и отказывались от обслуживания именно активные клиенты банка."
   ]
  },
  {
   "cell_type": "code",
   "execution_count": 34,
   "metadata": {},
   "outputs": [
    {
     "data": {
      "image/png": "[encoded data removed]",
      "text/plain": [
       "<Figure size 720x360 with 1 Axes>"
      ]
     },
     "metadata": {
      "needs_background": "light"
     },
     "output_type": "display_data"
    }
   ],
   "source": [
    "# churn - est_salary\n",
    "\n",
    "plot(bank, 'est_salary')"
   ]
  },
  {
   "cell_type": "markdown",
   "metadata": {},
   "source": [
    "И опять же получили подтверждение, что у клиентов оттока были приличные доходы и их уход все же не безразличен в доходно-эффективной работе банка."
   ]
  },
  {
   "cell_type": "code",
   "execution_count": 35,
   "metadata": {
    "scrolled": true
   },
   "outputs": [
    {
     "name": "stdout",
     "output_type": "stream",
     "text": [
      "interval columns not set, guessing: ['user_id', 'score', 'age', 'equity', 'balance', 'products', 'credit_card', 'last_activity', 'est_salary', 'churn']\n"
     ]
    },
    {
     "data": {
      "text/html": [
       "<div>\n",
       "<style scoped>\n",
       "    .dataframe tbody tr th:only-of-type {\n",
       "        vertical-align: middle;\n",
       "    }\n",
       "\n",
       "    .dataframe tbody tr th {\n",
       "        vertical-align: top;\n",
       "    }\n",
       "\n",
       "    .dataframe thead th {\n",
       "        text-align: right;\n",
       "    }\n",
       "</style>\n",
       "<table border=\"1\" class=\"dataframe\">\n",
       "  <thead>\n",
       "    <tr style=\"text-align: right;\">\n",
       "      <th></th>\n",
       "      <th>user_id</th>\n",
       "      <th>score</th>\n",
       "      <th>city</th>\n",
       "      <th>gender</th>\n",
       "      <th>age</th>\n",
       "      <th>equity</th>\n",
       "      <th>balance</th>\n",
       "      <th>products</th>\n",
       "      <th>credit_card</th>\n",
       "      <th>last_activity</th>\n",
       "      <th>est_salary</th>\n",
       "      <th>churn</th>\n",
       "    </tr>\n",
       "  </thead>\n",
       "  <tbody>\n",
       "    <tr>\n",
       "      <th>user_id</th>\n",
       "      <td>1.000000</td>\n",
       "      <td>0.064643</td>\n",
       "      <td>0.034170</td>\n",
       "      <td>0.059734</td>\n",
       "      <td>0.000000</td>\n",
       "      <td>0.073403</td>\n",
       "      <td>0.034065</td>\n",
       "      <td>0.105967</td>\n",
       "      <td>0.035747</td>\n",
       "      <td>0.065835</td>\n",
       "      <td>0.000000</td>\n",
       "      <td>0.139641</td>\n",
       "    </tr>\n",
       "    <tr>\n",
       "      <th>score</th>\n",
       "      <td>0.064643</td>\n",
       "      <td>1.000000</td>\n",
       "      <td>0.091698</td>\n",
       "      <td>0.071596</td>\n",
       "      <td>0.037213</td>\n",
       "      <td>0.528118</td>\n",
       "      <td>0.170900</td>\n",
       "      <td>0.419572</td>\n",
       "      <td>0.208941</td>\n",
       "      <td>0.054361</td>\n",
       "      <td>0.396156</td>\n",
       "      <td>0.228260</td>\n",
       "    </tr>\n",
       "    <tr>\n",
       "      <th>city</th>\n",
       "      <td>0.034170</td>\n",
       "      <td>0.091698</td>\n",
       "      <td>1.000000</td>\n",
       "      <td>0.012645</td>\n",
       "      <td>0.093407</td>\n",
       "      <td>0.063448</td>\n",
       "      <td>0.039968</td>\n",
       "      <td>0.124901</td>\n",
       "      <td>0.074782</td>\n",
       "      <td>0.030637</td>\n",
       "      <td>0.171413</td>\n",
       "      <td>0.017054</td>\n",
       "    </tr>\n",
       "    <tr>\n",
       "      <th>gender</th>\n",
       "      <td>0.059734</td>\n",
       "      <td>0.071596</td>\n",
       "      <td>0.012645</td>\n",
       "      <td>1.000000</td>\n",
       "      <td>0.285744</td>\n",
       "      <td>0.064360</td>\n",
       "      <td>0.045424</td>\n",
       "      <td>0.072036</td>\n",
       "      <td>0.196043</td>\n",
       "      <td>0.014404</td>\n",
       "      <td>0.144628</td>\n",
       "      <td>0.219184</td>\n",
       "    </tr>\n",
       "    <tr>\n",
       "      <th>age</th>\n",
       "      <td>0.000000</td>\n",
       "      <td>0.037213</td>\n",
       "      <td>0.093407</td>\n",
       "      <td>0.285744</td>\n",
       "      <td>1.000000</td>\n",
       "      <td>0.043097</td>\n",
       "      <td>0.024989</td>\n",
       "      <td>0.141220</td>\n",
       "      <td>0.156734</td>\n",
       "      <td>0.089580</td>\n",
       "      <td>0.358130</td>\n",
       "      <td>0.183435</td>\n",
       "    </tr>\n",
       "    <tr>\n",
       "      <th>equity</th>\n",
       "      <td>0.073403</td>\n",
       "      <td>0.528118</td>\n",
       "      <td>0.063448</td>\n",
       "      <td>0.064360</td>\n",
       "      <td>0.043097</td>\n",
       "      <td>1.000000</td>\n",
       "      <td>0.000000</td>\n",
       "      <td>0.584444</td>\n",
       "      <td>0.221871</td>\n",
       "      <td>0.050997</td>\n",
       "      <td>0.286410</td>\n",
       "      <td>0.352737</td>\n",
       "    </tr>\n",
       "    <tr>\n",
       "      <th>balance</th>\n",
       "      <td>0.034065</td>\n",
       "      <td>0.170900</td>\n",
       "      <td>0.039968</td>\n",
       "      <td>0.045424</td>\n",
       "      <td>0.024989</td>\n",
       "      <td>0.000000</td>\n",
       "      <td>1.000000</td>\n",
       "      <td>0.000000</td>\n",
       "      <td>0.000000</td>\n",
       "      <td>0.000000</td>\n",
       "      <td>0.374373</td>\n",
       "      <td>0.024701</td>\n",
       "    </tr>\n",
       "    <tr>\n",
       "      <th>products</th>\n",
       "      <td>0.105967</td>\n",
       "      <td>0.419572</td>\n",
       "      <td>0.124901</td>\n",
       "      <td>0.072036</td>\n",
       "      <td>0.141220</td>\n",
       "      <td>0.584444</td>\n",
       "      <td>0.000000</td>\n",
       "      <td>1.000000</td>\n",
       "      <td>0.271101</td>\n",
       "      <td>0.112509</td>\n",
       "      <td>0.223097</td>\n",
       "      <td>0.260106</td>\n",
       "    </tr>\n",
       "    <tr>\n",
       "      <th>credit_card</th>\n",
       "      <td>0.035747</td>\n",
       "      <td>0.208941</td>\n",
       "      <td>0.074782</td>\n",
       "      <td>0.196043</td>\n",
       "      <td>0.156734</td>\n",
       "      <td>0.221871</td>\n",
       "      <td>0.000000</td>\n",
       "      <td>0.271101</td>\n",
       "      <td>1.000000</td>\n",
       "      <td>0.050021</td>\n",
       "      <td>0.038139</td>\n",
       "      <td>0.202586</td>\n",
       "    </tr>\n",
       "    <tr>\n",
       "      <th>last_activity</th>\n",
       "      <td>0.065835</td>\n",
       "      <td>0.054361</td>\n",
       "      <td>0.030637</td>\n",
       "      <td>0.014404</td>\n",
       "      <td>0.089580</td>\n",
       "      <td>0.050997</td>\n",
       "      <td>0.000000</td>\n",
       "      <td>0.112509</td>\n",
       "      <td>0.050021</td>\n",
       "      <td>1.000000</td>\n",
       "      <td>0.046165</td>\n",
       "      <td>0.261583</td>\n",
       "    </tr>\n",
       "    <tr>\n",
       "      <th>est_salary</th>\n",
       "      <td>0.000000</td>\n",
       "      <td>0.396156</td>\n",
       "      <td>0.171413</td>\n",
       "      <td>0.144628</td>\n",
       "      <td>0.358130</td>\n",
       "      <td>0.286410</td>\n",
       "      <td>0.374373</td>\n",
       "      <td>0.223097</td>\n",
       "      <td>0.038139</td>\n",
       "      <td>0.046165</td>\n",
       "      <td>1.000000</td>\n",
       "      <td>0.047767</td>\n",
       "    </tr>\n",
       "    <tr>\n",
       "      <th>churn</th>\n",
       "      <td>0.139641</td>\n",
       "      <td>0.228260</td>\n",
       "      <td>0.017054</td>\n",
       "      <td>0.219184</td>\n",
       "      <td>0.183435</td>\n",
       "      <td>0.352737</td>\n",
       "      <td>0.024701</td>\n",
       "      <td>0.260106</td>\n",
       "      <td>0.202586</td>\n",
       "      <td>0.261583</td>\n",
       "      <td>0.047767</td>\n",
       "      <td>1.000000</td>\n",
       "    </tr>\n",
       "  </tbody>\n",
       "</table>\n",
       "</div>"
      ],
      "text/plain": [
       "                user_id     score      city    gender       age    equity  \\\n",
       "user_id        1.000000  0.064643  0.034170  0.059734  0.000000  0.073403   \n",
       "score          0.064643  1.000000  0.091698  0.071596  0.037213  0.528118   \n",
       "city           0.034170  0.091698  1.000000  0.012645  0.093407  0.063448   \n",
       "gender         0.059734  0.071596  0.012645  1.000000  0.285744  0.064360   \n",
       "age            0.000000  0.037213  0.093407  0.285744  1.000000  0.043097   \n",
       "equity         0.073403  0.528118  0.063448  0.064360  0.043097  1.000000   \n",
       "balance        0.034065  0.170900  0.039968  0.045424  0.024989  0.000000   \n",
       "products       0.105967  0.419572  0.124901  0.072036  0.141220  0.584444   \n",
       "credit_card    0.035747  0.208941  0.074782  0.196043  0.156734  0.221871   \n",
       "last_activity  0.065835  0.054361  0.030637  0.014404  0.089580  0.050997   \n",
       "est_salary     0.000000  0.396156  0.171413  0.144628  0.358130  0.286410   \n",
       "churn          0.139641  0.228260  0.017054  0.219184  0.183435  0.352737   \n",
       "\n",
       "                balance  products  credit_card  last_activity  est_salary  \\\n",
       "user_id        0.034065  0.105967     0.035747       0.065835    0.000000   \n",
       "score          0.170900  0.419572     0.208941       0.054361    0.396156   \n",
       "city           0.039968  0.124901     0.074782       0.030637    0.171413   \n",
       "gender         0.045424  0.072036     0.196043       0.014404    0.144628   \n",
       "age            0.024989  0.141220     0.156734       0.089580    0.358130   \n",
       "equity         0.000000  0.584444     0.221871       0.050997    0.286410   \n",
       "balance        1.000000  0.000000     0.000000       0.000000    0.374373   \n",
       "products       0.000000  1.000000     0.271101       0.112509    0.223097   \n",
       "credit_card    0.000000  0.271101     1.000000       0.050021    0.038139   \n",
       "last_activity  0.000000  0.112509     0.050021       1.000000    0.046165   \n",
       "est_salary     0.374373  0.223097     0.038139       0.046165    1.000000   \n",
       "churn          0.024701  0.260106     0.202586       0.261583    0.047767   \n",
       "\n",
       "                  churn  \n",
       "user_id        0.139641  \n",
       "score          0.228260  \n",
       "city           0.017054  \n",
       "gender         0.219184  \n",
       "age            0.183435  \n",
       "equity         0.352737  \n",
       "balance        0.024701  \n",
       "products       0.260106  \n",
       "credit_card    0.202586  \n",
       "last_activity  0.261583  \n",
       "est_salary     0.047767  \n",
       "churn          1.000000  "
      ]
     },
     "execution_count": 35,
     "metadata": {},
     "output_type": "execute_result"
    }
   ],
   "source": [
    "# изучим матрицу корреляции \n",
    "\n",
    "bank.phik_matrix()"
   ]
  },
  {
   "cell_type": "markdown",
   "metadata": {},
   "source": [
    "Высоких и явных зависимостей оттока мы не наблюдаем. Так видели ранее другими методами, остается влияние сколькими видами пользуется клиент продуктами банка, далее идет оценка собственности клиента, его активность и скорринг. "
   ]
  },
  {
   "cell_type": "code",
   "execution_count": 36,
   "metadata": {},
   "outputs": [
    {
     "name": "stdout",
     "output_type": "stream",
     "text": [
      "interval columns not set, guessing: ['user_id', 'score', 'age', 'equity', 'balance', 'products', 'credit_card', 'last_activity', 'est_salary', 'churn']\n"
     ]
    },
    {
     "data": {
      "text/plain": [
       "<AxesSubplot:>"
      ]
     },
     "execution_count": 36,
     "metadata": {},
     "output_type": "execute_result"
    },
    {
     "data": {
      "image/png": "[encoded data removed]",
      "text/plain": [
       "<Figure size 432x288 with 2 Axes>"
      ]
     },
     "metadata": {
      "needs_background": "light"
     },
     "output_type": "display_data"
    }
   ],
   "source": [
    "# для презентации построим корреляцию только для churn\n",
    "\n",
    "sns.heatmap(bank.phik_matrix().loc[:,['churn']].drop('churn').sort_values('churn'), annot=True, fmt = '.0%', cmap ='bone', center=0)"
   ]
  },
  {
   "cell_type": "markdown",
   "metadata": {},
   "source": [
    "Сформулируем и проверим следующие гипотезы:\n",
    "\n",
    "Проверка первой гипотезы различия дохода между теми клиентами, которые ушли и теми, которые остались.\n",
    "\n",
    "Сформулируем гипотезы H0 и H1.\n",
    "\n",
    "Нулевая гипотеза H0 - \"Нет оснований считать,что доходы между теми клиентами, которые\n",
    "ушли и теми, которые остались, разные\"\n",
    "\n",
    "Альтернативная гипотеза Н1 - \"Доходы между теми клиентами, которые\n",
    "ушли и теми, которые остались, разные\""
   ]
  },
  {
   "cell_type": "code",
   "execution_count": 37,
   "metadata": {},
   "outputs": [
    {
     "name": "stdout",
     "output_type": "stream",
     "text": [
      "p-значение: 0.8839364433181659\n",
      "Не получилось отвергнуть нулевую гипотезу. Нет оснований считать,что доходы между теми клиентами, которые ушли и теми, которые остались, разные\n"
     ]
    }
   ],
   "source": [
    "sample_1 = bank[bank['churn']==1]['est_salary'] # доход тех кто ушёл\n",
    "sample_2 = bank[bank['churn']==0]['est_salary'] # и тех кто остался\n",
    "\n",
    "alpha = .05 # критический уровень статистической значимости\n",
    "            # если p-value окажется меньше него - отвергнем гипотезу\n",
    "\n",
    "results = st.ttest_ind(\n",
    "    sample_1, \n",
    "    sample_2) \n",
    "\n",
    "print('p-значение:', results.pvalue)\n",
    "\n",
    "if (results.pvalue < alpha):\n",
    "    print(\"Отвергаем нулевую гипотезу. Доходы между теми клиентами, которые ушли и теми, которые остались, разные\")\n",
    "else:\n",
    "    print(\"Не получилось отвергнуть нулевую гипотезу. Нет оснований считать,что доходы между теми клиентами, которые ушли и теми, которые остались, разные\")"
   ]
  },
  {
   "cell_type": "markdown",
   "metadata": {},
   "source": [
    "Проверка гипотезы различия скоринга между теми клиентами, которые ушли и теми, которые остались.\n",
    "\n",
    "Сформулируем гипотезы H0 и H1 для анализа долей:\n",
    "\n",
    "Нулевая гипотеза H0 - \"Скоринг между теми клиентами, которые ушли и теми, которые остались, одинаковый\"\n",
    "\n",
    "Альтернативная гипотеза Н1 - \"Скоринг между теми клиентами, которые ушли и теми, которые остались, разный\""
   ]
  },
  {
   "cell_type": "code",
   "execution_count": 38,
   "metadata": {},
   "outputs": [
    {
     "name": "stdout",
     "output_type": "stream",
     "text": [
      "p-значение: 3.27354226117341e-26\n",
      "Отвергаем нулевую гипотезу. Скоринг между теми клиентами, которые ушли и теми, которые остались, разный\n"
     ]
    }
   ],
   "source": [
    "sample_1 = bank[bank['churn']==1]['score'] # скоринг тех кто ушёл\n",
    "sample_2 = bank[bank['churn']==0]['score'] # скоринг тех кто остался\n",
    "\n",
    "alpha = .05 # критический уровень статистической значимости\n",
    "            # если p-value окажется меньше него - отвергнем гипотезу\n",
    "\n",
    "results = st.ttest_ind(\n",
    "    sample_1, \n",
    "    sample_2) \n",
    "\n",
    "print('p-значение:', results.pvalue)\n",
    "\n",
    "if (results.pvalue < alpha):\n",
    "    print(\"Отвергаем нулевую гипотезу. Скоринг между теми клиентами, которые ушли и теми, которые остались, разный\")\n",
    "else:\n",
    "    print(\"Не получилось отвергнуть нулевую гипотезу. Скоринг между теми клиентами, которые ушли и теми, которые остались, одинаковый\")"
   ]
  },
  {
   "cell_type": "code",
   "execution_count": 39,
   "metadata": {},
   "outputs": [
    {
     "name": "stdout",
     "output_type": "stream",
     "text": [
      "p-значение: 0.7682880362957542\n",
      "Не получилось отвергнуть нулевую гипотезу. Доходы между теми клиентами, которые пользовались активно банком и пассивные клиенты, одинаковые\n"
     ]
    }
   ],
   "source": [
    "sample_1 = bank[bank['last_activity']==1]['est_salary'] # доход активных клиентов\n",
    "sample_2 = bank[bank['last_activity']==0]['est_salary'] # и тех кто пассивно был клиентом банка\n",
    "\n",
    "alpha = .05 # критический уровень статистической значимости\n",
    "            # если p-value окажется меньше него - отвергнем гипотезу\n",
    "\n",
    "results = st.ttest_ind(\n",
    "    sample_1, \n",
    "    sample_2) \n",
    "\n",
    "print('p-значение:', results.pvalue)\n",
    "\n",
    "if (results.pvalue < alpha):\n",
    "    print(\"Отвергаем нулевую гипотезу. Доходы между теми клиентами, которые пользовались активно банковскими услугами и были пассивными клиентами, разные\")\n",
    "else:\n",
    "    print(\"Не получилось отвергнуть нулевую гипотезу. Доходы между теми клиентами, которые пользовались активно банком и пассивные клиенты, одинаковые\")"
   ]
  },
  {
   "cell_type": "markdown",
   "metadata": {},
   "source": [
    "Подведем итоги нашего исследования. Мы выяснили, что:\n",
    "\n",
    "- уходили из банка не только клиенты с низким баллом скоринга. В основном это были люди с \"великолепной\" оценкой;\n",
    "\n",
    "- основной отток произошел в филиале Ярославля;\n",
    "\n",
    "- мужчины чаще отказывались от обслуживания;\n",
    "\n",
    "- клиенты с показателями по собственности 3 и выше покидали банк решительнее;\n",
    "\n",
    "- клиенты с высокими остатками на балансе составляли отток;\n",
    "\n",
    "- уходили клиенты, которые соглашались на обслуживание с 3 и более продуктами банка, но кредитными картами в основном не пользовались;\n",
    "\n",
    "- не выдерживали и отказывались от обслуживания именно активные клиенты банка;\n",
    "\n",
    "- у клиентов оттока были приличные доходы.\n",
    "\n",
    "По средним значениям, склонны к уходу клиенты 41 года, которые использовали 2 и более продуктов банка и с приличной для региона заработной платой. Медианные данные дают нам портрет \"клиентаоттока\", как 39 летнего, пользующегося так же двумя видами банковских продуктов и с приличной заработной платой и кредитной картой. \n",
    "\n",
    "Получаем какой портрет \"ушедшего клиента\": мужчина 39-41 года с высоким доходом и остатками на счетах, открытый для использования банковскими продуктами, выскокой оценкой по собсвенности и с отличными балами скоринга.\n",
    "\n",
    "Уходили \"идеальные\" клиенты банка.\n",
    "\n",
    "Это возможно только в случаях отвратительного технического обслуживания и клиентской поддержки в банке. Если банк не в состоянии технически обеспечить бесперебойное и круглосуточное обслуживание клиента. Высокий уровень дохода нам говорит, что клиенты являлись предпринимателями и владельцами бизнесов, соответственно, необходимо проверить технические возможности для использования в круглосуточном режиме банковские услуги для юридических лиц. Инкассация, прием платежей, оплата счетов без привязки и ограничения по времени. Обратить внимание на тарифы обслуживания юридических лиц. Предложить клиентам пакетные обслуживания с льготными тарифами и бесплатным обслуживание на определнный срок, для клиентов, которые вернутся обратно. Рассмотреть дополнительные услуги или возможности по оперативной помощи в бизнесе, к примеру, страхование ответственности, если клиент сам предоставляет услуги физическим лицам, или помощь в ведении бухгалтерской отчетности. \n",
    " \n",
    " \n",
    " \n"
   ]
  },
  {
   "cell_type": "markdown",
   "metadata": {},
   "source": [
    "Определим сегменты по возрасту (у нас высокий отток был представлен клиентами в возрасте от 50 до 60), количеству используемых продуктов банка, баллами собственности и последней активностью.  "
   ]
  },
  {
   "cell_type": "code",
   "execution_count": 40,
   "metadata": {},
   "outputs": [],
   "source": [
    "bank_age= bank.query('50 <= age <= 60')"
   ]
  },
  {
   "cell_type": "code",
   "execution_count": 41,
   "metadata": {},
   "outputs": [
    {
     "data": {
      "text/html": [
       "<div>\n",
       "<style scoped>\n",
       "    .dataframe tbody tr th:only-of-type {\n",
       "        vertical-align: middle;\n",
       "    }\n",
       "\n",
       "    .dataframe tbody tr th {\n",
       "        vertical-align: top;\n",
       "    }\n",
       "\n",
       "    .dataframe thead th {\n",
       "        text-align: right;\n",
       "    }\n",
       "</style>\n",
       "<table border=\"1\" class=\"dataframe\">\n",
       "  <thead>\n",
       "    <tr style=\"text-align: right;\">\n",
       "      <th></th>\n",
       "      <th>equity</th>\n",
       "      <th>user_id</th>\n",
       "      <th>churn</th>\n",
       "      <th>percent_churn</th>\n",
       "    </tr>\n",
       "  </thead>\n",
       "  <tbody>\n",
       "    <tr>\n",
       "      <th>0</th>\n",
       "      <td>0</td>\n",
       "      <td>412</td>\n",
       "      <td>22</td>\n",
       "      <td>5.0</td>\n",
       "    </tr>\n",
       "    <tr>\n",
       "      <th>1</th>\n",
       "      <td>1</td>\n",
       "      <td>140</td>\n",
       "      <td>29</td>\n",
       "      <td>21.0</td>\n",
       "    </tr>\n",
       "    <tr>\n",
       "      <th>2</th>\n",
       "      <td>2</td>\n",
       "      <td>184</td>\n",
       "      <td>48</td>\n",
       "      <td>26.0</td>\n",
       "    </tr>\n",
       "    <tr>\n",
       "      <th>3</th>\n",
       "      <td>3</td>\n",
       "      <td>281</td>\n",
       "      <td>93</td>\n",
       "      <td>33.0</td>\n",
       "    </tr>\n",
       "    <tr>\n",
       "      <th>4</th>\n",
       "      <td>4</td>\n",
       "      <td>333</td>\n",
       "      <td>110</td>\n",
       "      <td>33.0</td>\n",
       "    </tr>\n",
       "    <tr>\n",
       "      <th>5</th>\n",
       "      <td>5</td>\n",
       "      <td>369</td>\n",
       "      <td>144</td>\n",
       "      <td>39.0</td>\n",
       "    </tr>\n",
       "    <tr>\n",
       "      <th>6</th>\n",
       "      <td>6</td>\n",
       "      <td>30</td>\n",
       "      <td>12</td>\n",
       "      <td>40.0</td>\n",
       "    </tr>\n",
       "    <tr>\n",
       "      <th>7</th>\n",
       "      <td>7</td>\n",
       "      <td>13</td>\n",
       "      <td>7</td>\n",
       "      <td>54.0</td>\n",
       "    </tr>\n",
       "    <tr>\n",
       "      <th>8</th>\n",
       "      <td>8</td>\n",
       "      <td>5</td>\n",
       "      <td>3</td>\n",
       "      <td>60.0</td>\n",
       "    </tr>\n",
       "    <tr>\n",
       "      <th>9</th>\n",
       "      <td>9</td>\n",
       "      <td>1</td>\n",
       "      <td>0</td>\n",
       "      <td>0.0</td>\n",
       "    </tr>\n",
       "  </tbody>\n",
       "</table>\n",
       "</div>"
      ],
      "text/plain": [
       "   equity  user_id  churn  percent_churn\n",
       "0       0      412     22            5.0\n",
       "1       1      140     29           21.0\n",
       "2       2      184     48           26.0\n",
       "3       3      281     93           33.0\n",
       "4       4      333    110           33.0\n",
       "5       5      369    144           39.0\n",
       "6       6       30     12           40.0\n",
       "7       7       13      7           54.0\n",
       "8       8        5      3           60.0\n",
       "9       9        1      0            0.0"
      ]
     },
     "execution_count": 41,
     "metadata": {},
     "output_type": "execute_result"
    }
   ],
   "source": [
    "segments1 = bank_age.groupby('equity').agg({'user_id': 'count','churn': 'sum'}).reset_index()\n",
    "segments1['percent_churn'] = round(segments1['churn']/segments1['user_id']*100)\n",
    "segments1"
   ]
  },
  {
   "cell_type": "markdown",
   "metadata": {},
   "source": [
    "Явных сегментов оттока мы не определили у сочетания age-equity. Численность групп не допустима по ТЗ. Сгруппировав equity, мы исправим это положение и сможем определить высокоотточные группы клиентов в возрасте от 50 до 60 лет с собственностью, оцененной в 4-5 баллов (702 клиента, 36.18% оттока)"
   ]
  },
  {
   "cell_type": "code",
   "execution_count": 42,
   "metadata": {},
   "outputs": [
    {
     "data": {
      "text/html": [
       "<div>\n",
       "<style scoped>\n",
       "    .dataframe tbody tr th:only-of-type {\n",
       "        vertical-align: middle;\n",
       "    }\n",
       "\n",
       "    .dataframe tbody tr th {\n",
       "        vertical-align: top;\n",
       "    }\n",
       "\n",
       "    .dataframe thead th {\n",
       "        text-align: right;\n",
       "    }\n",
       "</style>\n",
       "<table border=\"1\" class=\"dataframe\">\n",
       "  <thead>\n",
       "    <tr style=\"text-align: right;\">\n",
       "      <th></th>\n",
       "      <th>products</th>\n",
       "      <th>user_id</th>\n",
       "      <th>churn</th>\n",
       "      <th>percent_churn</th>\n",
       "    </tr>\n",
       "  </thead>\n",
       "  <tbody>\n",
       "    <tr>\n",
       "      <th>0</th>\n",
       "      <td>1</td>\n",
       "      <td>513</td>\n",
       "      <td>53</td>\n",
       "      <td>10.0</td>\n",
       "    </tr>\n",
       "    <tr>\n",
       "      <th>1</th>\n",
       "      <td>2</td>\n",
       "      <td>963</td>\n",
       "      <td>261</td>\n",
       "      <td>27.0</td>\n",
       "    </tr>\n",
       "    <tr>\n",
       "      <th>2</th>\n",
       "      <td>3</td>\n",
       "      <td>205</td>\n",
       "      <td>92</td>\n",
       "      <td>45.0</td>\n",
       "    </tr>\n",
       "    <tr>\n",
       "      <th>3</th>\n",
       "      <td>4</td>\n",
       "      <td>85</td>\n",
       "      <td>62</td>\n",
       "      <td>73.0</td>\n",
       "    </tr>\n",
       "    <tr>\n",
       "      <th>4</th>\n",
       "      <td>5</td>\n",
       "      <td>2</td>\n",
       "      <td>0</td>\n",
       "      <td>0.0</td>\n",
       "    </tr>\n",
       "  </tbody>\n",
       "</table>\n",
       "</div>"
      ],
      "text/plain": [
       "   products  user_id  churn  percent_churn\n",
       "0         1      513     53           10.0\n",
       "1         2      963    261           27.0\n",
       "2         3      205     92           45.0\n",
       "3         4       85     62           73.0\n",
       "4         5        2      0            0.0"
      ]
     },
     "execution_count": 42,
     "metadata": {},
     "output_type": "execute_result"
    }
   ],
   "source": [
    "segments2 = bank_age.groupby('products').agg({'user_id': 'count','churn': 'sum'}).reset_index()\n",
    "segments2['percent_churn'] = round(segments2['churn']/segments2['user_id']*100)\n",
    "segments2"
   ]
  },
  {
   "cell_type": "markdown",
   "metadata": {},
   "source": [
    "В данном сочетании мы видим, что высокоотточной группой можно назвать клиентов в возрасте от 50 до 60 лет, которые использовали 2 банковских продукта (963 клиента, 27% оттока)"
   ]
  },
  {
   "cell_type": "code",
   "execution_count": 43,
   "metadata": {},
   "outputs": [
    {
     "data": {
      "text/html": [
       "<div>\n",
       "<style scoped>\n",
       "    .dataframe tbody tr th:only-of-type {\n",
       "        vertical-align: middle;\n",
       "    }\n",
       "\n",
       "    .dataframe tbody tr th {\n",
       "        vertical-align: top;\n",
       "    }\n",
       "\n",
       "    .dataframe thead th {\n",
       "        text-align: right;\n",
       "    }\n",
       "</style>\n",
       "<table border=\"1\" class=\"dataframe\">\n",
       "  <thead>\n",
       "    <tr style=\"text-align: right;\">\n",
       "      <th></th>\n",
       "      <th>last_activity</th>\n",
       "      <th>user_id</th>\n",
       "      <th>churn</th>\n",
       "      <th>percent_churn</th>\n",
       "    </tr>\n",
       "  </thead>\n",
       "  <tbody>\n",
       "    <tr>\n",
       "      <th>0</th>\n",
       "      <td>0</td>\n",
       "      <td>848</td>\n",
       "      <td>168</td>\n",
       "      <td>20.0</td>\n",
       "    </tr>\n",
       "    <tr>\n",
       "      <th>1</th>\n",
       "      <td>1</td>\n",
       "      <td>920</td>\n",
       "      <td>300</td>\n",
       "      <td>33.0</td>\n",
       "    </tr>\n",
       "  </tbody>\n",
       "</table>\n",
       "</div>"
      ],
      "text/plain": [
       "   last_activity  user_id  churn  percent_churn\n",
       "0              0      848    168           20.0\n",
       "1              1      920    300           33.0"
      ]
     },
     "execution_count": 43,
     "metadata": {},
     "output_type": "execute_result"
    }
   ],
   "source": [
    "segments3 = bank_age.groupby('last_activity').agg({'user_id': 'count','churn': 'sum'}).reset_index()\n",
    "segments3['percent_churn'] = round(segments3['churn']/segments3['user_id']*100)\n",
    "segments3"
   ]
  },
  {
   "cell_type": "markdown",
   "metadata": {},
   "source": [
    "При этом активные клиенты в возрасте от 50 до 60 лет и уходили активнее (33% оттока), чем не активные (20%).\n",
    "\n",
    "Таким образом, мы определили 3 сегмента высокоотточных клиентов банка:\n",
    "\n",
    "- клиенты в возрасте от 50 до 60 лет с собственностью, оцененной в 4-5 баллов (702 человека, 36.18% оттока);\n",
    "\n",
    "- клиенты в возрасте от 50 до 60 лет, которые использовали 2 банковских продукта (963 человека, 27% оттока);\n",
    "\n",
    "- активные клиенты в возрасте от 50 до 60 лет (920 человека, 33% оттока)\n",
    "\n",
    "Возможные рекомендации по снижению оттока и удержанию клиентов:\n",
    "\n",
    "- возраст не позволяет быстро и оперативно использовать современные технологии и гаджеты. Стоит делать акцент на простой и удобный интерфейс приложений, а лучше определить \"лже\" индивидуального менеджера, готового всегда прийти на помощь. Сотрудники клиентской поддержки такими и являются, но \"индивидуальное\" обслуживание и уверенность в круглосуточной помощи - придает значимости и уверенности в банке для клиентов, не только 50 - 60 лет. Т.е. рекомендация - обозначить приорететность и готовность прийти на помощь клиенту, упростить интерфейс приложений и использовать голосовые команды в них;\n",
    "\n",
    "- ввести дополнительные, возможно входящие в пакет обслуживания, услуги, связанные с собственностью клиента, так то страхование собственности, оплата услуг, связанных с собственностью, помощь в налоговых вопросах;\n",
    "\n",
    "- проводить лотереи и акции с призами или бонусами на банковские услуги, используя маркетинговые хитрости (достижение определенного количества банковских операций, \"приведи друга\", повышенный процент за остатки на счетах, при достижении определенных размеров)\n",
    "\n",
    "- \"перевести\" клиента в менее отточную группу, предложив больше банковских продуктов к использованию."
   ]
  }
 ],
 "metadata": {
  "ExecuteTimeLog": [
   {
    "duration": 1461,
    "start_time": "2023-07-10T10:59:29.536Z"
   },
   {
    "duration": 65,
    "start_time": "2023-07-10T10:59:30.999Z"
   },
   {
    "duration": 1355,
    "start_time": "2023-07-10T10:59:31.065Z"
   },
   {
    "duration": 7,
    "start_time": "2023-07-10T11:06:43.236Z"
   },
   {
    "duration": 112,
    "start_time": "2023-07-10T18:14:19.037Z"
   },
   {
    "duration": 29,
    "start_time": "2023-07-10T18:14:45.541Z"
   },
   {
    "duration": 20,
    "start_time": "2023-07-10T18:14:55.778Z"
   },
   {
    "duration": 4,
    "start_time": "2023-07-10T18:16:26.197Z"
   },
   {
    "duration": 23,
    "start_time": "2023-07-10T18:17:38.002Z"
   },
   {
    "duration": 53,
    "start_time": "2023-07-10T18:22:54.129Z"
   },
   {
    "duration": 6,
    "start_time": "2023-07-10T18:25:07.051Z"
   },
   {
    "duration": 8,
    "start_time": "2023-07-10T18:27:05.790Z"
   },
   {
    "duration": 6,
    "start_time": "2023-07-10T18:29:12.032Z"
   },
   {
    "duration": 189,
    "start_time": "2023-07-10T18:30:34.808Z"
   },
   {
    "duration": 8,
    "start_time": "2023-07-10T18:31:33.960Z"
   },
   {
    "duration": 7,
    "start_time": "2023-07-10T18:32:31.721Z"
   },
   {
    "duration": 9,
    "start_time": "2023-07-10T18:35:28.351Z"
   },
   {
    "duration": 9,
    "start_time": "2023-07-10T18:37:44.094Z"
   },
   {
    "duration": 113,
    "start_time": "2023-07-10T18:41:02.283Z"
   },
   {
    "duration": 13,
    "start_time": "2023-07-10T18:43:08.785Z"
   },
   {
    "duration": 6,
    "start_time": "2023-07-10T18:46:09.461Z"
   },
   {
    "duration": 5,
    "start_time": "2023-07-10T18:47:45.718Z"
   },
   {
    "duration": 5,
    "start_time": "2023-07-10T18:51:32.745Z"
   },
   {
    "duration": 1168,
    "start_time": "2023-07-10T18:55:03.081Z"
   },
   {
    "duration": 56,
    "start_time": "2023-07-10T18:55:04.251Z"
   },
   {
    "duration": 1254,
    "start_time": "2023-07-10T18:55:04.309Z"
   },
   {
    "duration": 8,
    "start_time": "2023-07-10T18:55:05.565Z"
   },
   {
    "duration": 24,
    "start_time": "2023-07-10T18:55:05.575Z"
   },
   {
    "duration": 76,
    "start_time": "2023-07-10T18:55:05.600Z"
   },
   {
    "duration": 3,
    "start_time": "2023-07-10T18:55:05.677Z"
   },
   {
    "duration": 24,
    "start_time": "2023-07-10T18:55:05.681Z"
   },
   {
    "duration": 6,
    "start_time": "2023-07-10T18:55:05.706Z"
   },
   {
    "duration": 27,
    "start_time": "2023-07-10T18:55:05.713Z"
   },
   {
    "duration": 11,
    "start_time": "2023-07-10T18:55:05.741Z"
   },
   {
    "duration": 202,
    "start_time": "2023-07-10T18:55:05.756Z"
   },
   {
    "duration": 7,
    "start_time": "2023-07-10T18:55:05.960Z"
   },
   {
    "duration": 27,
    "start_time": "2023-07-10T18:55:05.969Z"
   },
   {
    "duration": 16,
    "start_time": "2023-07-10T18:55:05.998Z"
   },
   {
    "duration": 132,
    "start_time": "2023-07-10T18:55:06.015Z"
   },
   {
    "duration": 11,
    "start_time": "2023-07-10T18:55:06.155Z"
   },
   {
    "duration": 9,
    "start_time": "2023-07-10T18:55:06.167Z"
   },
   {
    "duration": 18,
    "start_time": "2023-07-10T18:55:06.178Z"
   },
   {
    "duration": 6,
    "start_time": "2023-07-10T18:55:06.197Z"
   },
   {
    "duration": 37,
    "start_time": "2023-07-10T18:58:10.645Z"
   },
   {
    "duration": 37,
    "start_time": "2023-07-10T19:00:22.142Z"
   },
   {
    "duration": 108,
    "start_time": "2023-07-10T19:03:32.543Z"
   },
   {
    "duration": 18,
    "start_time": "2023-07-10T19:03:49.283Z"
   },
   {
    "duration": 25,
    "start_time": "2023-07-10T19:04:23.662Z"
   },
   {
    "duration": 26,
    "start_time": "2023-07-10T19:04:36.680Z"
   },
   {
    "duration": 4,
    "start_time": "2023-07-10T19:13:33.148Z"
   },
   {
    "duration": 263,
    "start_time": "2023-07-10T19:13:44.587Z"
   },
   {
    "duration": 154,
    "start_time": "2023-07-10T19:17:51.464Z"
   },
   {
    "duration": 160,
    "start_time": "2023-07-10T19:20:10.673Z"
   },
   {
    "duration": 282,
    "start_time": "2023-07-10T19:22:02.121Z"
   },
   {
    "duration": 242,
    "start_time": "2023-07-10T19:24:24.116Z"
   },
   {
    "duration": 4163,
    "start_time": "2023-07-10T19:29:22.219Z"
   },
   {
    "duration": 260,
    "start_time": "2023-07-10T19:33:20.449Z"
   },
   {
    "duration": 193,
    "start_time": "2023-07-10T19:35:39.442Z"
   },
   {
    "duration": 549,
    "start_time": "2023-07-10T19:36:58.094Z"
   },
   {
    "duration": 284,
    "start_time": "2023-07-10T19:38:19.118Z"
   },
   {
    "duration": 1262,
    "start_time": "2023-07-10T19:49:00.806Z"
   },
   {
    "duration": 86,
    "start_time": "2023-07-10T19:49:02.071Z"
   },
   {
    "duration": 1424,
    "start_time": "2023-07-10T19:49:02.159Z"
   },
   {
    "duration": 6,
    "start_time": "2023-07-10T19:49:03.586Z"
   },
   {
    "duration": 32,
    "start_time": "2023-07-10T19:49:03.594Z"
   },
   {
    "duration": 70,
    "start_time": "2023-07-10T19:49:03.628Z"
   },
   {
    "duration": 4,
    "start_time": "2023-07-10T19:49:03.699Z"
   },
   {
    "duration": 23,
    "start_time": "2023-07-10T19:49:03.705Z"
   },
   {
    "duration": 6,
    "start_time": "2023-07-10T19:49:03.729Z"
   },
   {
    "duration": 6,
    "start_time": "2023-07-10T19:49:03.756Z"
   },
   {
    "duration": 16,
    "start_time": "2023-07-10T19:49:03.764Z"
   },
   {
    "duration": 214,
    "start_time": "2023-07-10T19:49:03.781Z"
   },
   {
    "duration": 8,
    "start_time": "2023-07-10T19:49:03.997Z"
   },
   {
    "duration": 8,
    "start_time": "2023-07-10T19:49:04.006Z"
   },
   {
    "duration": 19,
    "start_time": "2023-07-10T19:49:04.015Z"
   },
   {
    "duration": 134,
    "start_time": "2023-07-10T19:49:04.035Z"
   },
   {
    "duration": 13,
    "start_time": "2023-07-10T19:49:04.171Z"
   },
   {
    "duration": 5,
    "start_time": "2023-07-10T19:49:04.186Z"
   },
   {
    "duration": 14,
    "start_time": "2023-07-10T19:49:04.193Z"
   },
   {
    "duration": 9,
    "start_time": "2023-07-10T19:49:04.209Z"
   },
   {
    "duration": 59,
    "start_time": "2023-07-10T19:49:04.219Z"
   },
   {
    "duration": 30,
    "start_time": "2023-07-10T19:49:04.279Z"
   },
   {
    "duration": 5,
    "start_time": "2023-07-10T19:49:04.310Z"
   },
   {
    "duration": 293,
    "start_time": "2023-07-10T19:49:04.316Z"
   },
   {
    "duration": 183,
    "start_time": "2023-07-10T19:49:04.610Z"
   },
   {
    "duration": 178,
    "start_time": "2023-07-10T19:49:04.795Z"
   },
   {
    "duration": 284,
    "start_time": "2023-07-10T19:49:04.974Z"
   },
   {
    "duration": 256,
    "start_time": "2023-07-10T19:49:05.261Z"
   },
   {
    "duration": 4220,
    "start_time": "2023-07-10T19:49:05.519Z"
   },
   {
    "duration": 292,
    "start_time": "2023-07-10T19:49:09.741Z"
   },
   {
    "duration": 217,
    "start_time": "2023-07-10T19:49:10.035Z"
   },
   {
    "duration": 566,
    "start_time": "2023-07-10T19:49:10.257Z"
   },
   {
    "duration": 260,
    "start_time": "2023-07-10T19:49:10.825Z"
   },
   {
    "duration": 898,
    "start_time": "2023-07-10T19:52:30.190Z"
   },
   {
    "duration": 73,
    "start_time": "2023-07-10T19:55:03.339Z"
   },
   {
    "duration": 815,
    "start_time": "2023-07-10T19:55:09.750Z"
   },
   {
    "duration": 125,
    "start_time": "2023-07-10T20:02:58.817Z"
   },
   {
    "duration": 10,
    "start_time": "2023-07-10T20:03:16.003Z"
   },
   {
    "duration": 117,
    "start_time": "2023-07-10T20:11:22.431Z"
   },
   {
    "duration": 797,
    "start_time": "2023-07-10T20:11:36.650Z"
   },
   {
    "duration": 913,
    "start_time": "2023-07-10T20:22:16.044Z"
   },
   {
    "duration": 8,
    "start_time": "2023-07-10T20:24:47.497Z"
   },
   {
    "duration": 1275,
    "start_time": "2023-07-10T20:24:59.025Z"
   },
   {
    "duration": 69,
    "start_time": "2023-07-10T20:25:00.302Z"
   },
   {
    "duration": 1438,
    "start_time": "2023-07-10T20:25:00.374Z"
   },
   {
    "duration": 8,
    "start_time": "2023-07-10T20:25:01.814Z"
   },
   {
    "duration": 48,
    "start_time": "2023-07-10T20:25:01.823Z"
   },
   {
    "duration": 84,
    "start_time": "2023-07-10T20:25:01.873Z"
   },
   {
    "duration": 5,
    "start_time": "2023-07-10T20:25:01.959Z"
   },
   {
    "duration": 36,
    "start_time": "2023-07-10T20:25:01.965Z"
   },
   {
    "duration": 19,
    "start_time": "2023-07-10T20:25:02.003Z"
   },
   {
    "duration": 35,
    "start_time": "2023-07-10T20:25:02.024Z"
   },
   {
    "duration": 58,
    "start_time": "2023-07-10T20:25:02.060Z"
   },
   {
    "duration": 275,
    "start_time": "2023-07-10T20:25:02.120Z"
   },
   {
    "duration": 7,
    "start_time": "2023-07-10T20:25:02.397Z"
   },
   {
    "duration": 7,
    "start_time": "2023-07-10T20:25:02.405Z"
   },
   {
    "duration": 15,
    "start_time": "2023-07-10T20:25:02.413Z"
   },
   {
    "duration": 126,
    "start_time": "2023-07-10T20:25:02.430Z"
   },
   {
    "duration": 13,
    "start_time": "2023-07-10T20:25:02.559Z"
   },
   {
    "duration": 7,
    "start_time": "2023-07-10T20:25:02.574Z"
   },
   {
    "duration": 8,
    "start_time": "2023-07-10T20:25:02.583Z"
   },
   {
    "duration": 22,
    "start_time": "2023-07-10T20:25:02.593Z"
   },
   {
    "duration": 55,
    "start_time": "2023-07-10T20:25:02.616Z"
   },
   {
    "duration": 25,
    "start_time": "2023-07-10T20:25:02.674Z"
   },
   {
    "duration": 8,
    "start_time": "2023-07-10T20:25:02.700Z"
   },
   {
    "duration": 282,
    "start_time": "2023-07-10T20:25:02.710Z"
   },
   {
    "duration": 173,
    "start_time": "2023-07-10T20:25:02.994Z"
   },
   {
    "duration": 184,
    "start_time": "2023-07-10T20:25:03.169Z"
   },
   {
    "duration": 312,
    "start_time": "2023-07-10T20:25:03.356Z"
   },
   {
    "duration": 272,
    "start_time": "2023-07-10T20:25:03.671Z"
   },
   {
    "duration": 4157,
    "start_time": "2023-07-10T20:25:03.946Z"
   },
   {
    "duration": 300,
    "start_time": "2023-07-10T20:25:08.105Z"
   },
   {
    "duration": 238,
    "start_time": "2023-07-10T20:25:08.408Z"
   },
   {
    "duration": 570,
    "start_time": "2023-07-10T20:25:08.655Z"
   },
   {
    "duration": 261,
    "start_time": "2023-07-10T20:25:09.227Z"
   },
   {
    "duration": 887,
    "start_time": "2023-07-10T20:25:09.490Z"
   },
   {
    "duration": 805,
    "start_time": "2023-07-10T20:25:10.379Z"
   },
   {
    "duration": 9,
    "start_time": "2023-07-10T20:25:11.186Z"
   },
   {
    "duration": 9,
    "start_time": "2023-07-10T20:26:27.005Z"
   },
   {
    "duration": 1246,
    "start_time": "2023-07-10T20:29:49.215Z"
   },
   {
    "duration": 65,
    "start_time": "2023-07-10T20:29:50.463Z"
   },
   {
    "duration": 1303,
    "start_time": "2023-07-10T20:29:50.530Z"
   },
   {
    "duration": 6,
    "start_time": "2023-07-10T20:29:51.835Z"
   },
   {
    "duration": 36,
    "start_time": "2023-07-10T20:29:51.842Z"
   },
   {
    "duration": 47,
    "start_time": "2023-07-10T20:29:51.880Z"
   },
   {
    "duration": 4,
    "start_time": "2023-07-10T20:29:51.928Z"
   },
   {
    "duration": 21,
    "start_time": "2023-07-10T20:29:51.957Z"
   },
   {
    "duration": 5,
    "start_time": "2023-07-10T20:29:51.980Z"
   },
   {
    "duration": 18,
    "start_time": "2023-07-10T20:29:51.987Z"
   },
   {
    "duration": 13,
    "start_time": "2023-07-10T20:29:52.006Z"
   },
   {
    "duration": 214,
    "start_time": "2023-07-10T20:29:52.021Z"
   },
   {
    "duration": 7,
    "start_time": "2023-07-10T20:29:52.237Z"
   },
   {
    "duration": 6,
    "start_time": "2023-07-10T20:29:52.256Z"
   },
   {
    "duration": 14,
    "start_time": "2023-07-10T20:29:52.264Z"
   },
   {
    "duration": 130,
    "start_time": "2023-07-10T20:29:52.280Z"
   },
   {
    "duration": 13,
    "start_time": "2023-07-10T20:29:52.412Z"
   },
   {
    "duration": 15,
    "start_time": "2023-07-10T20:29:52.427Z"
   },
   {
    "duration": 40,
    "start_time": "2023-07-10T20:29:52.444Z"
   },
   {
    "duration": 11,
    "start_time": "2023-07-10T20:29:52.487Z"
   },
   {
    "duration": 59,
    "start_time": "2023-07-10T20:29:52.500Z"
   },
   {
    "duration": 26,
    "start_time": "2023-07-10T20:29:52.561Z"
   },
   {
    "duration": 4,
    "start_time": "2023-07-10T20:29:52.589Z"
   },
   {
    "duration": 292,
    "start_time": "2023-07-10T20:29:52.594Z"
   },
   {
    "duration": 170,
    "start_time": "2023-07-10T20:29:52.888Z"
   },
   {
    "duration": 179,
    "start_time": "2023-07-10T20:29:53.061Z"
   },
   {
    "duration": 266,
    "start_time": "2023-07-10T20:29:53.242Z"
   },
   {
    "duration": 238,
    "start_time": "2023-07-10T20:29:53.511Z"
   },
   {
    "duration": 4014,
    "start_time": "2023-07-10T20:29:53.756Z"
   },
   {
    "duration": 288,
    "start_time": "2023-07-10T20:29:57.772Z"
   },
   {
    "duration": 204,
    "start_time": "2023-07-10T20:29:58.063Z"
   },
   {
    "duration": 592,
    "start_time": "2023-07-10T20:29:58.269Z"
   },
   {
    "duration": 418,
    "start_time": "2023-07-10T20:29:58.864Z"
   },
   {
    "duration": 910,
    "start_time": "2023-07-10T20:29:59.283Z"
   },
   {
    "duration": 842,
    "start_time": "2023-07-10T20:30:00.195Z"
   },
   {
    "duration": 17,
    "start_time": "2023-07-10T20:30:01.039Z"
   },
   {
    "duration": 26,
    "start_time": "2023-07-10T20:30:01.058Z"
   },
   {
    "duration": 104,
    "start_time": "2023-07-10T20:34:37.699Z"
   },
   {
    "duration": 10,
    "start_time": "2023-07-10T20:37:27.002Z"
   },
   {
    "duration": 10,
    "start_time": "2023-07-10T20:38:00.602Z"
   },
   {
    "duration": 12,
    "start_time": "2023-07-10T20:39:10.997Z"
   },
   {
    "duration": 141,
    "start_time": "2023-07-10T20:46:12.044Z"
   },
   {
    "duration": 4,
    "start_time": "2023-07-10T20:46:46.073Z"
   },
   {
    "duration": 21,
    "start_time": "2023-07-10T20:47:12.967Z"
   },
   {
    "duration": 138,
    "start_time": "2023-07-10T20:47:37.006Z"
   },
   {
    "duration": 12,
    "start_time": "2023-07-10T20:48:44.521Z"
   },
   {
    "duration": 139,
    "start_time": "2023-07-10T20:49:14.499Z"
   },
   {
    "duration": 1328,
    "start_time": "2023-07-10T20:52:23.085Z"
   },
   {
    "duration": 67,
    "start_time": "2023-07-10T20:52:24.415Z"
   },
   {
    "duration": 147,
    "start_time": "2023-07-10T20:52:24.484Z"
   },
   {
    "duration": 0,
    "start_time": "2023-07-10T20:52:24.634Z"
   },
   {
    "duration": 0,
    "start_time": "2023-07-10T20:52:24.635Z"
   },
   {
    "duration": 0,
    "start_time": "2023-07-10T20:52:24.636Z"
   },
   {
    "duration": 0,
    "start_time": "2023-07-10T20:52:24.638Z"
   },
   {
    "duration": 0,
    "start_time": "2023-07-10T20:52:24.639Z"
   },
   {
    "duration": 0,
    "start_time": "2023-07-10T20:52:24.663Z"
   },
   {
    "duration": 0,
    "start_time": "2023-07-10T20:52:24.673Z"
   },
   {
    "duration": 0,
    "start_time": "2023-07-10T20:52:24.674Z"
   },
   {
    "duration": 0,
    "start_time": "2023-07-10T20:52:24.674Z"
   },
   {
    "duration": 0,
    "start_time": "2023-07-10T20:52:24.675Z"
   },
   {
    "duration": 0,
    "start_time": "2023-07-10T20:52:24.676Z"
   },
   {
    "duration": 0,
    "start_time": "2023-07-10T20:52:24.683Z"
   },
   {
    "duration": 0,
    "start_time": "2023-07-10T20:52:24.684Z"
   },
   {
    "duration": 0,
    "start_time": "2023-07-10T20:52:24.685Z"
   },
   {
    "duration": 0,
    "start_time": "2023-07-10T20:52:24.685Z"
   },
   {
    "duration": 0,
    "start_time": "2023-07-10T20:52:24.686Z"
   },
   {
    "duration": 0,
    "start_time": "2023-07-10T20:52:24.686Z"
   },
   {
    "duration": 0,
    "start_time": "2023-07-10T20:52:24.687Z"
   },
   {
    "duration": 0,
    "start_time": "2023-07-10T20:52:24.689Z"
   },
   {
    "duration": 0,
    "start_time": "2023-07-10T20:52:24.692Z"
   },
   {
    "duration": 0,
    "start_time": "2023-07-10T20:52:24.693Z"
   },
   {
    "duration": 0,
    "start_time": "2023-07-10T20:52:24.694Z"
   },
   {
    "duration": 0,
    "start_time": "2023-07-10T20:52:24.695Z"
   },
   {
    "duration": 0,
    "start_time": "2023-07-10T20:52:24.697Z"
   },
   {
    "duration": 0,
    "start_time": "2023-07-10T20:52:24.698Z"
   },
   {
    "duration": 0,
    "start_time": "2023-07-10T20:52:24.700Z"
   },
   {
    "duration": 0,
    "start_time": "2023-07-10T20:52:24.702Z"
   },
   {
    "duration": 0,
    "start_time": "2023-07-10T20:52:24.702Z"
   },
   {
    "duration": 0,
    "start_time": "2023-07-10T20:52:24.715Z"
   },
   {
    "duration": 0,
    "start_time": "2023-07-10T20:52:24.717Z"
   },
   {
    "duration": 0,
    "start_time": "2023-07-10T20:52:24.719Z"
   },
   {
    "duration": 0,
    "start_time": "2023-07-10T20:52:24.764Z"
   },
   {
    "duration": 0,
    "start_time": "2023-07-10T20:52:24.772Z"
   },
   {
    "duration": 0,
    "start_time": "2023-07-10T20:52:24.779Z"
   },
   {
    "duration": 0,
    "start_time": "2023-07-10T20:52:24.780Z"
   },
   {
    "duration": 0,
    "start_time": "2023-07-10T20:52:24.781Z"
   },
   {
    "duration": 1330,
    "start_time": "2023-07-10T20:53:03.174Z"
   },
   {
    "duration": 71,
    "start_time": "2023-07-10T20:53:04.506Z"
   },
   {
    "duration": 1407,
    "start_time": "2023-07-10T20:53:04.579Z"
   },
   {
    "duration": 7,
    "start_time": "2023-07-10T20:53:05.988Z"
   },
   {
    "duration": 47,
    "start_time": "2023-07-10T20:53:05.997Z"
   },
   {
    "duration": 64,
    "start_time": "2023-07-10T20:53:06.045Z"
   },
   {
    "duration": 4,
    "start_time": "2023-07-10T20:53:06.110Z"
   },
   {
    "duration": 20,
    "start_time": "2023-07-10T20:53:06.116Z"
   },
   {
    "duration": 23,
    "start_time": "2023-07-10T20:53:06.138Z"
   },
   {
    "duration": 15,
    "start_time": "2023-07-10T20:53:06.163Z"
   },
   {
    "duration": 22,
    "start_time": "2023-07-10T20:53:06.180Z"
   },
   {
    "duration": 224,
    "start_time": "2023-07-10T20:53:06.204Z"
   },
   {
    "duration": 7,
    "start_time": "2023-07-10T20:53:06.429Z"
   },
   {
    "duration": 25,
    "start_time": "2023-07-10T20:53:06.439Z"
   },
   {
    "duration": 38,
    "start_time": "2023-07-10T20:53:06.466Z"
   },
   {
    "duration": 126,
    "start_time": "2023-07-10T20:53:06.506Z"
   },
   {
    "duration": 13,
    "start_time": "2023-07-10T20:53:06.633Z"
   },
   {
    "duration": 9,
    "start_time": "2023-07-10T20:53:06.648Z"
   },
   {
    "duration": 16,
    "start_time": "2023-07-10T20:53:06.658Z"
   },
   {
    "duration": 17,
    "start_time": "2023-07-10T20:53:06.676Z"
   },
   {
    "duration": 34,
    "start_time": "2023-07-10T20:53:06.694Z"
   },
   {
    "duration": 44,
    "start_time": "2023-07-10T20:53:06.729Z"
   },
   {
    "duration": 6,
    "start_time": "2023-07-10T20:53:06.775Z"
   },
   {
    "duration": 332,
    "start_time": "2023-07-10T20:53:06.783Z"
   },
   {
    "duration": 223,
    "start_time": "2023-07-10T20:53:07.117Z"
   },
   {
    "duration": 205,
    "start_time": "2023-07-10T20:53:07.342Z"
   },
   {
    "duration": 298,
    "start_time": "2023-07-10T20:53:07.549Z"
   },
   {
    "duration": 272,
    "start_time": "2023-07-10T20:53:07.849Z"
   },
   {
    "duration": 4771,
    "start_time": "2023-07-10T20:53:08.122Z"
   },
   {
    "duration": 341,
    "start_time": "2023-07-10T20:53:12.895Z"
   },
   {
    "duration": 249,
    "start_time": "2023-07-10T20:53:13.238Z"
   },
   {
    "duration": 615,
    "start_time": "2023-07-10T20:53:13.491Z"
   },
   {
    "duration": 325,
    "start_time": "2023-07-10T20:53:14.107Z"
   },
   {
    "duration": 1067,
    "start_time": "2023-07-10T20:53:14.434Z"
   },
   {
    "duration": 911,
    "start_time": "2023-07-10T20:53:15.503Z"
   },
   {
    "duration": 123,
    "start_time": "2023-07-10T20:53:16.416Z"
   },
   {
    "duration": 0,
    "start_time": "2023-07-10T20:53:16.540Z"
   },
   {
    "duration": 0,
    "start_time": "2023-07-10T20:53:16.541Z"
   },
   {
    "duration": 0,
    "start_time": "2023-07-10T20:53:16.542Z"
   },
   {
    "duration": 4004,
    "start_time": "2023-07-10T20:54:30.695Z"
   },
   {
    "duration": 2319,
    "start_time": "2023-07-10T20:55:05.421Z"
   },
   {
    "duration": 2134,
    "start_time": "2023-07-10T20:55:43.504Z"
   },
   {
    "duration": 132,
    "start_time": "2023-07-10T21:01:05.431Z"
   },
   {
    "duration": 2112,
    "start_time": "2023-07-10T21:01:12.409Z"
   },
   {
    "duration": 922,
    "start_time": "2023-07-10T21:01:47.591Z"
   },
   {
    "duration": 1070,
    "start_time": "2023-07-10T21:01:55.307Z"
   },
   {
    "duration": 847,
    "start_time": "2023-07-10T21:04:02.612Z"
   },
   {
    "duration": 134,
    "start_time": "2023-07-10T21:05:11.207Z"
   },
   {
    "duration": 1373,
    "start_time": "2023-07-10T21:06:18.405Z"
   },
   {
    "duration": 84,
    "start_time": "2023-07-10T21:06:19.780Z"
   },
   {
    "duration": 1436,
    "start_time": "2023-07-10T21:06:19.867Z"
   },
   {
    "duration": 8,
    "start_time": "2023-07-10T21:06:21.305Z"
   },
   {
    "duration": 54,
    "start_time": "2023-07-10T21:06:21.317Z"
   },
   {
    "duration": 58,
    "start_time": "2023-07-10T21:06:21.373Z"
   },
   {
    "duration": 24,
    "start_time": "2023-07-10T21:06:21.433Z"
   },
   {
    "duration": 25,
    "start_time": "2023-07-10T21:06:21.460Z"
   },
   {
    "duration": 5,
    "start_time": "2023-07-10T21:06:21.486Z"
   },
   {
    "duration": 7,
    "start_time": "2023-07-10T21:06:21.493Z"
   },
   {
    "duration": 6,
    "start_time": "2023-07-10T21:06:21.501Z"
   },
   {
    "duration": 247,
    "start_time": "2023-07-10T21:06:21.509Z"
   },
   {
    "duration": 10,
    "start_time": "2023-07-10T21:06:21.758Z"
   },
   {
    "duration": 8,
    "start_time": "2023-07-10T21:06:21.772Z"
   },
   {
    "duration": 29,
    "start_time": "2023-07-10T21:06:21.781Z"
   },
   {
    "duration": 116,
    "start_time": "2023-07-10T21:06:21.811Z"
   },
   {
    "duration": 12,
    "start_time": "2023-07-10T21:06:21.929Z"
   },
   {
    "duration": 20,
    "start_time": "2023-07-10T21:06:21.942Z"
   },
   {
    "duration": 14,
    "start_time": "2023-07-10T21:06:21.964Z"
   },
   {
    "duration": 14,
    "start_time": "2023-07-10T21:06:21.980Z"
   },
   {
    "duration": 57,
    "start_time": "2023-07-10T21:06:21.996Z"
   },
   {
    "duration": 32,
    "start_time": "2023-07-10T21:06:22.055Z"
   },
   {
    "duration": 4,
    "start_time": "2023-07-10T21:06:22.089Z"
   },
   {
    "duration": 309,
    "start_time": "2023-07-10T21:06:22.094Z"
   },
   {
    "duration": 182,
    "start_time": "2023-07-10T21:06:22.405Z"
   },
   {
    "duration": 185,
    "start_time": "2023-07-10T21:06:22.589Z"
   },
   {
    "duration": 272,
    "start_time": "2023-07-10T21:06:22.775Z"
   },
   {
    "duration": 264,
    "start_time": "2023-07-10T21:06:23.049Z"
   },
   {
    "duration": 4290,
    "start_time": "2023-07-10T21:06:23.315Z"
   },
   {
    "duration": 313,
    "start_time": "2023-07-10T21:06:27.606Z"
   },
   {
    "duration": 211,
    "start_time": "2023-07-10T21:06:27.921Z"
   },
   {
    "duration": 700,
    "start_time": "2023-07-10T21:06:28.134Z"
   },
   {
    "duration": 331,
    "start_time": "2023-07-10T21:06:28.836Z"
   },
   {
    "duration": 940,
    "start_time": "2023-07-10T21:06:29.169Z"
   },
   {
    "duration": 3,
    "start_time": "2023-07-10T21:06:30.111Z"
   },
   {
    "duration": 84,
    "start_time": "2023-07-10T21:06:30.116Z"
   },
   {
    "duration": 49,
    "start_time": "2023-07-10T21:06:30.203Z"
   },
   {
    "duration": 845,
    "start_time": "2023-07-10T21:08:07.408Z"
   },
   {
    "duration": 1306,
    "start_time": "2023-07-10T21:08:26.504Z"
   },
   {
    "duration": 92,
    "start_time": "2023-07-10T21:08:27.812Z"
   },
   {
    "duration": 1601,
    "start_time": "2023-07-10T21:08:27.906Z"
   },
   {
    "duration": 9,
    "start_time": "2023-07-10T21:08:29.509Z"
   },
   {
    "duration": 47,
    "start_time": "2023-07-10T21:08:29.521Z"
   },
   {
    "duration": 53,
    "start_time": "2023-07-10T21:08:29.570Z"
   },
   {
    "duration": 4,
    "start_time": "2023-07-10T21:08:29.625Z"
   },
   {
    "duration": 51,
    "start_time": "2023-07-10T21:08:29.630Z"
   },
   {
    "duration": 6,
    "start_time": "2023-07-10T21:08:29.683Z"
   },
   {
    "duration": 10,
    "start_time": "2023-07-10T21:08:29.690Z"
   },
   {
    "duration": 7,
    "start_time": "2023-07-10T21:08:29.701Z"
   },
   {
    "duration": 278,
    "start_time": "2023-07-10T21:08:29.710Z"
   },
   {
    "duration": 22,
    "start_time": "2023-07-10T21:08:29.991Z"
   },
   {
    "duration": 252,
    "start_time": "2023-07-10T21:08:30.018Z"
   },
   {
    "duration": 237,
    "start_time": "2023-07-10T21:08:30.272Z"
   },
   {
    "duration": 166,
    "start_time": "2023-07-10T21:08:30.512Z"
   },
   {
    "duration": 14,
    "start_time": "2023-07-10T21:08:30.680Z"
   },
   {
    "duration": 61,
    "start_time": "2023-07-10T21:08:30.696Z"
   },
   {
    "duration": 65,
    "start_time": "2023-07-10T21:08:30.759Z"
   },
   {
    "duration": 28,
    "start_time": "2023-07-10T21:08:30.826Z"
   },
   {
    "duration": 76,
    "start_time": "2023-07-10T21:08:30.857Z"
   },
   {
    "duration": 36,
    "start_time": "2023-07-10T21:08:30.935Z"
   },
   {
    "duration": 4,
    "start_time": "2023-07-10T21:08:30.973Z"
   },
   {
    "duration": 320,
    "start_time": "2023-07-10T21:08:30.979Z"
   },
   {
    "duration": 196,
    "start_time": "2023-07-10T21:08:31.301Z"
   },
   {
    "duration": 194,
    "start_time": "2023-07-10T21:08:31.499Z"
   },
   {
    "duration": 291,
    "start_time": "2023-07-10T21:08:31.695Z"
   },
   {
    "duration": 286,
    "start_time": "2023-07-10T21:08:31.988Z"
   },
   {
    "duration": 4224,
    "start_time": "2023-07-10T21:08:32.276Z"
   },
   {
    "duration": 283,
    "start_time": "2023-07-10T21:08:36.501Z"
   },
   {
    "duration": 212,
    "start_time": "2023-07-10T21:08:36.786Z"
   },
   {
    "duration": 596,
    "start_time": "2023-07-10T21:08:37.000Z"
   },
   {
    "duration": 296,
    "start_time": "2023-07-10T21:08:37.599Z"
   },
   {
    "duration": 989,
    "start_time": "2023-07-10T21:08:37.897Z"
   },
   {
    "duration": 3,
    "start_time": "2023-07-10T21:08:38.888Z"
   },
   {
    "duration": 13,
    "start_time": "2023-07-10T21:08:38.893Z"
   },
   {
    "duration": 9,
    "start_time": "2023-07-10T21:08:38.908Z"
   },
   {
    "duration": 2418,
    "start_time": "2023-07-10T21:15:04.384Z"
   },
   {
    "duration": 2163,
    "start_time": "2023-07-10T21:17:59.550Z"
   },
   {
    "duration": 87,
    "start_time": "2023-07-10T21:23:17.812Z"
   },
   {
    "duration": 64,
    "start_time": "2023-07-10T21:23:27.577Z"
   },
   {
    "duration": 3559,
    "start_time": "2023-07-10T21:23:33.402Z"
   },
   {
    "duration": 2101,
    "start_time": "2023-07-10T21:23:53.338Z"
   },
   {
    "duration": 1275,
    "start_time": "2023-07-10T21:24:19.830Z"
   },
   {
    "duration": 108,
    "start_time": "2023-07-10T21:24:21.107Z"
   },
   {
    "duration": 1376,
    "start_time": "2023-07-10T21:24:21.217Z"
   },
   {
    "duration": 6,
    "start_time": "2023-07-10T21:24:22.596Z"
   },
   {
    "duration": 44,
    "start_time": "2023-07-10T21:24:22.604Z"
   },
   {
    "duration": 60,
    "start_time": "2023-07-10T21:24:22.649Z"
   },
   {
    "duration": 5,
    "start_time": "2023-07-10T21:24:22.710Z"
   },
   {
    "duration": 44,
    "start_time": "2023-07-10T21:24:22.716Z"
   },
   {
    "duration": 8,
    "start_time": "2023-07-10T21:24:22.762Z"
   },
   {
    "duration": 12,
    "start_time": "2023-07-10T21:24:22.773Z"
   },
   {
    "duration": 20,
    "start_time": "2023-07-10T21:24:22.787Z"
   },
   {
    "duration": 208,
    "start_time": "2023-07-10T21:24:22.808Z"
   },
   {
    "duration": 7,
    "start_time": "2023-07-10T21:24:23.017Z"
   },
   {
    "duration": 6,
    "start_time": "2023-07-10T21:24:23.027Z"
   },
   {
    "duration": 27,
    "start_time": "2023-07-10T21:24:23.035Z"
   },
   {
    "duration": 133,
    "start_time": "2023-07-10T21:24:23.064Z"
   },
   {
    "duration": 12,
    "start_time": "2023-07-10T21:24:23.199Z"
   },
   {
    "duration": 6,
    "start_time": "2023-07-10T21:24:23.213Z"
   },
   {
    "duration": 14,
    "start_time": "2023-07-10T21:24:23.222Z"
   },
   {
    "duration": 31,
    "start_time": "2023-07-10T21:24:23.238Z"
   },
   {
    "duration": 39,
    "start_time": "2023-07-10T21:24:23.272Z"
   },
   {
    "duration": 25,
    "start_time": "2023-07-10T21:24:23.313Z"
   },
   {
    "duration": 18,
    "start_time": "2023-07-10T21:24:23.339Z"
   },
   {
    "duration": 286,
    "start_time": "2023-07-10T21:24:23.359Z"
   },
   {
    "duration": 171,
    "start_time": "2023-07-10T21:24:23.646Z"
   },
   {
    "duration": 172,
    "start_time": "2023-07-10T21:24:23.818Z"
   },
   {
    "duration": 294,
    "start_time": "2023-07-10T21:24:23.992Z"
   },
   {
    "duration": 260,
    "start_time": "2023-07-10T21:24:24.288Z"
   },
   {
    "duration": 4316,
    "start_time": "2023-07-10T21:24:24.550Z"
   },
   {
    "duration": 375,
    "start_time": "2023-07-10T21:24:28.869Z"
   },
   {
    "duration": 221,
    "start_time": "2023-07-10T21:24:29.246Z"
   },
   {
    "duration": 560,
    "start_time": "2023-07-10T21:24:29.469Z"
   },
   {
    "duration": 312,
    "start_time": "2023-07-10T21:24:30.031Z"
   },
   {
    "duration": 979,
    "start_time": "2023-07-10T21:24:30.346Z"
   },
   {
    "duration": 2801,
    "start_time": "2023-07-10T21:24:31.328Z"
   },
   {
    "duration": 9,
    "start_time": "2023-07-10T21:24:34.132Z"
   },
   {
    "duration": 11,
    "start_time": "2023-07-10T21:24:34.156Z"
   },
   {
    "duration": 62,
    "start_time": "2023-07-11T05:31:51.614Z"
   },
   {
    "duration": 69,
    "start_time": "2023-07-11T05:32:04.008Z"
   },
   {
    "duration": 105,
    "start_time": "2023-07-11T05:32:21.001Z"
   },
   {
    "duration": 1173,
    "start_time": "2023-07-11T05:32:35.255Z"
   },
   {
    "duration": 282,
    "start_time": "2023-07-11T05:32:36.431Z"
   },
   {
    "duration": 1255,
    "start_time": "2023-07-11T05:32:36.715Z"
   },
   {
    "duration": 6,
    "start_time": "2023-07-11T05:32:37.972Z"
   },
   {
    "duration": 66,
    "start_time": "2023-07-11T05:32:37.980Z"
   },
   {
    "duration": 56,
    "start_time": "2023-07-11T05:32:38.048Z"
   },
   {
    "duration": 3,
    "start_time": "2023-07-11T05:32:38.106Z"
   },
   {
    "duration": 40,
    "start_time": "2023-07-11T05:32:38.111Z"
   },
   {
    "duration": 17,
    "start_time": "2023-07-11T05:32:38.152Z"
   },
   {
    "duration": 12,
    "start_time": "2023-07-11T05:32:38.170Z"
   },
   {
    "duration": 21,
    "start_time": "2023-07-11T05:32:38.183Z"
   },
   {
    "duration": 190,
    "start_time": "2023-07-11T05:32:38.206Z"
   },
   {
    "duration": 7,
    "start_time": "2023-07-11T05:32:38.398Z"
   },
   {
    "duration": 28,
    "start_time": "2023-07-11T05:32:38.408Z"
   },
   {
    "duration": 9,
    "start_time": "2023-07-11T05:32:38.438Z"
   },
   {
    "duration": 143,
    "start_time": "2023-07-11T05:32:38.449Z"
   },
   {
    "duration": 12,
    "start_time": "2023-07-11T05:32:38.593Z"
   },
   {
    "duration": 5,
    "start_time": "2023-07-11T05:32:38.607Z"
   },
   {
    "duration": 18,
    "start_time": "2023-07-11T05:32:38.613Z"
   },
   {
    "duration": 24,
    "start_time": "2023-07-11T05:32:38.633Z"
   },
   {
    "duration": 39,
    "start_time": "2023-07-11T05:32:38.658Z"
   },
   {
    "duration": 31,
    "start_time": "2023-07-11T05:32:38.699Z"
   },
   {
    "duration": 9,
    "start_time": "2023-07-11T05:32:38.732Z"
   },
   {
    "duration": 298,
    "start_time": "2023-07-11T05:32:38.743Z"
   },
   {
    "duration": 176,
    "start_time": "2023-07-11T05:32:39.043Z"
   },
   {
    "duration": 153,
    "start_time": "2023-07-11T05:32:39.221Z"
   },
   {
    "duration": 241,
    "start_time": "2023-07-11T05:32:39.376Z"
   },
   {
    "duration": 232,
    "start_time": "2023-07-11T05:32:39.618Z"
   },
   {
    "duration": 3701,
    "start_time": "2023-07-11T05:32:39.856Z"
   },
   {
    "duration": 281,
    "start_time": "2023-07-11T05:32:43.559Z"
   },
   {
    "duration": 196,
    "start_time": "2023-07-11T05:32:43.841Z"
   },
   {
    "duration": 479,
    "start_time": "2023-07-11T05:32:44.039Z"
   },
   {
    "duration": 250,
    "start_time": "2023-07-11T05:32:44.519Z"
   },
   {
    "duration": 862,
    "start_time": "2023-07-11T05:32:44.771Z"
   },
   {
    "duration": 2541,
    "start_time": "2023-07-11T05:32:45.635Z"
   },
   {
    "duration": 846,
    "start_time": "2023-07-11T05:32:48.178Z"
   },
   {
    "duration": 9,
    "start_time": "2023-07-11T05:32:49.026Z"
   },
   {
    "duration": 20,
    "start_time": "2023-07-11T05:32:49.036Z"
   },
   {
    "duration": 858,
    "start_time": "2023-07-11T05:35:22.701Z"
   },
   {
    "duration": 885,
    "start_time": "2023-07-11T05:36:11.905Z"
   },
   {
    "duration": 777,
    "start_time": "2023-07-11T05:36:45.101Z"
   },
   {
    "duration": 875,
    "start_time": "2023-07-11T05:37:08.309Z"
   },
   {
    "duration": 1196,
    "start_time": "2023-07-11T05:40:17.219Z"
   },
   {
    "duration": 85,
    "start_time": "2023-07-11T05:40:18.417Z"
   },
   {
    "duration": 1244,
    "start_time": "2023-07-11T05:40:18.503Z"
   },
   {
    "duration": 12,
    "start_time": "2023-07-11T05:40:19.748Z"
   },
   {
    "duration": 25,
    "start_time": "2023-07-11T05:40:19.762Z"
   },
   {
    "duration": 45,
    "start_time": "2023-07-11T05:40:19.789Z"
   },
   {
    "duration": 22,
    "start_time": "2023-07-11T05:40:19.836Z"
   },
   {
    "duration": 26,
    "start_time": "2023-07-11T05:40:19.859Z"
   },
   {
    "duration": 8,
    "start_time": "2023-07-11T05:40:19.886Z"
   },
   {
    "duration": 8,
    "start_time": "2023-07-11T05:40:19.896Z"
   },
   {
    "duration": 8,
    "start_time": "2023-07-11T05:40:19.905Z"
   },
   {
    "duration": 198,
    "start_time": "2023-07-11T05:40:19.914Z"
   },
   {
    "duration": 6,
    "start_time": "2023-07-11T05:40:20.114Z"
   },
   {
    "duration": 7,
    "start_time": "2023-07-11T05:40:20.123Z"
   },
   {
    "duration": 48,
    "start_time": "2023-07-11T05:40:20.131Z"
   },
   {
    "duration": 136,
    "start_time": "2023-07-11T05:40:20.181Z"
   },
   {
    "duration": 12,
    "start_time": "2023-07-11T05:40:20.318Z"
   },
   {
    "duration": 91,
    "start_time": "2023-07-11T05:40:20.332Z"
   },
   {
    "duration": 60,
    "start_time": "2023-07-11T05:40:20.425Z"
   },
   {
    "duration": 9,
    "start_time": "2023-07-11T05:40:20.487Z"
   },
   {
    "duration": 32,
    "start_time": "2023-07-11T05:40:20.498Z"
   },
   {
    "duration": 24,
    "start_time": "2023-07-11T05:40:20.532Z"
   },
   {
    "duration": 3,
    "start_time": "2023-07-11T05:40:20.558Z"
   },
   {
    "duration": 253,
    "start_time": "2023-07-11T05:40:20.562Z"
   },
   {
    "duration": 162,
    "start_time": "2023-07-11T05:40:20.817Z"
   },
   {
    "duration": 154,
    "start_time": "2023-07-11T05:40:20.981Z"
   },
   {
    "duration": 250,
    "start_time": "2023-07-11T05:40:21.137Z"
   },
   {
    "duration": 237,
    "start_time": "2023-07-11T05:40:21.389Z"
   },
   {
    "duration": 3846,
    "start_time": "2023-07-11T05:40:21.627Z"
   },
   {
    "duration": 274,
    "start_time": "2023-07-11T05:40:25.474Z"
   },
   {
    "duration": 190,
    "start_time": "2023-07-11T05:40:25.750Z"
   },
   {
    "duration": 517,
    "start_time": "2023-07-11T05:40:25.942Z"
   },
   {
    "duration": 253,
    "start_time": "2023-07-11T05:40:26.460Z"
   },
   {
    "duration": 2678,
    "start_time": "2023-07-11T05:40:26.715Z"
   },
   {
    "duration": 823,
    "start_time": "2023-07-11T05:40:29.395Z"
   },
   {
    "duration": 9,
    "start_time": "2023-07-11T05:40:30.220Z"
   },
   {
    "duration": 52,
    "start_time": "2023-07-11T05:40:30.231Z"
   },
   {
    "duration": 10,
    "start_time": "2023-07-11T07:44:35.367Z"
   },
   {
    "duration": 1381,
    "start_time": "2023-07-11T07:59:56.032Z"
   },
   {
    "duration": 97,
    "start_time": "2023-07-11T07:59:57.417Z"
   },
   {
    "duration": 1595,
    "start_time": "2023-07-11T07:59:57.516Z"
   },
   {
    "duration": 8,
    "start_time": "2023-07-11T07:59:59.113Z"
   },
   {
    "duration": 47,
    "start_time": "2023-07-11T07:59:59.122Z"
   },
   {
    "duration": 73,
    "start_time": "2023-07-11T07:59:59.175Z"
   },
   {
    "duration": 14,
    "start_time": "2023-07-11T07:59:59.250Z"
   },
   {
    "duration": 44,
    "start_time": "2023-07-11T07:59:59.270Z"
   },
   {
    "duration": 7,
    "start_time": "2023-07-11T07:59:59.316Z"
   },
   {
    "duration": 19,
    "start_time": "2023-07-11T07:59:59.327Z"
   },
   {
    "duration": 22,
    "start_time": "2023-07-11T07:59:59.348Z"
   },
   {
    "duration": 258,
    "start_time": "2023-07-11T07:59:59.374Z"
   },
   {
    "duration": 7,
    "start_time": "2023-07-11T07:59:59.634Z"
   },
   {
    "duration": 43,
    "start_time": "2023-07-11T07:59:59.642Z"
   },
   {
    "duration": 20,
    "start_time": "2023-07-11T07:59:59.688Z"
   },
   {
    "duration": 127,
    "start_time": "2023-07-11T07:59:59.710Z"
   },
   {
    "duration": 32,
    "start_time": "2023-07-11T07:59:59.839Z"
   },
   {
    "duration": 9,
    "start_time": "2023-07-11T07:59:59.883Z"
   },
   {
    "duration": 12,
    "start_time": "2023-07-11T07:59:59.893Z"
   },
   {
    "duration": 7,
    "start_time": "2023-07-11T07:59:59.907Z"
   },
   {
    "duration": 39,
    "start_time": "2023-07-11T07:59:59.916Z"
   },
   {
    "duration": 47,
    "start_time": "2023-07-11T07:59:59.963Z"
   },
   {
    "duration": 6,
    "start_time": "2023-07-11T08:00:00.012Z"
   },
   {
    "duration": 370,
    "start_time": "2023-07-11T08:00:00.021Z"
   },
   {
    "duration": 215,
    "start_time": "2023-07-11T08:00:00.393Z"
   },
   {
    "duration": 191,
    "start_time": "2023-07-11T08:00:00.611Z"
   },
   {
    "duration": 313,
    "start_time": "2023-07-11T08:00:00.803Z"
   },
   {
    "duration": 284,
    "start_time": "2023-07-11T08:00:01.119Z"
   },
   {
    "duration": 4815,
    "start_time": "2023-07-11T08:00:01.405Z"
   },
   {
    "duration": 321,
    "start_time": "2023-07-11T08:00:06.222Z"
   },
   {
    "duration": 247,
    "start_time": "2023-07-11T08:00:06.545Z"
   },
   {
    "duration": 590,
    "start_time": "2023-07-11T08:00:06.794Z"
   },
   {
    "duration": 315,
    "start_time": "2023-07-11T08:00:07.390Z"
   },
   {
    "duration": 3188,
    "start_time": "2023-07-11T08:00:07.706Z"
   },
   {
    "duration": 945,
    "start_time": "2023-07-11T08:00:10.896Z"
   },
   {
    "duration": 19,
    "start_time": "2023-07-11T08:00:11.843Z"
   },
   {
    "duration": 15,
    "start_time": "2023-07-11T08:00:11.870Z"
   },
   {
    "duration": 1311,
    "start_time": "2023-07-11T08:55:55.915Z"
   },
   {
    "duration": 103,
    "start_time": "2023-07-11T08:55:57.229Z"
   },
   {
    "duration": 1577,
    "start_time": "2023-07-11T08:55:57.334Z"
   },
   {
    "duration": 9,
    "start_time": "2023-07-11T08:55:58.914Z"
   },
   {
    "duration": 49,
    "start_time": "2023-07-11T08:55:58.926Z"
   },
   {
    "duration": 70,
    "start_time": "2023-07-11T08:55:58.980Z"
   },
   {
    "duration": 12,
    "start_time": "2023-07-11T08:55:59.052Z"
   },
   {
    "duration": 42,
    "start_time": "2023-07-11T08:55:59.066Z"
   },
   {
    "duration": 8,
    "start_time": "2023-07-11T08:55:59.110Z"
   },
   {
    "duration": 7,
    "start_time": "2023-07-11T08:55:59.121Z"
   },
   {
    "duration": 43,
    "start_time": "2023-07-11T08:55:59.130Z"
   },
   {
    "duration": 243,
    "start_time": "2023-07-11T08:55:59.176Z"
   },
   {
    "duration": 7,
    "start_time": "2023-07-11T08:55:59.421Z"
   },
   {
    "duration": 8,
    "start_time": "2023-07-11T08:55:59.432Z"
   },
   {
    "duration": 45,
    "start_time": "2023-07-11T08:55:59.443Z"
   },
   {
    "duration": 141,
    "start_time": "2023-07-11T08:55:59.491Z"
   },
   {
    "duration": 13,
    "start_time": "2023-07-11T08:55:59.634Z"
   },
   {
    "duration": 14,
    "start_time": "2023-07-11T08:55:59.649Z"
   },
   {
    "duration": 26,
    "start_time": "2023-07-11T08:55:59.665Z"
   },
   {
    "duration": 16,
    "start_time": "2023-07-11T08:55:59.692Z"
   },
   {
    "duration": 37,
    "start_time": "2023-07-11T08:55:59.710Z"
   },
   {
    "duration": 42,
    "start_time": "2023-07-11T08:55:59.749Z"
   },
   {
    "duration": 5,
    "start_time": "2023-07-11T08:55:59.796Z"
   },
   {
    "duration": 321,
    "start_time": "2023-07-11T08:55:59.803Z"
   },
   {
    "duration": 225,
    "start_time": "2023-07-11T08:56:00.127Z"
   },
   {
    "duration": 192,
    "start_time": "2023-07-11T08:56:00.353Z"
   },
   {
    "duration": 329,
    "start_time": "2023-07-11T08:56:00.547Z"
   },
   {
    "duration": 268,
    "start_time": "2023-07-11T08:56:00.880Z"
   },
   {
    "duration": 4662,
    "start_time": "2023-07-11T08:56:01.150Z"
   },
   {
    "duration": 321,
    "start_time": "2023-07-11T08:56:05.815Z"
   },
   {
    "duration": 241,
    "start_time": "2023-07-11T08:56:06.138Z"
   },
   {
    "duration": 538,
    "start_time": "2023-07-11T08:56:06.385Z"
   },
   {
    "duration": 320,
    "start_time": "2023-07-11T08:56:06.925Z"
   },
   {
    "duration": 3188,
    "start_time": "2023-07-11T08:56:07.248Z"
   },
   {
    "duration": 955,
    "start_time": "2023-07-11T08:56:10.438Z"
   },
   {
    "duration": 9,
    "start_time": "2023-07-11T08:56:11.395Z"
   },
   {
    "duration": 11,
    "start_time": "2023-07-11T08:56:11.406Z"
   },
   {
    "duration": 1504,
    "start_time": "2023-07-11T13:30:45.178Z"
   },
   {
    "duration": 136,
    "start_time": "2023-07-11T13:30:46.684Z"
   },
   {
    "duration": 1427,
    "start_time": "2023-07-11T13:30:46.822Z"
   },
   {
    "duration": 11,
    "start_time": "2023-07-11T13:30:48.251Z"
   },
   {
    "duration": 40,
    "start_time": "2023-07-11T13:30:48.264Z"
   },
   {
    "duration": 82,
    "start_time": "2023-07-11T13:30:48.306Z"
   },
   {
    "duration": 5,
    "start_time": "2023-07-11T13:30:48.390Z"
   },
   {
    "duration": 33,
    "start_time": "2023-07-11T13:30:48.396Z"
   },
   {
    "duration": 7,
    "start_time": "2023-07-11T13:30:48.431Z"
   },
   {
    "duration": 18,
    "start_time": "2023-07-11T13:30:48.456Z"
   },
   {
    "duration": 17,
    "start_time": "2023-07-11T13:30:48.477Z"
   },
   {
    "duration": 227,
    "start_time": "2023-07-11T13:30:48.496Z"
   },
   {
    "duration": 8,
    "start_time": "2023-07-11T13:30:48.725Z"
   },
   {
    "duration": 34,
    "start_time": "2023-07-11T13:30:48.736Z"
   },
   {
    "duration": 13,
    "start_time": "2023-07-11T13:30:48.778Z"
   },
   {
    "duration": 130,
    "start_time": "2023-07-11T13:30:48.795Z"
   },
   {
    "duration": 11,
    "start_time": "2023-07-11T13:30:48.927Z"
   },
   {
    "duration": 5,
    "start_time": "2023-07-11T13:30:48.939Z"
   },
   {
    "duration": 6,
    "start_time": "2023-07-11T13:30:48.958Z"
   },
   {
    "duration": 11,
    "start_time": "2023-07-11T13:30:48.966Z"
   },
   {
    "duration": 38,
    "start_time": "2023-07-11T13:30:48.979Z"
   },
   {
    "duration": 58,
    "start_time": "2023-07-11T13:30:49.019Z"
   },
   {
    "duration": 5,
    "start_time": "2023-07-11T13:30:49.079Z"
   },
   {
    "duration": 405,
    "start_time": "2023-07-11T13:30:49.086Z"
   },
   {
    "duration": 220,
    "start_time": "2023-07-11T13:30:49.494Z"
   },
   {
    "duration": 231,
    "start_time": "2023-07-11T13:30:49.716Z"
   },
   {
    "duration": 325,
    "start_time": "2023-07-11T13:30:49.949Z"
   },
   {
    "duration": 276,
    "start_time": "2023-07-11T13:30:50.276Z"
   },
   {
    "duration": 4751,
    "start_time": "2023-07-11T13:30:50.554Z"
   },
   {
    "duration": 308,
    "start_time": "2023-07-11T13:30:55.307Z"
   },
   {
    "duration": 258,
    "start_time": "2023-07-11T13:30:55.617Z"
   },
   {
    "duration": 886,
    "start_time": "2023-07-11T13:30:55.877Z"
   },
   {
    "duration": 528,
    "start_time": "2023-07-11T13:30:56.766Z"
   },
   {
    "duration": 4443,
    "start_time": "2023-07-11T13:30:57.296Z"
   },
   {
    "duration": 1054,
    "start_time": "2023-07-11T13:31:01.742Z"
   },
   {
    "duration": 10,
    "start_time": "2023-07-11T13:31:02.798Z"
   },
   {
    "duration": 18,
    "start_time": "2023-07-11T13:31:02.810Z"
   },
   {
    "duration": 69,
    "start_time": "2023-07-12T17:34:26.609Z"
   },
   {
    "duration": 1542,
    "start_time": "2023-07-12T17:34:35.317Z"
   },
   {
    "duration": 102,
    "start_time": "2023-07-12T17:34:36.861Z"
   },
   {
    "duration": 1740,
    "start_time": "2023-07-12T17:34:36.965Z"
   },
   {
    "duration": 6,
    "start_time": "2023-07-12T17:34:38.707Z"
   },
   {
    "duration": 41,
    "start_time": "2023-07-12T17:34:38.715Z"
   },
   {
    "duration": 68,
    "start_time": "2023-07-12T17:34:38.757Z"
   },
   {
    "duration": 4,
    "start_time": "2023-07-12T17:34:38.827Z"
   },
   {
    "duration": 58,
    "start_time": "2023-07-12T17:34:38.832Z"
   },
   {
    "duration": 6,
    "start_time": "2023-07-12T17:34:38.897Z"
   },
   {
    "duration": 8,
    "start_time": "2023-07-12T17:34:38.905Z"
   },
   {
    "duration": 9,
    "start_time": "2023-07-12T17:34:38.914Z"
   },
   {
    "duration": 214,
    "start_time": "2023-07-12T17:34:38.925Z"
   },
   {
    "duration": 2,
    "start_time": "2023-07-12T17:34:39.141Z"
   },
   {
    "duration": 7,
    "start_time": "2023-07-12T17:34:39.146Z"
   },
   {
    "duration": 19,
    "start_time": "2023-07-12T17:34:39.154Z"
   },
   {
    "duration": 25,
    "start_time": "2023-07-12T17:34:39.175Z"
   },
   {
    "duration": 119,
    "start_time": "2023-07-12T17:34:39.202Z"
   },
   {
    "duration": 13,
    "start_time": "2023-07-12T17:34:39.322Z"
   },
   {
    "duration": 5,
    "start_time": "2023-07-12T17:34:39.336Z"
   },
   {
    "duration": 5,
    "start_time": "2023-07-12T17:34:39.343Z"
   },
   {
    "duration": 23,
    "start_time": "2023-07-12T17:34:39.350Z"
   },
   {
    "duration": 39,
    "start_time": "2023-07-12T17:34:39.374Z"
   },
   {
    "duration": 25,
    "start_time": "2023-07-12T17:34:39.415Z"
   },
   {
    "duration": 4,
    "start_time": "2023-07-12T17:34:39.442Z"
   },
   {
    "duration": 282,
    "start_time": "2023-07-12T17:34:39.471Z"
   },
   {
    "duration": 179,
    "start_time": "2023-07-12T17:34:39.755Z"
   },
   {
    "duration": 172,
    "start_time": "2023-07-12T17:34:39.935Z"
   },
   {
    "duration": 292,
    "start_time": "2023-07-12T17:34:40.108Z"
   },
   {
    "duration": 232,
    "start_time": "2023-07-12T17:34:40.401Z"
   },
   {
    "duration": 4234,
    "start_time": "2023-07-12T17:34:40.635Z"
   },
   {
    "duration": 183,
    "start_time": "2023-07-12T17:34:44.872Z"
   },
   {
    "duration": 223,
    "start_time": "2023-07-12T17:34:45.057Z"
   },
   {
    "duration": 233,
    "start_time": "2023-07-12T17:34:45.282Z"
   },
   {
    "duration": 633,
    "start_time": "2023-07-12T17:34:45.517Z"
   },
   {
    "duration": 4150,
    "start_time": "2023-07-12T17:34:46.152Z"
   },
   {
    "duration": 819,
    "start_time": "2023-07-12T17:34:50.304Z"
   },
   {
    "duration": 11,
    "start_time": "2023-07-12T17:34:51.124Z"
   },
   {
    "duration": 20,
    "start_time": "2023-07-12T17:34:51.136Z"
   },
   {
    "duration": 6,
    "start_time": "2023-07-12T17:36:11.694Z"
   },
   {
    "duration": 83,
    "start_time": "2023-07-12T17:36:18.939Z"
   },
   {
    "duration": 16,
    "start_time": "2023-07-12T17:38:09.454Z"
   },
   {
    "duration": 177,
    "start_time": "2023-07-12T17:39:20.450Z"
   },
   {
    "duration": 1282,
    "start_time": "2023-07-12T17:39:38.968Z"
   },
   {
    "duration": 109,
    "start_time": "2023-07-12T17:39:40.254Z"
   },
   {
    "duration": 1390,
    "start_time": "2023-07-12T17:39:40.365Z"
   },
   {
    "duration": 16,
    "start_time": "2023-07-12T17:39:41.757Z"
   },
   {
    "duration": 43,
    "start_time": "2023-07-12T17:39:41.775Z"
   },
   {
    "duration": 83,
    "start_time": "2023-07-12T17:39:41.820Z"
   },
   {
    "duration": 4,
    "start_time": "2023-07-12T17:39:41.905Z"
   },
   {
    "duration": 22,
    "start_time": "2023-07-12T17:39:41.911Z"
   },
   {
    "duration": 6,
    "start_time": "2023-07-12T17:39:41.935Z"
   },
   {
    "duration": 7,
    "start_time": "2023-07-12T17:39:41.969Z"
   },
   {
    "duration": 18,
    "start_time": "2023-07-12T17:39:41.983Z"
   },
   {
    "duration": 196,
    "start_time": "2023-07-12T17:39:42.003Z"
   },
   {
    "duration": 3,
    "start_time": "2023-07-12T17:39:42.201Z"
   },
   {
    "duration": 17,
    "start_time": "2023-07-12T17:39:42.207Z"
   },
   {
    "duration": 133,
    "start_time": "2023-07-12T17:39:42.226Z"
   },
   {
    "duration": 0,
    "start_time": "2023-07-12T17:39:42.361Z"
   },
   {
    "duration": 0,
    "start_time": "2023-07-12T17:39:42.362Z"
   },
   {
    "duration": 0,
    "start_time": "2023-07-12T17:39:42.363Z"
   },
   {
    "duration": 0,
    "start_time": "2023-07-12T17:39:42.367Z"
   },
   {
    "duration": 0,
    "start_time": "2023-07-12T17:39:42.368Z"
   },
   {
    "duration": 0,
    "start_time": "2023-07-12T17:39:42.369Z"
   },
   {
    "duration": 0,
    "start_time": "2023-07-12T17:39:42.369Z"
   },
   {
    "duration": 0,
    "start_time": "2023-07-12T17:39:42.370Z"
   },
   {
    "duration": 0,
    "start_time": "2023-07-12T17:39:42.370Z"
   },
   {
    "duration": 0,
    "start_time": "2023-07-12T17:39:42.371Z"
   },
   {
    "duration": 0,
    "start_time": "2023-07-12T17:39:42.372Z"
   },
   {
    "duration": 0,
    "start_time": "2023-07-12T17:39:42.373Z"
   },
   {
    "duration": 0,
    "start_time": "2023-07-12T17:39:42.377Z"
   },
   {
    "duration": 0,
    "start_time": "2023-07-12T17:39:42.378Z"
   },
   {
    "duration": 0,
    "start_time": "2023-07-12T17:39:42.379Z"
   },
   {
    "duration": 0,
    "start_time": "2023-07-12T17:39:42.380Z"
   },
   {
    "duration": 0,
    "start_time": "2023-07-12T17:39:42.380Z"
   },
   {
    "duration": 0,
    "start_time": "2023-07-12T17:39:42.381Z"
   },
   {
    "duration": 0,
    "start_time": "2023-07-12T17:39:42.382Z"
   },
   {
    "duration": 0,
    "start_time": "2023-07-12T17:39:42.383Z"
   },
   {
    "duration": 0,
    "start_time": "2023-07-12T17:39:42.384Z"
   },
   {
    "duration": 0,
    "start_time": "2023-07-12T17:39:42.385Z"
   },
   {
    "duration": 0,
    "start_time": "2023-07-12T17:39:42.386Z"
   },
   {
    "duration": 4,
    "start_time": "2023-07-12T17:40:35.005Z"
   },
   {
    "duration": 5,
    "start_time": "2023-07-12T17:41:55.502Z"
   },
   {
    "duration": 10,
    "start_time": "2023-07-12T17:42:10.257Z"
   },
   {
    "duration": 39,
    "start_time": "2023-07-12T17:43:13.569Z"
   },
   {
    "duration": 1338,
    "start_time": "2023-07-12T18:06:28.139Z"
   },
   {
    "duration": 21,
    "start_time": "2023-07-12T18:06:56.397Z"
   },
   {
    "duration": 4,
    "start_time": "2023-07-12T18:07:19.424Z"
   },
   {
    "duration": 15,
    "start_time": "2023-07-12T18:07:29.603Z"
   },
   {
    "duration": 1524,
    "start_time": "2023-07-12T18:07:38.111Z"
   },
   {
    "duration": 121,
    "start_time": "2023-07-12T18:07:39.639Z"
   },
   {
    "duration": 1853,
    "start_time": "2023-07-12T18:07:39.762Z"
   },
   {
    "duration": 8,
    "start_time": "2023-07-12T18:07:41.617Z"
   },
   {
    "duration": 30,
    "start_time": "2023-07-12T18:07:41.628Z"
   },
   {
    "duration": 79,
    "start_time": "2023-07-12T18:07:41.661Z"
   },
   {
    "duration": 5,
    "start_time": "2023-07-12T18:07:41.745Z"
   },
   {
    "duration": 89,
    "start_time": "2023-07-12T18:07:41.752Z"
   },
   {
    "duration": 9,
    "start_time": "2023-07-12T18:07:41.843Z"
   },
   {
    "duration": 13,
    "start_time": "2023-07-12T18:07:41.856Z"
   },
   {
    "duration": 12,
    "start_time": "2023-07-12T18:07:41.872Z"
   },
   {
    "duration": 5,
    "start_time": "2023-07-12T18:07:41.887Z"
   },
   {
    "duration": 4,
    "start_time": "2023-07-12T18:07:41.895Z"
   },
   {
    "duration": 14,
    "start_time": "2023-07-12T18:07:41.910Z"
   },
   {
    "duration": 195,
    "start_time": "2023-07-12T18:07:41.928Z"
   },
   {
    "duration": 0,
    "start_time": "2023-07-12T18:07:42.125Z"
   },
   {
    "duration": 0,
    "start_time": "2023-07-12T18:07:42.126Z"
   },
   {
    "duration": 0,
    "start_time": "2023-07-12T18:07:42.128Z"
   },
   {
    "duration": 0,
    "start_time": "2023-07-12T18:07:42.129Z"
   },
   {
    "duration": 1,
    "start_time": "2023-07-12T18:07:42.130Z"
   },
   {
    "duration": 0,
    "start_time": "2023-07-12T18:07:42.132Z"
   },
   {
    "duration": 0,
    "start_time": "2023-07-12T18:07:42.133Z"
   },
   {
    "duration": 0,
    "start_time": "2023-07-12T18:07:42.135Z"
   },
   {
    "duration": 0,
    "start_time": "2023-07-12T18:07:42.136Z"
   },
   {
    "duration": 0,
    "start_time": "2023-07-12T18:07:42.138Z"
   },
   {
    "duration": 0,
    "start_time": "2023-07-12T18:07:42.139Z"
   },
   {
    "duration": 1,
    "start_time": "2023-07-12T18:07:42.140Z"
   },
   {
    "duration": 0,
    "start_time": "2023-07-12T18:07:42.142Z"
   },
   {
    "duration": 0,
    "start_time": "2023-07-12T18:07:42.143Z"
   },
   {
    "duration": 0,
    "start_time": "2023-07-12T18:07:42.145Z"
   },
   {
    "duration": 0,
    "start_time": "2023-07-12T18:07:42.146Z"
   },
   {
    "duration": 0,
    "start_time": "2023-07-12T18:07:42.148Z"
   },
   {
    "duration": 0,
    "start_time": "2023-07-12T18:07:42.149Z"
   },
   {
    "duration": 1,
    "start_time": "2023-07-12T18:07:42.168Z"
   },
   {
    "duration": 0,
    "start_time": "2023-07-12T18:07:42.170Z"
   },
   {
    "duration": 0,
    "start_time": "2023-07-12T18:07:42.171Z"
   },
   {
    "duration": 0,
    "start_time": "2023-07-12T18:07:42.173Z"
   },
   {
    "duration": 0,
    "start_time": "2023-07-12T18:07:42.348Z"
   },
   {
    "duration": 1304,
    "start_time": "2023-07-12T18:10:41.903Z"
   },
   {
    "duration": 10,
    "start_time": "2023-07-12T18:10:59.864Z"
   },
   {
    "duration": 9,
    "start_time": "2023-07-12T18:11:52.521Z"
   },
   {
    "duration": 187,
    "start_time": "2023-07-12T18:11:54.999Z"
   },
   {
    "duration": 6,
    "start_time": "2023-07-12T18:15:13.510Z"
   },
   {
    "duration": 1358,
    "start_time": "2023-07-12T18:15:22.409Z"
   },
   {
    "duration": 108,
    "start_time": "2023-07-12T18:15:23.770Z"
   },
   {
    "duration": 1548,
    "start_time": "2023-07-12T18:15:23.896Z"
   },
   {
    "duration": 7,
    "start_time": "2023-07-12T18:15:25.446Z"
   },
   {
    "duration": 58,
    "start_time": "2023-07-12T18:15:25.455Z"
   },
   {
    "duration": 50,
    "start_time": "2023-07-12T18:15:25.515Z"
   },
   {
    "duration": 14,
    "start_time": "2023-07-12T18:15:25.567Z"
   },
   {
    "duration": 41,
    "start_time": "2023-07-12T18:15:25.584Z"
   },
   {
    "duration": 15,
    "start_time": "2023-07-12T18:15:25.627Z"
   },
   {
    "duration": 50,
    "start_time": "2023-07-12T18:15:25.644Z"
   },
   {
    "duration": 28,
    "start_time": "2023-07-12T18:15:25.696Z"
   },
   {
    "duration": 28,
    "start_time": "2023-07-12T18:15:25.726Z"
   },
   {
    "duration": 50,
    "start_time": "2023-07-12T18:15:25.756Z"
   },
   {
    "duration": 33,
    "start_time": "2023-07-12T18:15:25.810Z"
   },
   {
    "duration": 11,
    "start_time": "2023-07-12T18:15:25.845Z"
   },
   {
    "duration": 33,
    "start_time": "2023-07-12T18:15:25.859Z"
   },
   {
    "duration": 11,
    "start_time": "2023-07-12T18:15:25.894Z"
   },
   {
    "duration": 16,
    "start_time": "2023-07-12T18:15:25.906Z"
   },
   {
    "duration": 21,
    "start_time": "2023-07-12T18:15:25.924Z"
   },
   {
    "duration": 35,
    "start_time": "2023-07-12T18:15:25.946Z"
   },
   {
    "duration": 24,
    "start_time": "2023-07-12T18:15:25.983Z"
   },
   {
    "duration": 72,
    "start_time": "2023-07-12T18:15:26.009Z"
   },
   {
    "duration": 36,
    "start_time": "2023-07-12T18:15:26.082Z"
   },
   {
    "duration": 9,
    "start_time": "2023-07-12T18:15:26.120Z"
   },
   {
    "duration": 411,
    "start_time": "2023-07-12T18:15:26.131Z"
   },
   {
    "duration": 192,
    "start_time": "2023-07-12T18:15:26.544Z"
   },
   {
    "duration": 174,
    "start_time": "2023-07-12T18:15:26.738Z"
   },
   {
    "duration": 326,
    "start_time": "2023-07-12T18:15:26.914Z"
   },
   {
    "duration": 275,
    "start_time": "2023-07-12T18:15:27.242Z"
   },
   {
    "duration": 4609,
    "start_time": "2023-07-12T18:15:27.519Z"
   },
   {
    "duration": 412,
    "start_time": "2023-07-12T18:15:32.131Z"
   },
   {
    "duration": 244,
    "start_time": "2023-07-12T18:15:32.545Z"
   },
   {
    "duration": 259,
    "start_time": "2023-07-12T18:15:32.793Z"
   },
   {
    "duration": 974,
    "start_time": "2023-07-12T18:15:33.054Z"
   },
   {
    "duration": 3714,
    "start_time": "2023-07-12T18:15:34.030Z"
   },
   {
    "duration": 1034,
    "start_time": "2023-07-12T18:15:37.745Z"
   },
   {
    "duration": 14,
    "start_time": "2023-07-12T18:15:38.781Z"
   },
   {
    "duration": 20,
    "start_time": "2023-07-12T18:15:38.797Z"
   },
   {
    "duration": 389,
    "start_time": "2023-07-12T18:23:23.952Z"
   },
   {
    "duration": 5127,
    "start_time": "2023-07-12T19:30:27.058Z"
   },
   {
    "duration": 167,
    "start_time": "2023-07-12T19:30:32.188Z"
   },
   {
    "duration": 1987,
    "start_time": "2023-07-12T19:30:32.357Z"
   },
   {
    "duration": 8,
    "start_time": "2023-07-12T19:30:34.353Z"
   },
   {
    "duration": 52,
    "start_time": "2023-07-12T19:30:34.363Z"
   },
   {
    "duration": 81,
    "start_time": "2023-07-12T19:30:34.418Z"
   },
   {
    "duration": 4,
    "start_time": "2023-07-12T19:30:34.501Z"
   },
   {
    "duration": 42,
    "start_time": "2023-07-12T19:30:34.508Z"
   },
   {
    "duration": 27,
    "start_time": "2023-07-12T19:30:34.552Z"
   },
   {
    "duration": 19,
    "start_time": "2023-07-12T19:30:34.592Z"
   },
   {
    "duration": 17,
    "start_time": "2023-07-12T19:30:34.613Z"
   },
   {
    "duration": 4,
    "start_time": "2023-07-12T19:30:34.632Z"
   },
   {
    "duration": 4,
    "start_time": "2023-07-12T19:30:34.639Z"
   },
   {
    "duration": 12,
    "start_time": "2023-07-12T19:30:34.645Z"
   },
   {
    "duration": 7,
    "start_time": "2023-07-12T19:30:34.659Z"
   },
   {
    "duration": 28,
    "start_time": "2023-07-12T19:30:34.671Z"
   },
   {
    "duration": 7,
    "start_time": "2023-07-12T19:30:34.701Z"
   },
   {
    "duration": 10,
    "start_time": "2023-07-12T19:30:34.710Z"
   },
   {
    "duration": 25,
    "start_time": "2023-07-12T19:30:34.725Z"
   },
   {
    "duration": 10,
    "start_time": "2023-07-12T19:30:34.755Z"
   },
   {
    "duration": 22,
    "start_time": "2023-07-12T19:30:34.767Z"
   },
   {
    "duration": 79,
    "start_time": "2023-07-12T19:30:34.792Z"
   },
   {
    "duration": 45,
    "start_time": "2023-07-12T19:30:34.873Z"
   },
   {
    "duration": 7,
    "start_time": "2023-07-12T19:30:34.920Z"
   },
   {
    "duration": 501,
    "start_time": "2023-07-12T19:30:34.929Z"
   },
   {
    "duration": 233,
    "start_time": "2023-07-12T19:30:35.442Z"
   },
   {
    "duration": 269,
    "start_time": "2023-07-12T19:30:35.677Z"
   },
   {
    "duration": 393,
    "start_time": "2023-07-12T19:30:35.952Z"
   },
   {
    "duration": 463,
    "start_time": "2023-07-12T19:30:36.347Z"
   },
   {
    "duration": 530,
    "start_time": "2023-07-12T19:30:36.812Z"
   },
   {
    "duration": 403,
    "start_time": "2023-07-12T19:30:37.348Z"
   },
   {
    "duration": 300,
    "start_time": "2023-07-12T19:30:37.753Z"
   },
   {
    "duration": 320,
    "start_time": "2023-07-12T19:30:38.058Z"
   },
   {
    "duration": 779,
    "start_time": "2023-07-12T19:30:38.382Z"
   },
   {
    "duration": 756,
    "start_time": "2023-07-12T19:30:39.163Z"
   },
   {
    "duration": 1110,
    "start_time": "2023-07-12T19:30:39.920Z"
   },
   {
    "duration": 10,
    "start_time": "2023-07-12T19:30:41.036Z"
   },
   {
    "duration": 10,
    "start_time": "2023-07-12T19:30:41.047Z"
   },
   {
    "duration": 8,
    "start_time": "2023-07-12T19:37:08.549Z"
   },
   {
    "duration": 13,
    "start_time": "2023-07-12T19:46:50.988Z"
   },
   {
    "duration": 12,
    "start_time": "2023-07-12T19:48:26.892Z"
   },
   {
    "duration": 9,
    "start_time": "2023-07-12T19:54:21.948Z"
   },
   {
    "duration": 4427,
    "start_time": "2023-07-12T19:56:31.318Z"
   },
   {
    "duration": 107,
    "start_time": "2023-07-12T19:56:35.747Z"
   },
   {
    "duration": 1679,
    "start_time": "2023-07-12T19:56:35.855Z"
   },
   {
    "duration": 7,
    "start_time": "2023-07-12T19:56:37.536Z"
   },
   {
    "duration": 51,
    "start_time": "2023-07-12T19:56:37.545Z"
   },
   {
    "duration": 53,
    "start_time": "2023-07-12T19:56:37.601Z"
   },
   {
    "duration": 11,
    "start_time": "2023-07-12T19:56:37.656Z"
   },
   {
    "duration": 29,
    "start_time": "2023-07-12T19:56:37.671Z"
   },
   {
    "duration": 6,
    "start_time": "2023-07-12T19:56:37.704Z"
   },
   {
    "duration": 19,
    "start_time": "2023-07-12T19:56:37.711Z"
   },
   {
    "duration": 24,
    "start_time": "2023-07-12T19:56:37.731Z"
   },
   {
    "duration": 44,
    "start_time": "2023-07-12T19:56:37.756Z"
   },
   {
    "duration": 26,
    "start_time": "2023-07-12T19:56:37.802Z"
   },
   {
    "duration": 41,
    "start_time": "2023-07-12T19:56:37.835Z"
   },
   {
    "duration": 24,
    "start_time": "2023-07-12T19:56:37.880Z"
   },
   {
    "duration": 34,
    "start_time": "2023-07-12T19:56:37.906Z"
   },
   {
    "duration": 30,
    "start_time": "2023-07-12T19:56:37.942Z"
   },
   {
    "duration": 41,
    "start_time": "2023-07-12T19:56:37.974Z"
   },
   {
    "duration": 31,
    "start_time": "2023-07-12T19:56:38.016Z"
   },
   {
    "duration": 42,
    "start_time": "2023-07-12T19:56:38.049Z"
   },
   {
    "duration": 27,
    "start_time": "2023-07-12T19:56:38.092Z"
   },
   {
    "duration": 72,
    "start_time": "2023-07-12T19:56:38.121Z"
   },
   {
    "duration": 29,
    "start_time": "2023-07-12T19:56:38.203Z"
   },
   {
    "duration": 4,
    "start_time": "2023-07-12T19:56:38.234Z"
   },
   {
    "duration": 358,
    "start_time": "2023-07-12T19:56:38.240Z"
   },
   {
    "duration": 173,
    "start_time": "2023-07-12T19:56:38.602Z"
   },
   {
    "duration": 164,
    "start_time": "2023-07-12T19:56:38.782Z"
   },
   {
    "duration": 286,
    "start_time": "2023-07-12T19:56:38.948Z"
   },
   {
    "duration": 253,
    "start_time": "2023-07-12T19:56:39.235Z"
   },
   {
    "duration": 387,
    "start_time": "2023-07-12T19:56:39.493Z"
   },
   {
    "duration": 310,
    "start_time": "2023-07-12T19:56:39.887Z"
   },
   {
    "duration": 207,
    "start_time": "2023-07-12T19:56:40.203Z"
   },
   {
    "duration": 226,
    "start_time": "2023-07-12T19:56:40.412Z"
   },
   {
    "duration": 566,
    "start_time": "2023-07-12T19:56:40.640Z"
   },
   {
    "duration": 543,
    "start_time": "2023-07-12T19:56:41.207Z"
   },
   {
    "duration": 908,
    "start_time": "2023-07-12T19:56:41.751Z"
   },
   {
    "duration": 13,
    "start_time": "2023-07-12T19:56:42.661Z"
   },
   {
    "duration": 14,
    "start_time": "2023-07-12T19:56:42.680Z"
   },
   {
    "duration": 15,
    "start_time": "2023-07-12T19:56:42.700Z"
   },
   {
    "duration": 3876,
    "start_time": "2023-07-12T19:58:48.992Z"
   },
   {
    "duration": 108,
    "start_time": "2023-07-12T19:58:52.873Z"
   },
   {
    "duration": 1566,
    "start_time": "2023-07-12T19:58:52.991Z"
   },
   {
    "duration": 27,
    "start_time": "2023-07-12T19:58:54.559Z"
   },
   {
    "duration": 29,
    "start_time": "2023-07-12T19:58:54.594Z"
   },
   {
    "duration": 51,
    "start_time": "2023-07-12T19:58:54.625Z"
   },
   {
    "duration": 6,
    "start_time": "2023-07-12T19:58:54.678Z"
   },
   {
    "duration": 37,
    "start_time": "2023-07-12T19:58:54.686Z"
   },
   {
    "duration": 13,
    "start_time": "2023-07-12T19:58:54.725Z"
   },
   {
    "duration": 18,
    "start_time": "2023-07-12T19:58:54.739Z"
   },
   {
    "duration": 22,
    "start_time": "2023-07-12T19:58:54.758Z"
   },
   {
    "duration": 4,
    "start_time": "2023-07-12T19:58:54.782Z"
   },
   {
    "duration": 25,
    "start_time": "2023-07-12T19:58:54.791Z"
   },
   {
    "duration": 12,
    "start_time": "2023-07-12T19:58:54.818Z"
   },
   {
    "duration": 18,
    "start_time": "2023-07-12T19:58:54.831Z"
   },
   {
    "duration": 16,
    "start_time": "2023-07-12T19:58:54.850Z"
   },
   {
    "duration": 2,
    "start_time": "2023-07-12T19:58:54.868Z"
   },
   {
    "duration": 10,
    "start_time": "2023-07-12T19:58:54.871Z"
   },
   {
    "duration": 25,
    "start_time": "2023-07-12T19:58:54.882Z"
   },
   {
    "duration": 5,
    "start_time": "2023-07-12T19:58:54.908Z"
   },
   {
    "duration": 6,
    "start_time": "2023-07-12T19:58:54.915Z"
   },
   {
    "duration": 37,
    "start_time": "2023-07-12T19:58:54.922Z"
   },
   {
    "duration": 49,
    "start_time": "2023-07-12T19:58:54.961Z"
   },
   {
    "duration": 4,
    "start_time": "2023-07-12T19:58:55.012Z"
   },
   {
    "duration": 310,
    "start_time": "2023-07-12T19:58:55.017Z"
   },
   {
    "duration": 185,
    "start_time": "2023-07-12T19:58:55.329Z"
   },
   {
    "duration": 221,
    "start_time": "2023-07-12T19:58:55.516Z"
   },
   {
    "duration": 311,
    "start_time": "2023-07-12T19:58:55.739Z"
   },
   {
    "duration": 357,
    "start_time": "2023-07-12T19:58:56.051Z"
   },
   {
    "duration": 404,
    "start_time": "2023-07-12T19:58:56.410Z"
   },
   {
    "duration": 307,
    "start_time": "2023-07-12T19:58:56.817Z"
   },
   {
    "duration": 234,
    "start_time": "2023-07-12T19:58:57.125Z"
   },
   {
    "duration": 230,
    "start_time": "2023-07-12T19:58:57.360Z"
   },
   {
    "duration": 556,
    "start_time": "2023-07-12T19:58:57.592Z"
   },
   {
    "duration": 548,
    "start_time": "2023-07-12T19:58:58.150Z"
   },
   {
    "duration": 889,
    "start_time": "2023-07-12T19:58:58.700Z"
   },
   {
    "duration": 11,
    "start_time": "2023-07-12T19:58:59.593Z"
   },
   {
    "duration": 9,
    "start_time": "2023-07-12T19:58:59.608Z"
   },
   {
    "duration": 8,
    "start_time": "2023-07-12T19:58:59.618Z"
   },
   {
    "duration": 126,
    "start_time": "2023-07-12T20:10:20.002Z"
   },
   {
    "duration": 14,
    "start_time": "2023-07-12T20:10:36.915Z"
   },
   {
    "duration": 16,
    "start_time": "2023-07-12T20:11:57.145Z"
   },
   {
    "duration": 21,
    "start_time": "2023-07-12T20:12:48.770Z"
   },
   {
    "duration": 16,
    "start_time": "2023-07-12T20:13:08.399Z"
   },
   {
    "duration": 67,
    "start_time": "2023-07-12T20:13:15.800Z"
   },
   {
    "duration": 26,
    "start_time": "2023-07-12T20:13:46.261Z"
   },
   {
    "duration": 14,
    "start_time": "2023-07-12T20:13:52.328Z"
   },
   {
    "duration": 179,
    "start_time": "2023-07-12T20:14:43.911Z"
   },
   {
    "duration": 14,
    "start_time": "2023-07-12T20:15:17.028Z"
   },
   {
    "duration": 23,
    "start_time": "2023-07-12T20:15:41.883Z"
   },
   {
    "duration": 27,
    "start_time": "2023-07-12T20:16:44.199Z"
   },
   {
    "duration": 20,
    "start_time": "2023-07-12T20:24:30.306Z"
   },
   {
    "duration": 7,
    "start_time": "2023-07-12T20:26:25.144Z"
   },
   {
    "duration": 17,
    "start_time": "2023-07-12T20:26:27.910Z"
   },
   {
    "duration": 19,
    "start_time": "2023-07-12T20:26:43.122Z"
   },
   {
    "duration": 25,
    "start_time": "2023-07-12T20:26:50.602Z"
   },
   {
    "duration": 14,
    "start_time": "2023-07-12T20:26:56.018Z"
   },
   {
    "duration": 28,
    "start_time": "2023-07-12T20:30:34.666Z"
   },
   {
    "duration": 16,
    "start_time": "2023-07-12T20:30:46.713Z"
   },
   {
    "duration": 19,
    "start_time": "2023-07-12T20:31:12.758Z"
   },
   {
    "duration": 3956,
    "start_time": "2023-07-12T20:55:06.622Z"
   },
   {
    "duration": 71,
    "start_time": "2023-07-12T20:55:10.588Z"
   },
   {
    "duration": 1566,
    "start_time": "2023-07-12T20:55:10.661Z"
   },
   {
    "duration": 7,
    "start_time": "2023-07-12T20:55:12.230Z"
   },
   {
    "duration": 45,
    "start_time": "2023-07-12T20:55:12.238Z"
   },
   {
    "duration": 54,
    "start_time": "2023-07-12T20:55:12.287Z"
   },
   {
    "duration": 5,
    "start_time": "2023-07-12T20:55:12.342Z"
   },
   {
    "duration": 44,
    "start_time": "2023-07-12T20:55:12.348Z"
   },
   {
    "duration": 11,
    "start_time": "2023-07-12T20:55:12.394Z"
   },
   {
    "duration": 6,
    "start_time": "2023-07-12T20:55:12.413Z"
   },
   {
    "duration": 12,
    "start_time": "2023-07-12T20:55:12.421Z"
   },
   {
    "duration": 10,
    "start_time": "2023-07-12T20:55:12.434Z"
   },
   {
    "duration": 15,
    "start_time": "2023-07-12T20:55:12.445Z"
   },
   {
    "duration": 7,
    "start_time": "2023-07-12T20:55:12.462Z"
   },
   {
    "duration": 29,
    "start_time": "2023-07-12T20:55:12.471Z"
   },
   {
    "duration": 11,
    "start_time": "2023-07-12T20:55:12.510Z"
   },
   {
    "duration": 2,
    "start_time": "2023-07-12T20:55:12.523Z"
   },
   {
    "duration": 8,
    "start_time": "2023-07-12T20:55:12.526Z"
   },
   {
    "duration": 8,
    "start_time": "2023-07-12T20:55:12.535Z"
   },
   {
    "duration": 10,
    "start_time": "2023-07-12T20:55:12.545Z"
   },
   {
    "duration": 22,
    "start_time": "2023-07-12T20:55:12.557Z"
   },
   {
    "duration": 48,
    "start_time": "2023-07-12T20:55:12.584Z"
   },
   {
    "duration": 29,
    "start_time": "2023-07-12T20:55:12.634Z"
   },
   {
    "duration": 15,
    "start_time": "2023-07-12T20:55:12.676Z"
   },
   {
    "duration": 323,
    "start_time": "2023-07-12T20:55:12.700Z"
   },
   {
    "duration": 210,
    "start_time": "2023-07-12T20:55:13.025Z"
   },
   {
    "duration": 178,
    "start_time": "2023-07-12T20:55:13.237Z"
   },
   {
    "duration": 302,
    "start_time": "2023-07-12T20:55:13.419Z"
   },
   {
    "duration": 294,
    "start_time": "2023-07-12T20:55:13.723Z"
   },
   {
    "duration": 471,
    "start_time": "2023-07-12T20:55:14.020Z"
   },
   {
    "duration": 308,
    "start_time": "2023-07-12T20:55:14.495Z"
   },
   {
    "duration": 210,
    "start_time": "2023-07-12T20:55:14.805Z"
   },
   {
    "duration": 258,
    "start_time": "2023-07-12T20:55:15.017Z"
   },
   {
    "duration": 568,
    "start_time": "2023-07-12T20:55:15.276Z"
   },
   {
    "duration": 544,
    "start_time": "2023-07-12T20:55:15.845Z"
   },
   {
    "duration": 882,
    "start_time": "2023-07-12T20:55:16.395Z"
   },
   {
    "duration": 13,
    "start_time": "2023-07-12T20:55:17.278Z"
   },
   {
    "duration": 20,
    "start_time": "2023-07-12T20:55:17.293Z"
   },
   {
    "duration": 12,
    "start_time": "2023-07-12T20:55:17.315Z"
   },
   {
    "duration": 180,
    "start_time": "2023-07-12T20:55:17.329Z"
   },
   {
    "duration": 13,
    "start_time": "2023-07-12T20:55:17.511Z"
   },
   {
    "duration": 16,
    "start_time": "2023-07-12T20:55:17.525Z"
   },
   {
    "duration": 16,
    "start_time": "2023-07-12T20:55:17.542Z"
   },
   {
    "duration": 3892,
    "start_time": "2023-07-12T21:12:22.460Z"
   },
   {
    "duration": 110,
    "start_time": "2023-07-12T21:12:26.355Z"
   },
   {
    "duration": 1574,
    "start_time": "2023-07-12T21:12:26.466Z"
   },
   {
    "duration": 6,
    "start_time": "2023-07-12T21:12:28.042Z"
   },
   {
    "duration": 47,
    "start_time": "2023-07-12T21:12:28.050Z"
   },
   {
    "duration": 50,
    "start_time": "2023-07-12T21:12:28.100Z"
   },
   {
    "duration": 5,
    "start_time": "2023-07-12T21:12:28.152Z"
   },
   {
    "duration": 44,
    "start_time": "2023-07-12T21:12:28.169Z"
   },
   {
    "duration": 11,
    "start_time": "2023-07-12T21:12:28.215Z"
   },
   {
    "duration": 15,
    "start_time": "2023-07-12T21:12:28.228Z"
   },
   {
    "duration": 19,
    "start_time": "2023-07-12T21:12:28.244Z"
   },
   {
    "duration": 30,
    "start_time": "2023-07-12T21:12:28.264Z"
   },
   {
    "duration": 7,
    "start_time": "2023-07-12T21:12:28.296Z"
   },
   {
    "duration": 24,
    "start_time": "2023-07-12T21:12:28.304Z"
   },
   {
    "duration": 13,
    "start_time": "2023-07-12T21:12:28.330Z"
   },
   {
    "duration": 50,
    "start_time": "2023-07-12T21:12:28.344Z"
   },
   {
    "duration": 3,
    "start_time": "2023-07-12T21:12:28.396Z"
   },
   {
    "duration": 7,
    "start_time": "2023-07-12T21:12:28.400Z"
   },
   {
    "duration": 8,
    "start_time": "2023-07-12T21:12:28.408Z"
   },
   {
    "duration": 16,
    "start_time": "2023-07-12T21:12:28.418Z"
   },
   {
    "duration": 15,
    "start_time": "2023-07-12T21:12:28.435Z"
   },
   {
    "duration": 61,
    "start_time": "2023-07-12T21:12:28.452Z"
   },
   {
    "duration": 27,
    "start_time": "2023-07-12T21:12:28.515Z"
   },
   {
    "duration": 4,
    "start_time": "2023-07-12T21:12:28.543Z"
   },
   {
    "duration": 326,
    "start_time": "2023-07-12T21:12:28.549Z"
   },
   {
    "duration": 176,
    "start_time": "2023-07-12T21:12:28.877Z"
   },
   {
    "duration": 195,
    "start_time": "2023-07-12T21:12:29.055Z"
   },
   {
    "duration": 318,
    "start_time": "2023-07-12T21:12:29.253Z"
   },
   {
    "duration": 275,
    "start_time": "2023-07-12T21:12:29.579Z"
   },
   {
    "duration": 455,
    "start_time": "2023-07-12T21:12:29.856Z"
   },
   {
    "duration": 357,
    "start_time": "2023-07-12T21:12:30.313Z"
   },
   {
    "duration": 234,
    "start_time": "2023-07-12T21:12:30.673Z"
   },
   {
    "duration": 230,
    "start_time": "2023-07-12T21:12:30.909Z"
   },
   {
    "duration": 564,
    "start_time": "2023-07-12T21:12:31.140Z"
   },
   {
    "duration": 532,
    "start_time": "2023-07-12T21:12:31.705Z"
   },
   {
    "duration": 950,
    "start_time": "2023-07-12T21:12:32.239Z"
   },
   {
    "duration": 10,
    "start_time": "2023-07-12T21:12:33.193Z"
   },
   {
    "duration": 10,
    "start_time": "2023-07-12T21:12:33.205Z"
   },
   {
    "duration": 8,
    "start_time": "2023-07-12T21:12:33.217Z"
   },
   {
    "duration": 146,
    "start_time": "2023-07-12T21:12:33.226Z"
   },
   {
    "duration": 24,
    "start_time": "2023-07-12T21:12:33.375Z"
   },
   {
    "duration": 14,
    "start_time": "2023-07-12T21:12:33.401Z"
   },
   {
    "duration": 12,
    "start_time": "2023-07-12T21:12:33.417Z"
   },
   {
    "duration": 4019,
    "start_time": "2023-07-12T21:24:28.599Z"
   },
   {
    "duration": 113,
    "start_time": "2023-07-12T21:24:32.620Z"
   },
   {
    "duration": 1690,
    "start_time": "2023-07-12T21:24:32.735Z"
   },
   {
    "duration": 7,
    "start_time": "2023-07-12T21:24:34.427Z"
   },
   {
    "duration": 47,
    "start_time": "2023-07-12T21:24:34.436Z"
   },
   {
    "duration": 56,
    "start_time": "2023-07-12T21:24:34.485Z"
   },
   {
    "duration": 4,
    "start_time": "2023-07-12T21:24:34.543Z"
   },
   {
    "duration": 44,
    "start_time": "2023-07-12T21:24:34.548Z"
   },
   {
    "duration": 7,
    "start_time": "2023-07-12T21:24:34.593Z"
   },
   {
    "duration": 7,
    "start_time": "2023-07-12T21:24:34.602Z"
   },
   {
    "duration": 7,
    "start_time": "2023-07-12T21:24:34.611Z"
   },
   {
    "duration": 4,
    "start_time": "2023-07-12T21:24:34.619Z"
   },
   {
    "duration": 45,
    "start_time": "2023-07-12T21:24:34.625Z"
   },
   {
    "duration": 7,
    "start_time": "2023-07-12T21:24:34.679Z"
   },
   {
    "duration": 5,
    "start_time": "2023-07-12T21:24:34.688Z"
   },
   {
    "duration": 9,
    "start_time": "2023-07-12T21:24:34.695Z"
   },
   {
    "duration": 2,
    "start_time": "2023-07-12T21:24:34.705Z"
   },
   {
    "duration": 4,
    "start_time": "2023-07-12T21:24:34.709Z"
   },
   {
    "duration": 7,
    "start_time": "2023-07-12T21:24:34.715Z"
   },
   {
    "duration": 8,
    "start_time": "2023-07-12T21:24:34.723Z"
   },
   {
    "duration": 41,
    "start_time": "2023-07-12T21:24:34.733Z"
   },
   {
    "duration": 40,
    "start_time": "2023-07-12T21:24:34.777Z"
   },
   {
    "duration": 59,
    "start_time": "2023-07-12T21:24:34.819Z"
   },
   {
    "duration": 7,
    "start_time": "2023-07-12T21:24:34.881Z"
   },
   {
    "duration": 336,
    "start_time": "2023-07-12T21:24:34.890Z"
   },
   {
    "duration": 201,
    "start_time": "2023-07-12T21:24:35.228Z"
   },
   {
    "duration": 187,
    "start_time": "2023-07-12T21:24:35.431Z"
   },
   {
    "duration": 314,
    "start_time": "2023-07-12T21:24:35.620Z"
   },
   {
    "duration": 312,
    "start_time": "2023-07-12T21:24:35.936Z"
   },
   {
    "duration": 403,
    "start_time": "2023-07-12T21:24:36.249Z"
   },
   {
    "duration": 313,
    "start_time": "2023-07-12T21:24:36.653Z"
   },
   {
    "duration": 224,
    "start_time": "2023-07-12T21:24:36.967Z"
   },
   {
    "duration": 249,
    "start_time": "2023-07-12T21:24:37.192Z"
   },
   {
    "duration": 576,
    "start_time": "2023-07-12T21:24:37.443Z"
   },
   {
    "duration": 564,
    "start_time": "2023-07-12T21:24:38.021Z"
   },
   {
    "duration": 850,
    "start_time": "2023-07-12T21:24:38.586Z"
   },
   {
    "duration": 9,
    "start_time": "2023-07-12T21:24:39.437Z"
   },
   {
    "duration": 12,
    "start_time": "2023-07-12T21:24:39.448Z"
   },
   {
    "duration": 10,
    "start_time": "2023-07-12T21:24:39.469Z"
   },
   {
    "duration": 127,
    "start_time": "2023-07-12T21:24:39.482Z"
   },
   {
    "duration": 16,
    "start_time": "2023-07-12T21:24:39.613Z"
   },
   {
    "duration": 12,
    "start_time": "2023-07-12T21:24:39.630Z"
   },
   {
    "duration": 37,
    "start_time": "2023-07-12T21:24:39.643Z"
   },
   {
    "duration": 4046,
    "start_time": "2023-07-12T21:26:59.109Z"
   },
   {
    "duration": 69,
    "start_time": "2023-07-12T21:27:03.158Z"
   },
   {
    "duration": 1494,
    "start_time": "2023-07-12T21:27:03.228Z"
   },
   {
    "duration": 8,
    "start_time": "2023-07-12T21:27:04.724Z"
   },
   {
    "duration": 44,
    "start_time": "2023-07-12T21:27:04.734Z"
   },
   {
    "duration": 51,
    "start_time": "2023-07-12T21:27:04.781Z"
   },
   {
    "duration": 4,
    "start_time": "2023-07-12T21:27:04.833Z"
   },
   {
    "duration": 47,
    "start_time": "2023-07-12T21:27:04.839Z"
   },
   {
    "duration": 7,
    "start_time": "2023-07-12T21:27:04.888Z"
   },
   {
    "duration": 7,
    "start_time": "2023-07-12T21:27:04.897Z"
   },
   {
    "duration": 10,
    "start_time": "2023-07-12T21:27:04.906Z"
   },
   {
    "duration": 5,
    "start_time": "2023-07-12T21:27:04.917Z"
   },
   {
    "duration": 8,
    "start_time": "2023-07-12T21:27:04.923Z"
   },
   {
    "duration": 33,
    "start_time": "2023-07-12T21:27:04.935Z"
   },
   {
    "duration": 6,
    "start_time": "2023-07-12T21:27:04.970Z"
   },
   {
    "duration": 13,
    "start_time": "2023-07-12T21:27:04.977Z"
   },
   {
    "duration": 2,
    "start_time": "2023-07-12T21:27:04.992Z"
   },
   {
    "duration": 14,
    "start_time": "2023-07-12T21:27:04.995Z"
   },
   {
    "duration": 35,
    "start_time": "2023-07-12T21:27:05.010Z"
   },
   {
    "duration": 38,
    "start_time": "2023-07-12T21:27:05.046Z"
   },
   {
    "duration": 19,
    "start_time": "2023-07-12T21:27:05.086Z"
   },
   {
    "duration": 50,
    "start_time": "2023-07-12T21:27:05.107Z"
   },
   {
    "duration": 34,
    "start_time": "2023-07-12T21:27:05.159Z"
   },
   {
    "duration": 4,
    "start_time": "2023-07-12T21:27:05.195Z"
   },
   {
    "duration": 310,
    "start_time": "2023-07-12T21:27:05.200Z"
   },
   {
    "duration": 173,
    "start_time": "2023-07-12T21:27:05.511Z"
   },
   {
    "duration": 173,
    "start_time": "2023-07-12T21:27:05.686Z"
   },
   {
    "duration": 267,
    "start_time": "2023-07-12T21:27:05.861Z"
   },
   {
    "duration": 241,
    "start_time": "2023-07-12T21:27:06.129Z"
   },
   {
    "duration": 385,
    "start_time": "2023-07-12T21:27:06.372Z"
   },
   {
    "duration": 281,
    "start_time": "2023-07-12T21:27:06.758Z"
   },
   {
    "duration": 214,
    "start_time": "2023-07-12T21:27:07.040Z"
   },
   {
    "duration": 238,
    "start_time": "2023-07-12T21:27:07.256Z"
   },
   {
    "duration": 528,
    "start_time": "2023-07-12T21:27:07.495Z"
   },
   {
    "duration": 512,
    "start_time": "2023-07-12T21:27:08.025Z"
   },
   {
    "duration": 883,
    "start_time": "2023-07-12T21:27:08.539Z"
   },
   {
    "duration": 8,
    "start_time": "2023-07-12T21:27:09.423Z"
   },
   {
    "duration": 7,
    "start_time": "2023-07-12T21:27:09.433Z"
   },
   {
    "duration": 31,
    "start_time": "2023-07-12T21:27:09.442Z"
   },
   {
    "duration": 137,
    "start_time": "2023-07-12T21:27:09.476Z"
   },
   {
    "duration": 13,
    "start_time": "2023-07-12T21:27:09.617Z"
   },
   {
    "duration": 13,
    "start_time": "2023-07-12T21:27:09.631Z"
   },
   {
    "duration": 37,
    "start_time": "2023-07-12T21:27:09.646Z"
   },
   {
    "duration": 3780,
    "start_time": "2023-07-12T21:29:09.504Z"
   },
   {
    "duration": 82,
    "start_time": "2023-07-12T21:29:13.287Z"
   },
   {
    "duration": 1638,
    "start_time": "2023-07-12T21:29:13.371Z"
   },
   {
    "duration": 7,
    "start_time": "2023-07-12T21:29:15.011Z"
   },
   {
    "duration": 80,
    "start_time": "2023-07-12T21:29:15.020Z"
   },
   {
    "duration": 58,
    "start_time": "2023-07-12T21:29:15.101Z"
   },
   {
    "duration": 27,
    "start_time": "2023-07-12T21:29:15.160Z"
   },
   {
    "duration": 23,
    "start_time": "2023-07-12T21:29:15.189Z"
   },
   {
    "duration": 6,
    "start_time": "2023-07-12T21:29:15.213Z"
   },
   {
    "duration": 12,
    "start_time": "2023-07-12T21:29:15.221Z"
   },
   {
    "duration": 9,
    "start_time": "2023-07-12T21:29:15.235Z"
   },
   {
    "duration": 4,
    "start_time": "2023-07-12T21:29:15.246Z"
   },
   {
    "duration": 31,
    "start_time": "2023-07-12T21:29:15.251Z"
   },
   {
    "duration": 6,
    "start_time": "2023-07-12T21:29:15.287Z"
   },
   {
    "duration": 7,
    "start_time": "2023-07-12T21:29:15.295Z"
   },
   {
    "duration": 13,
    "start_time": "2023-07-12T21:29:15.303Z"
   },
   {
    "duration": 3,
    "start_time": "2023-07-12T21:29:15.317Z"
   },
   {
    "duration": 5,
    "start_time": "2023-07-12T21:29:15.321Z"
   },
   {
    "duration": 9,
    "start_time": "2023-07-12T21:29:15.327Z"
   },
   {
    "duration": 7,
    "start_time": "2023-07-12T21:29:15.337Z"
   },
   {
    "duration": 14,
    "start_time": "2023-07-12T21:29:15.375Z"
   },
   {
    "duration": 38,
    "start_time": "2023-07-12T21:29:15.391Z"
   },
   {
    "duration": 40,
    "start_time": "2023-07-12T21:29:15.430Z"
   },
   {
    "duration": 6,
    "start_time": "2023-07-12T21:29:15.472Z"
   },
   {
    "duration": 325,
    "start_time": "2023-07-12T21:29:15.481Z"
   },
   {
    "duration": 209,
    "start_time": "2023-07-12T21:29:15.808Z"
   },
   {
    "duration": 185,
    "start_time": "2023-07-12T21:29:16.019Z"
   },
   {
    "duration": 284,
    "start_time": "2023-07-12T21:29:16.205Z"
   },
   {
    "duration": 253,
    "start_time": "2023-07-12T21:29:16.490Z"
   },
   {
    "duration": 418,
    "start_time": "2023-07-12T21:29:16.745Z"
   },
   {
    "duration": 300,
    "start_time": "2023-07-12T21:29:17.165Z"
   },
   {
    "duration": 232,
    "start_time": "2023-07-12T21:29:17.468Z"
   },
   {
    "duration": 227,
    "start_time": "2023-07-12T21:29:17.702Z"
   },
   {
    "duration": 549,
    "start_time": "2023-07-12T21:29:17.930Z"
   },
   {
    "duration": 533,
    "start_time": "2023-07-12T21:29:18.484Z"
   },
   {
    "duration": 904,
    "start_time": "2023-07-12T21:29:19.018Z"
   },
   {
    "duration": 9,
    "start_time": "2023-07-12T21:29:19.924Z"
   },
   {
    "duration": 8,
    "start_time": "2023-07-12T21:29:19.935Z"
   },
   {
    "duration": 34,
    "start_time": "2023-07-12T21:29:19.945Z"
   },
   {
    "duration": 143,
    "start_time": "2023-07-12T21:29:19.981Z"
   },
   {
    "duration": 26,
    "start_time": "2023-07-12T21:29:20.128Z"
   },
   {
    "duration": 31,
    "start_time": "2023-07-12T21:29:20.156Z"
   },
   {
    "duration": 13,
    "start_time": "2023-07-12T21:29:20.189Z"
   }
  ],
  "kernelspec": {
   "display_name": "Python 3 (ipykernel)",
   "language": "python",
   "name": "python3"
  },
  "language_info": {
   "codemirror_mode": {
    "name": "ipython",
    "version": 3
   },
   "file_extension": ".py",
   "mimetype": "text/x-python",
   "name": "python",
   "nbconvert_exporter": "python",
   "pygments_lexer": "ipython3",
   "version": "3.9.5"
  },
  "toc": {
   "base_numbering": 1,
   "nav_menu": {},
   "number_sections": true,
   "sideBar": true,
   "skip_h1_title": true,
   "title_cell": "Table of Contents",
   "title_sidebar": "Contents",
   "toc_cell": false,
   "toc_position": {},
   "toc_section_display": true,
   "toc_window_display": false
  }
 },
 "nbformat": 4,
 "nbformat_minor": 2
}
